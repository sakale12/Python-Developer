{
 "cells": [
  {
   "cell_type": "markdown",
   "id": "eecf3e75",
   "metadata": {},
   "source": [
    "## Boolean values"
   ]
  },
  {
   "cell_type": "code",
   "execution_count": 25,
   "id": "b442d58d",
   "metadata": {},
   "outputs": [
    {
     "name": "stdout",
     "output_type": "stream",
     "text": [
      "True\n",
      "False\n",
      "False\n"
     ]
    }
   ],
   "source": [
    "print(3>2)\n",
    "print(3==2)\n",
    "print(3>4)"
   ]
  },
  {
   "cell_type": "code",
   "execution_count": 26,
   "id": "0671d71e",
   "metadata": {},
   "outputs": [
    {
     "name": "stdout",
     "output_type": "stream",
     "text": [
      "a is greater than b\n"
     ]
    }
   ],
   "source": [
    "a=10\n",
    "b=4\n",
    "if a>b:\n",
    "    print(\"a is greater than b\")\n",
    "else:\n",
    "    print(\"a is not grater than b\")"
   ]
  },
  {
   "cell_type": "code",
   "execution_count": 29,
   "id": "b500d140",
   "metadata": {},
   "outputs": [
    {
     "name": "stdout",
     "output_type": "stream",
     "text": [
      "True\n",
      "False\n"
     ]
    }
   ],
   "source": [
    "x=\"happy\"\n",
    "y=0\n",
    "print(bool(x))\n",
    "print(bool(y))"
   ]
  },
  {
   "cell_type": "code",
   "execution_count": 32,
   "id": "ba33601b",
   "metadata": {},
   "outputs": [
    {
     "name": "stdout",
     "output_type": "stream",
     "text": [
      "False\n",
      "False\n"
     ]
    }
   ],
   "source": [
    "l=[]\n",
    "print(bool(l))\n",
    "s={}\n",
    "print(bool(s))"
   ]
  },
  {
   "cell_type": "code",
   "execution_count": 28,
   "id": "3d8005fd",
   "metadata": {},
   "outputs": [
    {
     "name": "stdout",
     "output_type": "stream",
     "text": [
      "False\n"
     ]
    }
   ],
   "source": [
    "x=\"\"\n",
    "print(bool(x))"
   ]
  },
  {
   "cell_type": "markdown",
   "id": "ffe4df39",
   "metadata": {},
   "source": [
    "## Operators"
   ]
  },
  {
   "cell_type": "markdown",
   "id": "5fe8f709",
   "metadata": {},
   "source": [
    "- 1) Arithmetic operators"
   ]
  },
  {
   "cell_type": "code",
   "execution_count": 33,
   "id": "555105fb",
   "metadata": {},
   "outputs": [
    {
     "name": "stdout",
     "output_type": "stream",
     "text": [
      "89\n",
      "-21\n",
      "1870\n",
      "0.6181818181818182\n",
      "0\n",
      "34\n",
      "1703493329567268465942478062534694113318852014472240119495402716475481522933726183424\n"
     ]
    }
   ],
   "source": [
    "x=34\n",
    "y=55\n",
    "print(x+y)  #addition\n",
    "print(x-y)   # sub\n",
    "print(x*y)  # mul\n",
    "print(x/y)  # div\n",
    "print(x//y)  # floor div\n",
    "print(x%y)  # mod div\n",
    "print(x**y)  # power"
   ]
  },
  {
   "cell_type": "markdown",
   "id": "810211e5",
   "metadata": {},
   "source": [
    "- 2) assignment operators"
   ]
  },
  {
   "cell_type": "code",
   "execution_count": 35,
   "id": "a1c193a8",
   "metadata": {},
   "outputs": [],
   "source": [
    "x=9\n",
    "x+=9 # x=x+9"
   ]
  },
  {
   "cell_type": "code",
   "execution_count": 36,
   "id": "2ffe323a",
   "metadata": {},
   "outputs": [
    {
     "data": {
      "text/plain": [
       "18"
      ]
     },
     "execution_count": 36,
     "metadata": {},
     "output_type": "execute_result"
    }
   ],
   "source": [
    "x"
   ]
  },
  {
   "cell_type": "code",
   "execution_count": 38,
   "id": "28ab178a",
   "metadata": {},
   "outputs": [
    {
     "data": {
      "text/plain": [
       "0"
      ]
     },
     "execution_count": 38,
     "metadata": {},
     "output_type": "execute_result"
    }
   ],
   "source": [
    "x-=9  # x=x-9\n",
    "x"
   ]
  },
  {
   "cell_type": "code",
   "execution_count": 40,
   "id": "e50fa598",
   "metadata": {},
   "outputs": [
    {
     "data": {
      "text/plain": [
       "27"
      ]
     },
     "execution_count": 40,
     "metadata": {},
     "output_type": "execute_result"
    }
   ],
   "source": [
    "x=3\n",
    "x*=9  # x=x*9\n",
    "x"
   ]
  },
  {
   "cell_type": "code",
   "execution_count": 41,
   "id": "cbbd4d90",
   "metadata": {},
   "outputs": [
    {
     "data": {
      "text/plain": [
       "0.5"
      ]
     },
     "execution_count": 41,
     "metadata": {},
     "output_type": "execute_result"
    }
   ],
   "source": [
    "x=3\n",
    "x/=6  # x=x/6\n",
    "x"
   ]
  },
  {
   "cell_type": "code",
   "execution_count": 42,
   "id": "c4c9fc12",
   "metadata": {},
   "outputs": [
    {
     "data": {
      "text/plain": [
       "1"
      ]
     },
     "execution_count": 42,
     "metadata": {},
     "output_type": "execute_result"
    }
   ],
   "source": [
    "x=6\n",
    "x%=5  # x=x%5\n",
    "x"
   ]
  },
  {
   "cell_type": "code",
   "execution_count": 43,
   "id": "6a4b50aa",
   "metadata": {},
   "outputs": [
    {
     "data": {
      "text/plain": [
       "1"
      ]
     },
     "execution_count": 43,
     "metadata": {},
     "output_type": "execute_result"
    }
   ],
   "source": [
    "x=9\n",
    "x//=7  #x=x//7\n",
    "x"
   ]
  },
  {
   "cell_type": "code",
   "execution_count": 44,
   "id": "e8bad2f4",
   "metadata": {},
   "outputs": [
    {
     "data": {
      "text/plain": [
       "1296"
      ]
     },
     "execution_count": 44,
     "metadata": {},
     "output_type": "execute_result"
    }
   ],
   "source": [
    "x=6\n",
    "x**=4  # x=x**4\n",
    "x"
   ]
  },
  {
   "cell_type": "markdown",
   "id": "930252b5",
   "metadata": {},
   "source": [
    "- 3) Comparision operators"
   ]
  },
  {
   "cell_type": "code",
   "execution_count": 48,
   "id": "16ae8a6a",
   "metadata": {},
   "outputs": [
    {
     "name": "stdout",
     "output_type": "stream",
     "text": [
      "True\n",
      "False\n",
      "True\n",
      "False\n",
      "True\n"
     ]
    }
   ],
   "source": [
    "x=7\n",
    "y=5\n",
    "print(x>5)  # greater than\n",
    "print(x<5)  # less than\n",
    "print(x>=5)  # grater than or  equal \n",
    "print(x<=5)  # less than o equal\n",
    "print(x!=5)  # not equal"
   ]
  },
  {
   "cell_type": "markdown",
   "id": "3ce6207f",
   "metadata": {},
   "source": [
    "- 4) Logical operators"
   ]
  },
  {
   "cell_type": "code",
   "execution_count": 51,
   "id": "7f39ecc6",
   "metadata": {},
   "outputs": [
    {
     "name": "stdout",
     "output_type": "stream",
     "text": [
      "False\n",
      "True\n",
      "True\n"
     ]
    }
   ],
   "source": [
    "x=True\n",
    "y=False\n",
    "print(x and y)\n",
    "print(x or y)\n",
    "print(not y)"
   ]
  },
  {
   "cell_type": "markdown",
   "id": "3759042b",
   "metadata": {},
   "source": [
    "- 5) Identity operator"
   ]
  },
  {
   "cell_type": "code",
   "execution_count": 54,
   "id": "b351ddfc",
   "metadata": {},
   "outputs": [
    {
     "name": "stdout",
     "output_type": "stream",
     "text": [
      "True\n",
      "False\n"
     ]
    }
   ],
   "source": [
    "x=6\n",
    "y=7\n",
    "print(x is not y)\n",
    "print(x is y)"
   ]
  },
  {
   "cell_type": "markdown",
   "id": "a156987a",
   "metadata": {},
   "source": [
    "- 6) Membership operator"
   ]
  },
  {
   "cell_type": "code",
   "execution_count": 58,
   "id": "beb6a22a",
   "metadata": {},
   "outputs": [
    {
     "data": {
      "text/plain": [
       "True"
      ]
     },
     "execution_count": 58,
     "metadata": {},
     "output_type": "execute_result"
    }
   ],
   "source": [
    "s=\"python\"\n",
    "'u' not in s"
   ]
  },
  {
   "cell_type": "code",
   "execution_count": 59,
   "id": "479f1c98",
   "metadata": {},
   "outputs": [
    {
     "data": {
      "text/plain": [
       "True"
      ]
     },
     "execution_count": 59,
     "metadata": {},
     "output_type": "execute_result"
    }
   ],
   "source": [
    "\"y\" in s"
   ]
  },
  {
   "cell_type": "markdown",
   "id": "99e6ced5",
   "metadata": {},
   "source": [
    "- 7) Bitwize operators"
   ]
  },
  {
   "cell_type": "code",
   "execution_count": 66,
   "id": "11608701",
   "metadata": {},
   "outputs": [
    {
     "name": "stdout",
     "output_type": "stream",
     "text": [
      "0\n",
      "1\n",
      "1\n",
      "-2\n"
     ]
    }
   ],
   "source": [
    "a=0\n",
    "b=1\n",
    "print(a & b)\n",
    "print(a | b)\n",
    "print(a ^ b)\n",
    "print(~b)"
   ]
  },
  {
   "cell_type": "code",
   "execution_count": 67,
   "id": "378b2210",
   "metadata": {},
   "outputs": [
    {
     "data": {
      "text/plain": [
       "-12"
      ]
     },
     "execution_count": 67,
     "metadata": {},
     "output_type": "execute_result"
    }
   ],
   "source": [
    "a=11\n",
    "~a"
   ]
  },
  {
   "cell_type": "code",
   "execution_count": null,
   "id": "fb4fcf61",
   "metadata": {},
   "outputs": [],
   "source": []
  }
 ],
 "metadata": {
  "kernelspec": {
   "display_name": "Python 3 (ipykernel)",
   "language": "python",
   "name": "python3"
  },
  "language_info": {
   "codemirror_mode": {
    "name": "ipython",
    "version": 3
   },
   "file_extension": ".py",
   "mimetype": "text/x-python",
   "name": "python",
   "nbconvert_exporter": "python",
   "pygments_lexer": "ipython3",
   "version": "3.9.7"
  }
 },
 "nbformat": 4,
 "nbformat_minor": 5
}
