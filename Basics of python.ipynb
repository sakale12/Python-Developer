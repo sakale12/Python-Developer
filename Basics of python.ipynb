{
 "cells": [
  {
   "cell_type": "code",
   "execution_count": 3,
   "id": "6e52d27e",
   "metadata": {},
   "outputs": [],
   "source": [
    "# welcome programming"
   ]
  },
  {
   "cell_type": "code",
   "execution_count": 4,
   "id": "ee536540",
   "metadata": {},
   "outputs": [
    {
     "name": "stdout",
     "output_type": "stream",
     "text": [
      "what is your name?Samadhan\n",
      "Hi welcomeSamadhan,for this python programming\n"
     ]
    }
   ],
   "source": [
    "name=input('what is your name?')\n",
    "print('Hi welcome{},for this python programming'.format(name))"
   ]
  },
  {
   "cell_type": "code",
   "execution_count": 7,
   "id": "3c126686",
   "metadata": {},
   "outputs": [
    {
     "name": "stdout",
     "output_type": "stream",
     "text": [
      "what is your name?samadhan\n",
      "what is your last name?kale\n",
      "Hi welcome samadhan kale,for this python programming\n"
     ]
    }
   ],
   "source": [
    "fname=input('what is your name?')\n",
    "Lname=input('what is your last name?')\n",
    "print('Hi welcome {0} {1},for this python programming'.format(fname,Lname))"
   ]
  },
  {
   "cell_type": "code",
   "execution_count": 8,
   "id": "b4a21be4",
   "metadata": {},
   "outputs": [],
   "source": [
    "# Python Overview:"
   ]
  },
  {
   "cell_type": "code",
   "execution_count": 9,
   "id": "027341b9",
   "metadata": {},
   "outputs": [],
   "source": [
    "# Python indentation"
   ]
  },
  {
   "cell_type": "code",
   "execution_count": 10,
   "id": "c8f90bdb",
   "metadata": {},
   "outputs": [],
   "source": [
    "def myfunction():\n",
    "    print('this is my function')\n",
    "    nm=10\n",
    "    if(nm<10):\n",
    "        print('number is less than 10')\n",
    "    else:\n",
    "        print('this is grater than 10')"
   ]
  },
  {
   "cell_type": "code",
   "execution_count": 11,
   "id": "c4a3d2e1",
   "metadata": {},
   "outputs": [
    {
     "name": "stdout",
     "output_type": "stream",
     "text": [
      "this is my function\n",
      "this is grater than 10\n"
     ]
    }
   ],
   "source": [
    "nm=15\n",
    "myfunction()"
   ]
  },
  {
   "cell_type": "code",
   "execution_count": null,
   "id": "c07ff517",
   "metadata": {},
   "outputs": [],
   "source": [
    "# In python Everything is Object"
   ]
  },
  {
   "cell_type": "code",
   "execution_count": 12,
   "id": "cab5873c",
   "metadata": {},
   "outputs": [
    {
     "data": {
      "text/plain": [
       "'HELLO'"
      ]
     },
     "execution_count": 12,
     "metadata": {},
     "output_type": "execute_result"
    }
   ],
   "source": [
    "'hello'.upper()"
   ]
  },
  {
   "cell_type": "code",
   "execution_count": 14,
   "id": "7d05fc55",
   "metadata": {},
   "outputs": [
    {
     "name": "stdout",
     "output_type": "stream",
     "text": [
      "<class 'str'>\n"
     ]
    }
   ],
   "source": [
    "print(type('hello'))"
   ]
  },
  {
   "cell_type": "code",
   "execution_count": null,
   "id": "d68eb9ec",
   "metadata": {},
   "outputs": [],
   "source": [
    "#### Python Identifier"
   ]
  },
  {
   "cell_type": "code",
   "execution_count": 15,
   "id": "569d8d97",
   "metadata": {},
   "outputs": [],
   "source": [
    "# variable:\n",
    "x=10          # x is identifier"
   ]
  },
  {
   "cell_type": "code",
   "execution_count": 16,
   "id": "1b6d2468",
   "metadata": {},
   "outputs": [
    {
     "data": {
      "text/plain": [
       "10"
      ]
     },
     "execution_count": 16,
     "metadata": {},
     "output_type": "execute_result"
    }
   ],
   "source": [
    "x"
   ]
  },
  {
   "cell_type": "code",
   "execution_count": 17,
   "id": "babcbb4f",
   "metadata": {},
   "outputs": [
    {
     "name": "stdout",
     "output_type": "stream",
     "text": [
      "<class 'int'>\n"
     ]
    }
   ],
   "source": [
    "print(type(x))"
   ]
  },
  {
   "cell_type": "code",
   "execution_count": 19,
   "id": "42827696",
   "metadata": {},
   "outputs": [],
   "source": [
    "f_value=123.7869           # f_value is identifier"
   ]
  },
  {
   "cell_type": "code",
   "execution_count": 20,
   "id": "78a8c177",
   "metadata": {},
   "outputs": [
    {
     "name": "stdout",
     "output_type": "stream",
     "text": [
      "<class 'float'>\n"
     ]
    }
   ],
   "source": [
    "print(type(f_value))"
   ]
  },
  {
   "cell_type": "code",
   "execution_count": 21,
   "id": "5f714b92",
   "metadata": {},
   "outputs": [],
   "source": [
    "# function:\n",
    "def displaydata(data):   # displaydata is identifier for function\n",
    "    print(data)"
   ]
  },
  {
   "cell_type": "code",
   "execution_count": 22,
   "id": "6b5818de",
   "metadata": {},
   "outputs": [
    {
     "name": "stdout",
     "output_type": "stream",
     "text": [
      "this is data\n"
     ]
    }
   ],
   "source": [
    "data='this is data'\n",
    "displaydata(data)"
   ]
  },
  {
   "cell_type": "code",
   "execution_count": 23,
   "id": "b3930f92",
   "metadata": {},
   "outputs": [],
   "source": [
    "class Employee:    # Employee is identifier for class\n",
    "    pass"
   ]
  },
  {
   "cell_type": "code",
   "execution_count": null,
   "id": "b0a2d4a0",
   "metadata": {},
   "outputs": [],
   "source": [
    "# python keywords"
   ]
  },
  {
   "cell_type": "code",
   "execution_count": 24,
   "id": "4ac7c804",
   "metadata": {},
   "outputs": [
    {
     "name": "stdout",
     "output_type": "stream",
     "text": [
      "['False', 'None', 'True', '__peg_parser__', 'and', 'as', 'assert', 'async', 'await', 'break', 'class', 'continue', 'def', 'del', 'elif', 'else', 'except', 'finally', 'for', 'from', 'global', 'if', 'import', 'in', 'is', 'lambda', 'nonlocal', 'not', 'or', 'pass', 'raise', 'return', 'try', 'while', 'with', 'yield']\n"
     ]
    }
   ],
   "source": [
    "import keyword as kw\n",
    "print(kw.kwlist)"
   ]
  },
  {
   "cell_type": "code",
   "execution_count": 25,
   "id": "1c14577d",
   "metadata": {},
   "outputs": [
    {
     "name": "stdout",
     "output_type": "stream",
     "text": [
      "36\n"
     ]
    }
   ],
   "source": [
    "print(len(kw.kwlist))"
   ]
  },
  {
   "cell_type": "code",
   "execution_count": null,
   "id": "77728624",
   "metadata": {},
   "outputs": [],
   "source": []
  },
  {
   "cell_type": "code",
   "execution_count": 26,
   "id": "eeea5f9c",
   "metadata": {},
   "outputs": [
    {
     "ename": "NameError",
     "evalue": "name 'integer' is not defined",
     "output_type": "error",
     "traceback": [
      "\u001b[1;31m---------------------------------------------------------------------------\u001b[0m",
      "\u001b[1;31mNameError\u001b[0m                                 Traceback (most recent call last)",
      "\u001b[1;32mC:\\Users\\SAMADH~1\\AppData\\Local\\Temp/ipykernel_7800/1646333329.py\u001b[0m in \u001b[0;36m<module>\u001b[1;34m\u001b[0m\n\u001b[0;32m      1\u001b[0m \u001b[1;31m# Python numeric data types\u001b[0m\u001b[1;33m\u001b[0m\u001b[1;33m\u001b[0m\u001b[0m\n\u001b[1;32m----> 2\u001b[1;33m \u001b[1;33m-\u001b[0m\u001b[0minteger\u001b[0m\u001b[1;33m\u001b[0m\u001b[1;33m\u001b[0m\u001b[0m\n\u001b[0m\u001b[0;32m      3\u001b[0m \u001b[1;33m-\u001b[0m\u001b[0mfloat\u001b[0m\u001b[1;33m\u001b[0m\u001b[1;33m\u001b[0m\u001b[0m\n\u001b[0;32m      4\u001b[0m \u001b[1;33m-\u001b[0m\u001b[0mcomplex\u001b[0m\u001b[1;33m\u001b[0m\u001b[1;33m\u001b[0m\u001b[0m\n",
      "\u001b[1;31mNameError\u001b[0m: name 'integer' is not defined"
     ]
    }
   ],
   "source": [
    "# Python numeric data types \n",
    "-integer\n",
    "-float \n",
    "-complex"
   ]
  },
  {
   "cell_type": "code",
   "execution_count": 27,
   "id": "a61e841d",
   "metadata": {},
   "outputs": [],
   "source": [
    "num1=250"
   ]
  },
  {
   "cell_type": "code",
   "execution_count": 28,
   "id": "fbfd5a2b",
   "metadata": {},
   "outputs": [
    {
     "name": "stdout",
     "output_type": "stream",
     "text": [
      "the type of num1<class 'int'> and value is 250\n"
     ]
    }
   ],
   "source": [
    "print('the type of num1{} and value is {}'.format(type(num1),num1))"
   ]
  },
  {
   "cell_type": "code",
   "execution_count": 29,
   "id": "cb9ab638",
   "metadata": {},
   "outputs": [
    {
     "data": {
      "text/plain": [
       "1249418635472"
      ]
     },
     "execution_count": 29,
     "metadata": {},
     "output_type": "execute_result"
    }
   ],
   "source": [
    "id(num1)    # memory location of num1"
   ]
  },
  {
   "cell_type": "code",
   "execution_count": 30,
   "id": "1ff3b6c7",
   "metadata": {},
   "outputs": [
    {
     "data": {
      "text/plain": [
       "400"
      ]
     },
     "execution_count": 30,
     "metadata": {},
     "output_type": "execute_result"
    }
   ],
   "source": [
    "num1=400\n",
    "num1"
   ]
  },
  {
   "cell_type": "code",
   "execution_count": 31,
   "id": "5552c4b0",
   "metadata": {},
   "outputs": [
    {
     "data": {
      "text/plain": [
       "1249500214576"
      ]
     },
     "execution_count": 31,
     "metadata": {},
     "output_type": "execute_result"
    }
   ],
   "source": [
    "id(num1)"
   ]
  },
  {
   "cell_type": "code",
   "execution_count": 32,
   "id": "139d2806",
   "metadata": {},
   "outputs": [],
   "source": [
    "a=3\n",
    "b=a\n",
    "c=a\n",
    "a='hello'"
   ]
  },
  {
   "cell_type": "code",
   "execution_count": 33,
   "id": "bf97201e",
   "metadata": {},
   "outputs": [
    {
     "name": "stdout",
     "output_type": "stream",
     "text": [
      "1249496570800\n",
      "1249418439024\n",
      "1249418439024\n"
     ]
    }
   ],
   "source": [
    "print(id(a))\n",
    "print(id(b))\n",
    "print(id(c))"
   ]
  },
  {
   "cell_type": "code",
   "execution_count": null,
   "id": "5124fba6",
   "metadata": {},
   "outputs": [],
   "source": [
    "# Multiple assigmoment variable"
   ]
  },
  {
   "cell_type": "code",
   "execution_count": 34,
   "id": "b933dbe4",
   "metadata": {},
   "outputs": [
    {
     "name": "stdout",
     "output_type": "stream",
     "text": [
      "1249496570800\n"
     ]
    }
   ],
   "source": [
    "print(id(a))"
   ]
  },
  {
   "cell_type": "code",
   "execution_count": 35,
   "id": "7be44dbc",
   "metadata": {},
   "outputs": [],
   "source": [
    "a,b,c=10,25,30"
   ]
  },
  {
   "cell_type": "code",
   "execution_count": 36,
   "id": "79c52342",
   "metadata": {},
   "outputs": [
    {
     "name": "stdout",
     "output_type": "stream",
     "text": [
      "10 25 30\n"
     ]
    }
   ],
   "source": [
    "print(a,b,c)"
   ]
  },
  {
   "cell_type": "code",
   "execution_count": 39,
   "id": "da62ca4f",
   "metadata": {},
   "outputs": [],
   "source": [
    "x=y=z=100"
   ]
  },
  {
   "cell_type": "code",
   "execution_count": 40,
   "id": "f1c9a637",
   "metadata": {},
   "outputs": [
    {
     "name": "stdout",
     "output_type": "stream",
     "text": [
      "100 100 100\n"
     ]
    }
   ],
   "source": [
    "print(x,y,z)"
   ]
  },
  {
   "cell_type": "code",
   "execution_count": 42,
   "id": "ab3aeff0",
   "metadata": {},
   "outputs": [
    {
     "name": "stdout",
     "output_type": "stream",
     "text": [
      "<class 'float'>\n"
     ]
    }
   ],
   "source": [
    "f1=10.2\n",
    "print(type(f1))"
   ]
  },
  {
   "cell_type": "code",
   "execution_count": 43,
   "id": "34ecf0dd",
   "metadata": {},
   "outputs": [],
   "source": [
    "c1=3+5j"
   ]
  },
  {
   "cell_type": "code",
   "execution_count": 44,
   "id": "66a679e3",
   "metadata": {},
   "outputs": [
    {
     "name": "stdout",
     "output_type": "stream",
     "text": [
      "<class 'complex'>\n"
     ]
    }
   ],
   "source": [
    "print(type(c1))"
   ]
  },
  {
   "cell_type": "code",
   "execution_count": 45,
   "id": "a45b0e1e",
   "metadata": {},
   "outputs": [
    {
     "name": "stdout",
     "output_type": "stream",
     "text": [
      "Type of x is: <class 'int'> and Value is: 10\n",
      "Type of y is: <class 'float'> and Value is: 2.6783\n",
      "Type of z is: <class 'complex'> and Value is: (3+8j)\n"
     ]
    }
   ],
   "source": [
    "# Numeric Types: int, float, complex\n",
    "x=10 # variable x assigned by integer type data\n",
    "y=2.6783 #varaiable y assigned by float type data\n",
    "z=3+8j #varaiable z assigned by complex type data\n",
    "print(\"Type of x is: {} and Value is: {}\".format(type(x),x))\n",
    "print(\"Type of y is: {} and Value is: {}\".format(type(y),y))\n",
    "print(\"Type of z is: {} and Value is: {}\".format(type(z),z))\n"
   ]
  },
  {
   "cell_type": "code",
   "execution_count": null,
   "id": "cb30d37c",
   "metadata": {},
   "outputs": [],
   "source": [
    "####string"
   ]
  },
  {
   "cell_type": "code",
   "execution_count": 2,
   "id": "d68aedca",
   "metadata": {},
   "outputs": [
    {
     "name": "stdout",
     "output_type": "stream",
     "text": [
      "<class 'str'>\n"
     ]
    }
   ],
   "source": [
    "s1='python programming'\n",
    "print(type(s1))"
   ]
  },
  {
   "cell_type": "code",
   "execution_count": 3,
   "id": "eb43a40c",
   "metadata": {},
   "outputs": [],
   "source": [
    "# string Indexing"
   ]
  },
  {
   "cell_type": "code",
   "execution_count": 4,
   "id": "0328c81e",
   "metadata": {},
   "outputs": [
    {
     "data": {
      "text/plain": [
       "'p'"
      ]
     },
     "execution_count": 4,
     "metadata": {},
     "output_type": "execute_result"
    }
   ],
   "source": [
    "s1[0]"
   ]
  },
  {
   "cell_type": "code",
   "execution_count": 5,
   "id": "fee19b2e",
   "metadata": {},
   "outputs": [
    {
     "name": "stdout",
     "output_type": "stream",
     "text": [
      "g\n"
     ]
    }
   ],
   "source": [
    "print(s1[-1])"
   ]
  },
  {
   "cell_type": "code",
   "execution_count": 6,
   "id": "bdc7919d",
   "metadata": {},
   "outputs": [],
   "source": [
    "# Slicing operation on String:"
   ]
  },
  {
   "cell_type": "code",
   "execution_count": 8,
   "id": "897e11d0",
   "metadata": {},
   "outputs": [
    {
     "name": "stdout",
     "output_type": "stream",
     "text": [
      "python\n"
     ]
    }
   ],
   "source": [
    "print(s1[0:6])  #[start:end:step]  start is included end is excluded(n-1),step is default value is 1"
   ]
  },
  {
   "cell_type": "code",
   "execution_count": 9,
   "id": "80936bb0",
   "metadata": {},
   "outputs": [
    {
     "name": "stdout",
     "output_type": "stream",
     "text": [
      "pto\n"
     ]
    }
   ],
   "source": [
    "print(s1[0:6:2])"
   ]
  },
  {
   "cell_type": "code",
   "execution_count": 10,
   "id": "d9d9b08e",
   "metadata": {},
   "outputs": [
    {
     "name": "stdout",
     "output_type": "stream",
     "text": [
      "gnimmargorp nohtyp\n"
     ]
    }
   ],
   "source": [
    "print(s1[::-1])  # Reverse the string"
   ]
  },
  {
   "cell_type": "code",
   "execution_count": 11,
   "id": "f3b70a3c",
   "metadata": {},
   "outputs": [
    {
     "name": "stdout",
     "output_type": "stream",
     "text": [
      "python\n"
     ]
    }
   ],
   "source": [
    "print(s1[-18:-12])"
   ]
  },
  {
   "cell_type": "code",
   "execution_count": 12,
   "id": "4d51fa63",
   "metadata": {},
   "outputs": [
    {
     "name": "stdout",
     "output_type": "stream",
     "text": [
      "pto rgamn\n"
     ]
    }
   ],
   "source": [
    "print(s1[::2])"
   ]
  },
  {
   "cell_type": "code",
   "execution_count": null,
   "id": "573138b9",
   "metadata": {},
   "outputs": [],
   "source": [
    "# String is immutable"
   ]
  },
  {
   "cell_type": "code",
   "execution_count": 13,
   "id": "8e0fa9b0",
   "metadata": {},
   "outputs": [
    {
     "ename": "TypeError",
     "evalue": "'str' object does not support item assignment",
     "output_type": "error",
     "traceback": [
      "\u001b[1;31m---------------------------------------------------------------------------\u001b[0m",
      "\u001b[1;31mTypeError\u001b[0m                                 Traceback (most recent call last)",
      "\u001b[1;32mC:\\Users\\SAMADH~1\\AppData\\Local\\Temp/ipykernel_3620/3732323453.py\u001b[0m in \u001b[0;36m<module>\u001b[1;34m\u001b[0m\n\u001b[1;32m----> 1\u001b[1;33m \u001b[0ms1\u001b[0m\u001b[1;33m[\u001b[0m\u001b[1;33m-\u001b[0m\u001b[1;36m1\u001b[0m\u001b[1;33m]\u001b[0m\u001b[1;33m=\u001b[0m\u001b[1;34m'j'\u001b[0m\u001b[1;33m\u001b[0m\u001b[1;33m\u001b[0m\u001b[0m\n\u001b[0m",
      "\u001b[1;31mTypeError\u001b[0m: 'str' object does not support item assignment"
     ]
    }
   ],
   "source": [
    "s1[-1]='j'"
   ]
  },
  {
   "cell_type": "code",
   "execution_count": 18,
   "id": "1d9413f1",
   "metadata": {},
   "outputs": [
    {
     "name": "stdout",
     "output_type": "stream",
     "text": [
      " programmin\n"
     ]
    }
   ],
   "source": [
    "print(s1[-12:-1])"
   ]
  },
  {
   "cell_type": "code",
   "execution_count": 16,
   "id": "2bc24cd9",
   "metadata": {},
   "outputs": [
    {
     "name": "stdout",
     "output_type": "stream",
     "text": [
      "gnimmargorp\n"
     ]
    }
   ],
   "source": [
    "print(s1[-11::][::-1])"
   ]
  },
  {
   "cell_type": "code",
   "execution_count": 20,
   "id": "248e636c",
   "metadata": {},
   "outputs": [
    {
     "name": "stdout",
     "output_type": "stream",
     "text": [
      "programming\n"
     ]
    }
   ],
   "source": [
    "print(s1[-11:])"
   ]
  },
  {
   "cell_type": "code",
   "execution_count": 23,
   "id": "888e1301",
   "metadata": {},
   "outputs": [
    {
     "name": "stdout",
     "output_type": "stream",
     "text": [
      "ming\n"
     ]
    }
   ],
   "source": [
    "print(s1[-11::][::-1][0:4][::-1])"
   ]
  },
  {
   "cell_type": "code",
   "execution_count": null,
   "id": "f20300d1",
   "metadata": {},
   "outputs": [],
   "source": [
    "# String Operations"
   ]
  },
  {
   "cell_type": "code",
   "execution_count": 24,
   "id": "89dcded4",
   "metadata": {},
   "outputs": [],
   "source": [
    "s1='python'"
   ]
  },
  {
   "cell_type": "code",
   "execution_count": 25,
   "id": "b49dbdb6",
   "metadata": {},
   "outputs": [
    {
     "data": {
      "text/plain": [
       "'pythonjava'"
      ]
     },
     "execution_count": 25,
     "metadata": {},
     "output_type": "execute_result"
    }
   ],
   "source": [
    "s1+'java'"
   ]
  },
  {
   "cell_type": "code",
   "execution_count": 26,
   "id": "f11e2299",
   "metadata": {},
   "outputs": [
    {
     "data": {
      "text/plain": [
       "'pythonpython'"
      ]
     },
     "execution_count": 26,
     "metadata": {},
     "output_type": "execute_result"
    }
   ],
   "source": [
    "s1*2"
   ]
  },
  {
   "cell_type": "code",
   "execution_count": null,
   "id": "71a74e48",
   "metadata": {},
   "outputs": [],
   "source": []
  }
 ],
 "metadata": {
  "kernelspec": {
   "display_name": "Python 3 (ipykernel)",
   "language": "python",
   "name": "python3"
  },
  "language_info": {
   "codemirror_mode": {
    "name": "ipython",
    "version": 3
   },
   "file_extension": ".py",
   "mimetype": "text/x-python",
   "name": "python",
   "nbconvert_exporter": "python",
   "pygments_lexer": "ipython3",
   "version": "3.9.7"
  }
 },
 "nbformat": 4,
 "nbformat_minor": 5
}
