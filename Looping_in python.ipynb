{
 "cells": [
  {
   "cell_type": "code",
   "execution_count": 2,
   "id": "6324a842",
   "metadata": {},
   "outputs": [
    {
     "name": "stdout",
     "output_type": "stream",
     "text": [
      "2\n",
      "3\n",
      "4\n",
      "6\n",
      "6\n",
      "9\n",
      "8\n",
      "12\n",
      "10\n",
      "15\n",
      "12\n",
      "18\n",
      "14\n",
      "21\n",
      "16\n",
      "24\n",
      "18\n",
      "27\n",
      "20\n",
      "30\n"
     ]
    }
   ],
   "source": [
    "i=1\n",
    "while i<=10:\n",
    "    print(i*2)\n",
    "    print(i*3)\n",
    "    i+=1      ## i=i+1"
   ]
  },
  {
   "cell_type": "markdown",
   "id": "8538bf46",
   "metadata": {},
   "source": [
    "## The break statement in while loop"
   ]
  },
  {
   "cell_type": "code",
   "execution_count": 4,
   "id": "979df0ef",
   "metadata": {},
   "outputs": [
    {
     "name": "stdout",
     "output_type": "stream",
     "text": [
      "2\n",
      "4\n",
      "6\n",
      "8\n",
      "10\n"
     ]
    }
   ],
   "source": [
    "i=1\n",
    "while i<=10:\n",
    "    print(i*2)\n",
    "    if i==5:\n",
    "        break\n",
    "    i+=1\n",
    "    "
   ]
  },
  {
   "cell_type": "markdown",
   "id": "cf778977",
   "metadata": {},
   "source": [
    "## continue statement in while loop"
   ]
  },
  {
   "cell_type": "code",
   "execution_count": 7,
   "id": "de2aedba",
   "metadata": {},
   "outputs": [
    {
     "name": "stdout",
     "output_type": "stream",
     "text": [
      "11\n",
      "22\n",
      "33\n",
      "44\n",
      "66\n",
      "77\n",
      "88\n",
      "99\n",
      "110\n",
      "121\n"
     ]
    }
   ],
   "source": [
    "i=0\n",
    "while i<=10:\n",
    "    i+=1\n",
    "    if i==5:\n",
    "        continue\n",
    "    print(i*11)"
   ]
  },
  {
   "cell_type": "markdown",
   "id": "00fa2e49",
   "metadata": {},
   "source": [
    "## else statement in while loop"
   ]
  },
  {
   "cell_type": "code",
   "execution_count": 8,
   "id": "bfbc4454",
   "metadata": {},
   "outputs": [
    {
     "name": "stdout",
     "output_type": "stream",
     "text": [
      "1\n",
      "2\n",
      "3\n",
      "4\n",
      "5\n",
      "no longer less than 6\n"
     ]
    }
   ],
   "source": [
    "i=1\n",
    "while i<6:\n",
    "    print(i)\n",
    "    i+=1\n",
    "else:\n",
    "    print(\"no longer less than 6\")"
   ]
  },
  {
   "cell_type": "code",
   "execution_count": 9,
   "id": "1a69c4eb",
   "metadata": {},
   "outputs": [
    {
     "name": "stdout",
     "output_type": "stream",
     "text": [
      "2\n",
      "4\n",
      "6\n",
      "8\n",
      "10\n",
      "12\n",
      "14\n",
      "16\n",
      "18\n",
      "20\n",
      " no longer value of i in table of 2\n"
     ]
    }
   ],
   "source": [
    "i=1\n",
    "while i<=10:\n",
    "    print(i*2)\n",
    "    i+=1\n",
    "else:\n",
    "    print(\" no longer value of i in table of 2\")"
   ]
  },
  {
   "cell_type": "markdown",
   "id": "d2f43294",
   "metadata": {},
   "source": [
    "## For loop"
   ]
  },
  {
   "cell_type": "code",
   "execution_count": null,
   "id": "99ea49cb",
   "metadata": {},
   "outputs": [],
   "source": [
    "## syntax\n",
    " for i in <iterator>:\n",
    "        <statements>"
   ]
  },
  {
   "cell_type": "code",
   "execution_count": 1,
   "id": "e2486227",
   "metadata": {},
   "outputs": [
    {
     "name": "stdout",
     "output_type": "stream",
     "text": [
      "1\n",
      "2\n",
      "3\n",
      "4\n"
     ]
    }
   ],
   "source": [
    "l=[1,2,3,4]\n",
    "for i in l:\n",
    "    print(i)"
   ]
  },
  {
   "cell_type": "markdown",
   "id": "a3f106da",
   "metadata": {},
   "source": [
    "## looping through strings"
   ]
  },
  {
   "cell_type": "code",
   "execution_count": 3,
   "id": "049e2b55",
   "metadata": {},
   "outputs": [
    {
     "name": "stdout",
     "output_type": "stream",
     "text": [
      "p\n",
      "y\n",
      "t\n",
      "h\n",
      "o\n",
      "n\n",
      "_\n",
      "d\n",
      "e\n",
      "v\n",
      "e\n",
      "l\n",
      "o\n",
      "p\n",
      "e\n",
      "r\n"
     ]
    }
   ],
   "source": [
    "s=\"python_developer\"\n",
    "for i in s:\n",
    "    print(i)"
   ]
  },
  {
   "cell_type": "markdown",
   "id": "09b3da12",
   "metadata": {},
   "source": [
    "## Break statement"
   ]
  },
  {
   "cell_type": "code",
   "execution_count": 5,
   "id": "207d3843",
   "metadata": {},
   "outputs": [
    {
     "name": "stdout",
     "output_type": "stream",
     "text": [
      "p\n",
      "y\n",
      "t\n",
      "h\n",
      "o\n",
      "n\n",
      "_\n",
      "d\n",
      "e\n"
     ]
    }
   ],
   "source": [
    "s=\"python_developer\"\n",
    "for i in s:\n",
    "    print(i)\n",
    "    if i==\"e\":\n",
    "        break"
   ]
  },
  {
   "cell_type": "code",
   "execution_count": 6,
   "id": "16df7a21",
   "metadata": {},
   "outputs": [
    {
     "name": "stdout",
     "output_type": "stream",
     "text": [
      "p\n",
      "y\n",
      "t\n",
      "h\n",
      "o\n",
      "n\n",
      "_\n",
      "d\n"
     ]
    }
   ],
   "source": [
    "s=\"python_developer\"\n",
    "for i in s:\n",
    "    if i==\"e\":\n",
    "        break\n",
    "    print(i)\n",
    "    "
   ]
  },
  {
   "cell_type": "markdown",
   "id": "216b5a55",
   "metadata": {},
   "source": [
    "## continue statement"
   ]
  },
  {
   "cell_type": "code",
   "execution_count": 7,
   "id": "6e313a7e",
   "metadata": {},
   "outputs": [
    {
     "name": "stdout",
     "output_type": "stream",
     "text": [
      "1\n",
      "2\n",
      "4\n",
      "5\n"
     ]
    }
   ],
   "source": [
    "l=[1,2,3,4,5]\n",
    "for i in l:\n",
    "    if i==3:\n",
    "        continue\n",
    "    print(i)"
   ]
  },
  {
   "cell_type": "markdown",
   "id": "b66e5388",
   "metadata": {},
   "source": [
    "## the range function"
   ]
  },
  {
   "cell_type": "code",
   "execution_count": 8,
   "id": "f6f960dc",
   "metadata": {},
   "outputs": [
    {
     "name": "stdout",
     "output_type": "stream",
     "text": [
      "0\n",
      "1\n",
      "2\n",
      "3\n",
      "4\n",
      "5\n"
     ]
    }
   ],
   "source": [
    "for i in range(6):      range(end)\n",
    "    print(i)"
   ]
  },
  {
   "cell_type": "code",
   "execution_count": 9,
   "id": "57ab51fc",
   "metadata": {},
   "outputs": [
    {
     "name": "stdout",
     "output_type": "stream",
     "text": [
      "2\n",
      "3\n",
      "4\n",
      "5\n"
     ]
    }
   ],
   "source": [
    "for i in range(2,6):   range(start,end)\n",
    "    print(i)"
   ]
  },
  {
   "cell_type": "code",
   "execution_count": 10,
   "id": "3547efcf",
   "metadata": {
    "scrolled": true
   },
   "outputs": [
    {
     "name": "stdout",
     "output_type": "stream",
     "text": [
      "2\n",
      "5\n",
      "8\n",
      "11\n",
      "14\n",
      "17\n",
      "20\n",
      "23\n",
      "26\n",
      "29\n",
      "32\n",
      "35\n",
      "38\n",
      "41\n",
      "44\n",
      "47\n"
     ]
    }
   ],
   "source": [
    "for i in range(2,50,3):    range(start,end,step)\n",
    "    print(i)"
   ]
  },
  {
   "cell_type": "markdown",
   "id": "9e0c17c1",
   "metadata": {},
   "source": [
    "## else in for loop"
   ]
  },
  {
   "cell_type": "code",
   "execution_count": 11,
   "id": "5012465c",
   "metadata": {},
   "outputs": [
    {
     "name": "stdout",
     "output_type": "stream",
     "text": [
      "0\n",
      "1\n",
      "2\n",
      "3\n",
      "4\n",
      "finally finished\n"
     ]
    }
   ],
   "source": [
    "for i in range(5):\n",
    "    print(i)\n",
    "else:\n",
    "    print(\"finally finished\")"
   ]
  },
  {
   "cell_type": "code",
   "execution_count": 13,
   "id": "7e21b1a4",
   "metadata": {},
   "outputs": [
    {
     "name": "stdout",
     "output_type": "stream",
     "text": [
      "0\n",
      "1\n",
      "2\n"
     ]
    }
   ],
   "source": [
    "for i in range(5):\n",
    "    if i==3:\n",
    "        break\n",
    "    print(i)\n",
    "else:\n",
    "    print(\"finally finished\")"
   ]
  },
  {
   "cell_type": "markdown",
   "id": "09ad913f",
   "metadata": {},
   "source": [
    "## nested loops"
   ]
  },
  {
   "cell_type": "code",
   "execution_count": 15,
   "id": "c09fb84d",
   "metadata": {},
   "outputs": [
    {
     "name": "stdout",
     "output_type": "stream",
     "text": [
      "[1, 2, 3, 4, 5] [1, 4, 9, 16, 25]\n",
      "[1, 2, 3, 4, 5] [1, 4, 9, 16, 25]\n",
      "[1, 2, 3, 4, 5] [1, 4, 9, 16, 25]\n",
      "[1, 2, 3, 4, 5] [1, 4, 9, 16, 25]\n",
      "[1, 2, 3, 4, 5] [1, 4, 9, 16, 25]\n",
      "[1, 2, 3, 4, 5] [1, 4, 9, 16, 25]\n",
      "[1, 2, 3, 4, 5] [1, 4, 9, 16, 25]\n",
      "[1, 2, 3, 4, 5] [1, 4, 9, 16, 25]\n",
      "[1, 2, 3, 4, 5] [1, 4, 9, 16, 25]\n",
      "[1, 2, 3, 4, 5] [1, 4, 9, 16, 25]\n",
      "[1, 2, 3, 4, 5] [1, 4, 9, 16, 25]\n",
      "[1, 2, 3, 4, 5] [1, 4, 9, 16, 25]\n",
      "[1, 2, 3, 4, 5] [1, 4, 9, 16, 25]\n",
      "[1, 2, 3, 4, 5] [1, 4, 9, 16, 25]\n",
      "[1, 2, 3, 4, 5] [1, 4, 9, 16, 25]\n",
      "[1, 2, 3, 4, 5] [1, 4, 9, 16, 25]\n",
      "[1, 2, 3, 4, 5] [1, 4, 9, 16, 25]\n",
      "[1, 2, 3, 4, 5] [1, 4, 9, 16, 25]\n",
      "[1, 2, 3, 4, 5] [1, 4, 9, 16, 25]\n",
      "[1, 2, 3, 4, 5] [1, 4, 9, 16, 25]\n",
      "[1, 2, 3, 4, 5] [1, 4, 9, 16, 25]\n",
      "[1, 2, 3, 4, 5] [1, 4, 9, 16, 25]\n",
      "[1, 2, 3, 4, 5] [1, 4, 9, 16, 25]\n",
      "[1, 2, 3, 4, 5] [1, 4, 9, 16, 25]\n",
      "[1, 2, 3, 4, 5] [1, 4, 9, 16, 25]\n"
     ]
    }
   ],
   "source": [
    "n=[1,2,3,4,5]\n",
    "m=[1,4,9,16,25]\n",
    "for i in n:\n",
    "    for j in m:\n",
    "        print(n,m)"
   ]
  },
  {
   "cell_type": "markdown",
   "id": "63d3334e",
   "metadata": {},
   "source": [
    "## pass statement"
   ]
  },
  {
   "cell_type": "code",
   "execution_count": 16,
   "id": "237c9cd4",
   "metadata": {},
   "outputs": [],
   "source": [
    "for i in [1,2,34,5]:\n",
    "    pass"
   ]
  },
  {
   "cell_type": "markdown",
   "id": "3bd10f54",
   "metadata": {},
   "source": [
    "## Examples on while loop"
   ]
  },
  {
   "cell_type": "markdown",
   "id": "e3d2ceb2",
   "metadata": {},
   "source": [
    "1) add elements to the list using while loop"
   ]
  },
  {
   "cell_type": "code",
   "execution_count": null,
   "id": "92b4e85e",
   "metadata": {},
   "outputs": [],
   "source": []
  },
  {
   "cell_type": "markdown",
   "id": "7ad9b5c6",
   "metadata": {},
   "source": [
    "2) print a number series using while loop "
   ]
  },
  {
   "cell_type": "code",
   "execution_count": null,
   "id": "46269523",
   "metadata": {},
   "outputs": [],
   "source": []
  },
  {
   "cell_type": "code",
   "execution_count": null,
   "id": "4698cdb2",
   "metadata": {},
   "outputs": [],
   "source": [
    "3) find the sum of numbred using while loop"
   ]
  },
  {
   "cell_type": "code",
   "execution_count": null,
   "id": "1ae976ad",
   "metadata": {},
   "outputs": [],
   "source": []
  },
  {
   "cell_type": "code",
   "execution_count": null,
   "id": "c704abdf",
   "metadata": {},
   "outputs": [],
   "source": [
    "4) print all letters except e and o using while loop"
   ]
  },
  {
   "cell_type": "code",
   "execution_count": null,
   "id": "5d7559f9",
   "metadata": {},
   "outputs": [],
   "source": []
  },
  {
   "cell_type": "code",
   "execution_count": null,
   "id": "ffb41ca3",
   "metadata": {},
   "outputs": [],
   "source": [
    "5) print square of numbers using while loop"
   ]
  },
  {
   "cell_type": "code",
   "execution_count": null,
   "id": "14d864e0",
   "metadata": {},
   "outputs": [],
   "source": []
  },
  {
   "cell_type": "code",
   "execution_count": null,
   "id": "978b4d6e",
   "metadata": {},
   "outputs": [],
   "source": [
    "6) find multiples of a number using while loop"
   ]
  },
  {
   "cell_type": "code",
   "execution_count": null,
   "id": "840f03b2",
   "metadata": {},
   "outputs": [],
   "source": []
  },
  {
   "cell_type": "code",
   "execution_count": null,
   "id": "4db952a3",
   "metadata": {},
   "outputs": [],
   "source": [
    "7) find factorial of number using while loop"
   ]
  },
  {
   "cell_type": "markdown",
   "id": "cdcbf6a3",
   "metadata": {},
   "source": [
    "## Examples on for loop"
   ]
  },
  {
   "cell_type": "markdown",
   "id": "ab0fcb4a",
   "metadata": {},
   "source": [
    "1) print the first 10 natural numbers using fo loop"
   ]
  },
  {
   "cell_type": "code",
   "execution_count": 1,
   "id": "7d385e5b",
   "metadata": {},
   "outputs": [
    {
     "name": "stdout",
     "output_type": "stream",
     "text": [
      "1\n",
      "2\n",
      "3\n",
      "4\n",
      "5\n",
      "6\n",
      "7\n",
      "8\n",
      "9\n",
      "10\n"
     ]
    }
   ],
   "source": [
    "n=11\n",
    "for i in range(1,n):\n",
    "    print(i)"
   ]
  },
  {
   "cell_type": "markdown",
   "id": "b9832965",
   "metadata": {},
   "source": [
    "2) Python program to print all the even numbers within the given range"
   ]
  },
  {
   "cell_type": "code",
   "execution_count": 3,
   "id": "804295e3",
   "metadata": {},
   "outputs": [
    {
     "name": "stdout",
     "output_type": "stream",
     "text": [
      "enter the range:100\n",
      "0\n",
      "2\n",
      "4\n",
      "6\n",
      "8\n",
      "10\n",
      "12\n",
      "14\n",
      "16\n",
      "18\n",
      "20\n",
      "22\n",
      "24\n",
      "26\n",
      "28\n",
      "30\n",
      "32\n",
      "34\n",
      "36\n",
      "38\n",
      "40\n",
      "42\n",
      "44\n",
      "46\n",
      "48\n",
      "50\n",
      "52\n",
      "54\n",
      "56\n",
      "58\n",
      "60\n",
      "62\n",
      "64\n",
      "66\n",
      "68\n",
      "70\n",
      "72\n",
      "74\n",
      "76\n",
      "78\n",
      "80\n",
      "82\n",
      "84\n",
      "86\n",
      "88\n",
      "90\n",
      "92\n",
      "94\n",
      "96\n",
      "98\n"
     ]
    }
   ],
   "source": [
    "given_range=int(input(\"enter the range:\"))\n",
    "for i in range(given_range):\n",
    "    if i%2==0:\n",
    "        print(i)"
   ]
  },
  {
   "cell_type": "markdown",
   "id": "bbeffd5a",
   "metadata": {},
   "source": [
    "3) Python program to calculate the sum of all numbers from 1 to a given number"
   ]
  },
  {
   "cell_type": "code",
   "execution_count": 7,
   "id": "c6309e0d",
   "metadata": {},
   "outputs": [
    {
     "name": "stdout",
     "output_type": "stream",
     "text": [
      "enter the range:100\n",
      "5050\n"
     ]
    }
   ],
   "source": [
    "given_no=int(input(\"enter the range:\"))\n",
    "sum=0\n",
    "for i in range(1,given_no+1):\n",
    "    sum+=i   # sum=sum+i\n",
    "print(sum)"
   ]
  },
  {
   "cell_type": "markdown",
   "id": "1e7b2fa3",
   "metadata": {},
   "source": [
    "4) Python program to calculate the sum of all the odd numbers within  the given range"
   ]
  },
  {
   "cell_type": "code",
   "execution_count": 9,
   "id": "8320d534",
   "metadata": {},
   "outputs": [
    {
     "name": "stdout",
     "output_type": "stream",
     "text": [
      "enter the range:20\n",
      "100\n"
     ]
    }
   ],
   "source": [
    "given_no=int(input(\"enter the range:\"))\n",
    "sum=0\n",
    "for i in range(given_no):\n",
    "    if i%2!=0:\n",
    "        sum+=i   # sum=sum+i\n",
    "print(sum)"
   ]
  },
  {
   "cell_type": "markdown",
   "id": "481723bd",
   "metadata": {},
   "source": [
    "5) Python program to print a multiplication table of a given number"
   ]
  },
  {
   "cell_type": "code",
   "execution_count": 11,
   "id": "bbd48387",
   "metadata": {},
   "outputs": [
    {
     "name": "stdout",
     "output_type": "stream",
     "text": [
      "enter the no:5\n",
      "5 x 1 = 5\n",
      "5 x 2 = 10\n",
      "5 x 3 = 15\n",
      "5 x 4 = 20\n",
      "5 x 5 = 25\n",
      "5 x 6 = 30\n",
      "5 x 7 = 35\n",
      "5 x 8 = 40\n",
      "5 x 9 = 45\n",
      "5 x 10 = 50\n"
     ]
    }
   ],
   "source": [
    "n=int(input(\"enter the no:\"))\n",
    "for i in range(1,11):\n",
    "    print(n,\"x\",i,\"=\",n*i)"
   ]
  },
  {
   "cell_type": "markdown",
   "id": "28df7ffd",
   "metadata": {},
   "source": [
    "6) Python program to display numbers from a list using a for loop"
   ]
  },
  {
   "cell_type": "code",
   "execution_count": 12,
   "id": "69a0a213",
   "metadata": {},
   "outputs": [
    {
     "name": "stdout",
     "output_type": "stream",
     "text": [
      "1\n",
      "2\n",
      "3\n",
      "4\n",
      "66\n",
      "89\n",
      "100\n"
     ]
    }
   ],
   "source": [
    "l=[1,2,3,4,66,89,100]\n",
    "for i in l:\n",
    "    print(i)"
   ]
  },
  {
   "cell_type": "markdown",
   "id": "b56f2c42",
   "metadata": {},
   "source": [
    "7) python program to count the total no. of digits in no."
   ]
  },
  {
   "cell_type": "code",
   "execution_count": 14,
   "id": "27a3fd8b",
   "metadata": {},
   "outputs": [
    {
     "name": "stdout",
     "output_type": "stream",
     "text": [
      "enter the no:793645235742832953\n",
      "18\n"
     ]
    }
   ],
   "source": [
    "n=int(input(\"enter the no:\"))\n",
    "n=str(n)\n",
    "count=0\n",
    "for i in n:\n",
    "    count+=1\n",
    "print(count)"
   ]
  },
  {
   "cell_type": "markdown",
   "id": "70d02dd1",
   "metadata": {},
   "source": [
    "8) Python program to check if  the given string is a palindrome"
   ]
  },
  {
   "cell_type": "code",
   "execution_count": 2,
   "id": "551da57c",
   "metadata": {},
   "outputs": [
    {
     "name": "stdout",
     "output_type": "stream",
     "text": [
      "Enter the string: samadhan\n",
      "samadhan is not a Palindrome\n"
     ]
    }
   ],
   "source": [
    "\n",
    "string = input('Enter the string: ')\n",
    "\n",
    "# check string is palindrome or not\n",
    "i=0\n",
    "for i in range(len(string)):\n",
    "   if string[i]!=string[-1-i]:\n",
    "      print(string,'is not a Palindrome')\n",
    "      break\n",
    "else:\n",
    "   print(string,'is a Palindrome')"
   ]
  },
  {
   "cell_type": "code",
   "execution_count": null,
   "id": "80ad2450",
   "metadata": {},
   "outputs": [],
   "source": []
  },
  {
   "cell_type": "markdown",
   "id": "c828d0a1",
   "metadata": {},
   "source": [
    "9) Python program to check if a given number is an Armstrong number."
   ]
  },
  {
   "cell_type": "code",
   "execution_count": 4,
   "id": "874f58d5",
   "metadata": {},
   "outputs": [
    {
     "name": "stdout",
     "output_type": "stream",
     "text": [
      "enter the no:345\n",
      "not Armstrong\n"
     ]
    }
   ],
   "source": [
    "n=int(input(\"enter the no:\"))\n",
    "n=str(n)\n",
    "str_length=len(n)\n",
    "sum=0\n",
    "for i in n:\n",
    "    sum+=int(i)**str_length\n",
    "if sum==int(n):\n",
    "    print(\"given no \",n,\"is an Armstrong no\")\n",
    "else:\n",
    "    print(\"not Armstrong\")"
   ]
  },
  {
   "cell_type": "markdown",
   "id": "e99c69e7",
   "metadata": {},
   "source": [
    "10) Python program to count the number of even and odd numbers from a series of numbers"
   ]
  },
  {
   "cell_type": "code",
   "execution_count": 5,
   "id": "ccec31ee",
   "metadata": {},
   "outputs": [
    {
     "name": "stdout",
     "output_type": "stream",
     "text": [
      "1 is odd no\n",
      "2 is even no\n",
      "3 is odd no\n",
      "4 is even no\n",
      "5 is odd no\n",
      "6 is even no\n",
      "7 is odd no\n",
      "8 is even no\n",
      "90 is even no\n",
      "12 is even no\n",
      "34 is even no\n",
      "678 is even no\n",
      "456 is even no\n",
      "98 is even no\n"
     ]
    }
   ],
   "source": [
    "l=[1,2,3,4,5,6,7,8,90,12,34,678,456,98]\n",
    "for i in l:\n",
    "    if i%2==0:\n",
    "        print(i,\"is even no\")\n",
    "    else:\n",
    "        print(i,\"is odd no\")"
   ]
  },
  {
   "cell_type": "code",
   "execution_count": null,
   "id": "cc1b2a72",
   "metadata": {},
   "outputs": [],
   "source": []
  },
  {
   "cell_type": "markdown",
   "id": "b9affbb9",
   "metadata": {},
   "source": [
    "11) Python program to find factorial of given number."
   ]
  },
  {
   "cell_type": "code",
   "execution_count": 6,
   "id": "2ce13ee2",
   "metadata": {},
   "outputs": [
    {
     "name": "stdout",
     "output_type": "stream",
     "text": [
      "enter the no:6\n",
      "the factorial of 6 is 720\n"
     ]
    }
   ],
   "source": [
    "n=int(input(\"enter the no:\"))\n",
    "fac=1\n",
    "for i in range(1,n+1):\n",
    "    fac=fac*i\n",
    "print(\"the factorial of\",n,\"is\",fac)"
   ]
  },
  {
   "cell_type": "markdown",
   "id": "9aef6784",
   "metadata": {},
   "source": [
    "12) Python program that accepts a string and calculates the number of digits and letters"
   ]
  },
  {
   "cell_type": "code",
   "execution_count": 1,
   "id": "36b3b724",
   "metadata": {},
   "outputs": [
    {
     "name": "stdout",
     "output_type": "stream",
     "text": [
      "enter a string:sma123\n",
      "the string sma123 has 3 letters and 3 digits\n"
     ]
    }
   ],
   "source": [
    "s=input(\"enter a string:\")\n",
    "digits=0\n",
    "letters=0\n",
    "for i in s:\n",
    "    if i.isdigit():\n",
    "        digits=digits+1\n",
    "    elif i.isalpha():\n",
    "        letters=letters+1\n",
    "print(\"the string\",s,\"has\",letters,\"letters and\",digits,\"digits\")"
   ]
  },
  {
   "cell_type": "markdown",
   "id": "b52c3fe6",
   "metadata": {},
   "source": [
    "13) Python program to convert the month name to a number of days"
   ]
  },
  {
   "cell_type": "code",
   "execution_count": null,
   "id": "d20bcaf8",
   "metadata": {},
   "outputs": [],
   "source": []
  }
 ],
 "metadata": {
  "kernelspec": {
   "display_name": "Python 3 (ipykernel)",
   "language": "python",
   "name": "python3"
  },
  "language_info": {
   "codemirror_mode": {
    "name": "ipython",
    "version": 3
   },
   "file_extension": ".py",
   "mimetype": "text/x-python",
   "name": "python",
   "nbconvert_exporter": "python",
   "pygments_lexer": "ipython3",
   "version": "3.9.7"
  }
 },
 "nbformat": 4,
 "nbformat_minor": 5
}
