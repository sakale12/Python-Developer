{
 "cells": [
  {
   "cell_type": "markdown",
   "id": "b5cbc5c6",
   "metadata": {},
   "source": [
    "## Lists in python"
   ]
  },
  {
   "cell_type": "code",
   "execution_count": 1,
   "id": "497c1ca2",
   "metadata": {},
   "outputs": [
    {
     "name": "stdout",
     "output_type": "stream",
     "text": [
      "[1, 2, 3, 4, 5]\n"
     ]
    }
   ],
   "source": [
    "l=[1,2,3,4,5]\n",
    "print(l)"
   ]
  },
  {
   "cell_type": "code",
   "execution_count": 2,
   "id": "feeb7a02",
   "metadata": {},
   "outputs": [
    {
     "data": {
      "text/plain": [
       "[1, 2, 'a', 'b', 2.7, [4, 5, 9.8]]"
      ]
     },
     "execution_count": 2,
     "metadata": {},
     "output_type": "execute_result"
    }
   ],
   "source": [
    "l2=[1,2,\"a\",\"b\",2.7,[4,5,9.8]]\n",
    "l2"
   ]
  },
  {
   "cell_type": "markdown",
   "id": "3fb18eec",
   "metadata": {},
   "source": [
    "## List items"
   ]
  },
  {
   "cell_type": "markdown",
   "id": "13333efb",
   "metadata": {},
   "source": [
    "- List items are: 1) ordered  2) changeable  3) allows duplicates"
   ]
  },
  {
   "cell_type": "code",
   "execution_count": 3,
   "id": "5c42699f",
   "metadata": {},
   "outputs": [
    {
     "data": {
      "text/plain": [
       "[1, 2, 3, 1, 3]"
      ]
     },
     "execution_count": 3,
     "metadata": {},
     "output_type": "execute_result"
    }
   ],
   "source": [
    "l=[1,2,3,1,3]\n",
    "l"
   ]
  },
  {
   "cell_type": "markdown",
   "id": "21a72b7f",
   "metadata": {},
   "source": [
    "## Length of List"
   ]
  },
  {
   "cell_type": "code",
   "execution_count": 4,
   "id": "1b7098e6",
   "metadata": {},
   "outputs": [
    {
     "data": {
      "text/plain": [
       "4"
      ]
     },
     "execution_count": 4,
     "metadata": {},
     "output_type": "execute_result"
    }
   ],
   "source": [
    "l3=[\"a\",\"b\",\"c\",\"d\"]\n",
    "len(l3)"
   ]
  },
  {
   "cell_type": "code",
   "execution_count": 5,
   "id": "1204de71",
   "metadata": {},
   "outputs": [
    {
     "data": {
      "text/plain": [
       "5"
      ]
     },
     "execution_count": 5,
     "metadata": {},
     "output_type": "execute_result"
    }
   ],
   "source": [
    "len(l)"
   ]
  },
  {
   "cell_type": "markdown",
   "id": "21793235",
   "metadata": {},
   "source": [
    " List items data types"
   ]
  },
  {
   "cell_type": "code",
   "execution_count": 8,
   "id": "86a68cb3",
   "metadata": {},
   "outputs": [
    {
     "name": "stdout",
     "output_type": "stream",
     "text": [
      "['a', 'b', 'c', 'd']\n",
      "[1, 2, 3, 4, 5]\n",
      "[True, False, False]\n"
     ]
    }
   ],
   "source": [
    "l1=[\"a\",\"b\",\"c\",\"d\"]\n",
    "l2=[1,2,3,4,5]\n",
    "l3=[True ,False,False]\n",
    "print(l1)\n",
    "print(l2)\n",
    "print(l3)"
   ]
  },
  {
   "cell_type": "markdown",
   "id": "5ae8e389",
   "metadata": {},
   "source": [
    "## list construction"
   ]
  },
  {
   "cell_type": "code",
   "execution_count": 9,
   "id": "521af737",
   "metadata": {},
   "outputs": [
    {
     "data": {
      "text/plain": [
       "['apple', 'banana', 'chery', 'pineapple']"
      ]
     },
     "execution_count": 9,
     "metadata": {},
     "output_type": "execute_result"
    }
   ],
   "source": [
    "l=list((\"apple\",\"banana\",\"chery\",\"pineapple\"))\n",
    "l"
   ]
  },
  {
   "cell_type": "markdown",
   "id": "a1ad1cc9",
   "metadata": {},
   "source": [
    "## Access the list items"
   ]
  },
  {
   "cell_type": "markdown",
   "id": "1d44643d",
   "metadata": {},
   "source": [
    "indexing"
   ]
  },
  {
   "cell_type": "code",
   "execution_count": 10,
   "id": "e926bbb7",
   "metadata": {},
   "outputs": [
    {
     "name": "stdout",
     "output_type": "stream",
     "text": [
      "['apple', 'banana', 'chery', 'pineapple']\n"
     ]
    }
   ],
   "source": [
    "l1=['apple', 'banana', 'chery', 'pineapple']\n",
    "print(l1)"
   ]
  },
  {
   "cell_type": "code",
   "execution_count": 12,
   "id": "a6fef159",
   "metadata": {},
   "outputs": [
    {
     "name": "stdout",
     "output_type": "stream",
     "text": [
      "banana\n",
      "pineapple\n"
     ]
    }
   ],
   "source": [
    "print(l1[1])\n",
    "print(l1[3])"
   ]
  },
  {
   "cell_type": "markdown",
   "id": "230900ad",
   "metadata": {},
   "source": [
    "Negative indexing"
   ]
  },
  {
   "cell_type": "code",
   "execution_count": 13,
   "id": "ef4ee74c",
   "metadata": {},
   "outputs": [
    {
     "name": "stdout",
     "output_type": "stream",
     "text": [
      "[1, 2, 3, ['apple', 'banana', 'chery', 'pineapple'], '1', 7.8]\n"
     ]
    }
   ],
   "source": [
    "l2=[1,2,3,['apple', 'banana', 'chery', 'pineapple'],\"1\",7.8]\n",
    "print(l2)"
   ]
  },
  {
   "cell_type": "code",
   "execution_count": 18,
   "id": "a34f6c93",
   "metadata": {},
   "outputs": [
    {
     "name": "stdout",
     "output_type": "stream",
     "text": [
      "7.8\n",
      "1\n",
      "a\n",
      "n\n",
      "n\n"
     ]
    }
   ],
   "source": [
    "print(l2[-1])\n",
    "print(l2[-2])\n",
    "print(l2[-3][0][0])\n",
    "print(l2[-3][1][2])\n",
    "print(l2[-3][-3][-4])"
   ]
  },
  {
   "cell_type": "markdown",
   "id": "dc10ccde",
   "metadata": {},
   "source": [
    "- Slicing of lists"
   ]
  },
  {
   "cell_type": "code",
   "execution_count": 20,
   "id": "c274a75e",
   "metadata": {},
   "outputs": [
    {
     "name": "stdout",
     "output_type": "stream",
     "text": [
      "[1, 2, 3, ['apple', 'banana', 'chery', 'pineapple'], '1', 7.8]\n"
     ]
    }
   ],
   "source": [
    "##l[start:stop:step]\n",
    "l2=[1,2,3,['apple', 'banana', 'chery', 'pineapple'],\"1\",7.8]\n",
    "print(l2)"
   ]
  },
  {
   "cell_type": "code",
   "execution_count": 22,
   "id": "5d9eb8cb",
   "metadata": {},
   "outputs": [
    {
     "data": {
      "text/plain": [
       "[3, ['apple', 'banana', 'chery', 'pineapple'], '1', 7.8]"
      ]
     },
     "execution_count": 22,
     "metadata": {},
     "output_type": "execute_result"
    }
   ],
   "source": [
    "l2[2:6]"
   ]
  },
  {
   "cell_type": "code",
   "execution_count": 25,
   "id": "7b155876",
   "metadata": {},
   "outputs": [
    {
     "data": {
      "text/plain": [
       "[1, ['apple', 'banana', 'chery', 'pineapple']]"
      ]
     },
     "execution_count": 25,
     "metadata": {},
     "output_type": "execute_result"
    }
   ],
   "source": [
    "l2[0:6:3]"
   ]
  },
  {
   "cell_type": "code",
   "execution_count": 26,
   "id": "2c329ca0",
   "metadata": {},
   "outputs": [
    {
     "data": {
      "text/plain": [
       "[1, 2]"
      ]
     },
     "execution_count": 26,
     "metadata": {},
     "output_type": "execute_result"
    }
   ],
   "source": [
    "l2[:2]"
   ]
  },
  {
   "cell_type": "code",
   "execution_count": 27,
   "id": "2130f4e2",
   "metadata": {},
   "outputs": [
    {
     "data": {
      "text/plain": [
       "[3, ['apple', 'banana', 'chery', 'pineapple'], '1', 7.8]"
      ]
     },
     "execution_count": 27,
     "metadata": {},
     "output_type": "execute_result"
    }
   ],
   "source": [
    "l2[2:]"
   ]
  },
  {
   "cell_type": "code",
   "execution_count": 28,
   "id": "66576ae5",
   "metadata": {},
   "outputs": [
    {
     "name": "stdout",
     "output_type": "stream",
     "text": [
      "[1, 2, 3, ['apple', 'banana', 'chery', 'pineapple'], '1', 7.8]\n"
     ]
    }
   ],
   "source": [
    "l2=[1,2,3,['apple', 'banana', 'chery', 'pineapple'],\"1\",7.8]\n",
    "print(l2)"
   ]
  },
  {
   "cell_type": "code",
   "execution_count": 29,
   "id": "02b358b3",
   "metadata": {},
   "outputs": [
    {
     "data": {
      "text/plain": [
       "[3, ['apple', 'banana', 'chery', 'pineapple'], '1']"
      ]
     },
     "execution_count": 29,
     "metadata": {},
     "output_type": "execute_result"
    }
   ],
   "source": [
    "l2[-4:-1]"
   ]
  },
  {
   "cell_type": "code",
   "execution_count": 30,
   "id": "046d21b5",
   "metadata": {},
   "outputs": [
    {
     "data": {
      "text/plain": [
       "[3, ['apple', 'banana', 'chery', 'pineapple'], '1', 7.8]"
      ]
     },
     "execution_count": 30,
     "metadata": {},
     "output_type": "execute_result"
    }
   ],
   "source": [
    "l2[-4:]"
   ]
  },
  {
   "cell_type": "code",
   "execution_count": 35,
   "id": "8d678931",
   "metadata": {},
   "outputs": [
    {
     "name": "stdout",
     "output_type": "stream",
     "text": [
      "yes\n"
     ]
    }
   ],
   "source": [
    "if 7.8 in l2:\n",
    "    print(\"yes\")\n",
    "else:\n",
    "    print(\"no\")"
   ]
  },
  {
   "cell_type": "code",
   "execution_count": 38,
   "id": "45300aa2",
   "metadata": {},
   "outputs": [
    {
     "name": "stdout",
     "output_type": "stream",
     "text": [
      "['False', 'None', 'True', '__peg_parser__', 'and', 'as', 'assert', 'async', 'await', 'break', 'class', 'continue', 'def', 'del', 'elif', 'else', 'except', 'finally', 'for', 'from', 'global', 'if', 'import', 'in', 'is', 'lambda', 'nonlocal', 'not', 'or', 'pass', 'raise', 'return', 'try', 'while', 'with', 'yield']\n",
      "36\n"
     ]
    }
   ],
   "source": [
    "import keyword as kw\n",
    "print(kw.kwlist)\n",
    "print(len(kw.kwlist))"
   ]
  },
  {
   "cell_type": "code",
   "execution_count": 39,
   "id": "1307ad90",
   "metadata": {},
   "outputs": [
    {
     "ename": "SyntaxError",
     "evalue": "invalid syntax (Temp/ipykernel_11136/908651135.py, line 1)",
     "output_type": "error",
     "traceback": [
      "\u001b[1;36m  File \u001b[1;32m\"C:\\Users\\SAMADH~1\\AppData\\Local\\Temp/ipykernel_11136/908651135.py\"\u001b[1;36m, line \u001b[1;32m1\u001b[0m\n\u001b[1;33m    lambda=4\u001b[0m\n\u001b[1;37m          ^\u001b[0m\n\u001b[1;31mSyntaxError\u001b[0m\u001b[1;31m:\u001b[0m invalid syntax\n"
     ]
    }
   ],
   "source": [
    "lambda=4"
   ]
  },
  {
   "cell_type": "markdown",
   "id": "f562c3db",
   "metadata": {},
   "source": [
    "## change list items"
   ]
  },
  {
   "cell_type": "markdown",
   "id": "1d05f33e",
   "metadata": {},
   "source": [
    "1) change item value"
   ]
  },
  {
   "cell_type": "code",
   "execution_count": 2,
   "id": "37f33536",
   "metadata": {},
   "outputs": [
    {
     "name": "stdout",
     "output_type": "stream",
     "text": [
      "['coconut', 'cherry', 'apple', 'orange']\n",
      "['coconut', 'lemon', 'apple', 'orange']\n"
     ]
    }
   ],
   "source": [
    "l1=[\"coconut\",\"cherry\",\"apple\",\"orange\"]\n",
    "print(l1)\n",
    "l1[1]=\"lemon\"\n",
    "print(l1)"
   ]
  },
  {
   "cell_type": "code",
   "execution_count": 3,
   "id": "39b90c32",
   "metadata": {},
   "outputs": [
    {
     "name": "stdout",
     "output_type": "stream",
     "text": [
      "[1, 2, 3.2, 4, 5]\n"
     ]
    }
   ],
   "source": [
    "l2=[1,2,3,4,5]\n",
    "l2[2]=3.2\n",
    "print(l2)"
   ]
  },
  {
   "cell_type": "markdown",
   "id": "c9c37a09",
   "metadata": {},
   "source": [
    "2) change a range of item value"
   ]
  },
  {
   "cell_type": "code",
   "execution_count": 4,
   "id": "2b58dd15",
   "metadata": {},
   "outputs": [
    {
     "name": "stdout",
     "output_type": "stream",
     "text": [
      "['orange', 'lemon', 'kiwi', 'cherry', 'mango', 'apple']\n",
      "['orange', 'papaya', 'watermelon', 'banana', 'mango', 'apple']\n"
     ]
    }
   ],
   "source": [
    "l3=[\"orange\",\"lemon\",\"kiwi\",\"cherry\",\"mango\",\"apple\"]\n",
    "print(l3)\n",
    "l3[1:4]=[\"papaya\",\"watermelon\",\"banana\"]\n",
    "print(l3)"
   ]
  },
  {
   "cell_type": "code",
   "execution_count": 5,
   "id": "06098b5a",
   "metadata": {},
   "outputs": [
    {
     "data": {
      "text/plain": [
       "['orange', 'papaya', 'watermelon', 'banana', 'mango', 'apple']"
      ]
     },
     "execution_count": 5,
     "metadata": {},
     "output_type": "execute_result"
    }
   ],
   "source": [
    "l3"
   ]
  },
  {
   "cell_type": "code",
   "execution_count": 6,
   "id": "b19829b9",
   "metadata": {},
   "outputs": [
    {
     "name": "stdout",
     "output_type": "stream",
     "text": [
      "['orange', 'lemon', 'kiwi', 'cherry', 'mango', 'apple']\n",
      "['orange', 'papaya', 'watermelon', 'kiwi', 'cherry', 'mango', 'apple']\n"
     ]
    }
   ],
   "source": [
    "l3=[\"orange\",\"lemon\",\"kiwi\",\"cherry\",\"mango\",\"apple\"]\n",
    "print(l3)\n",
    "l3[1:2]=[\"papaya\",\"watermelon\"]\n",
    "print(l3)"
   ]
  },
  {
   "cell_type": "code",
   "execution_count": 7,
   "id": "c41d7f8b",
   "metadata": {},
   "outputs": [
    {
     "name": "stdout",
     "output_type": "stream",
     "text": [
      "['orange', 'lemon', 'kiwi', 'cherry', 'mango', 'apple']\n",
      "['orange', 'papaya', 'watermelon', 'mango', 'apple']\n"
     ]
    }
   ],
   "source": [
    "l3=[\"orange\",\"lemon\",\"kiwi\",\"cherry\",\"mango\",\"apple\"]\n",
    "print(l3)\n",
    "l3[1:4]=[\"papaya\",\"watermelon\"]\n",
    "print(l3)"
   ]
  },
  {
   "cell_type": "code",
   "execution_count": 8,
   "id": "7af3f475",
   "metadata": {},
   "outputs": [
    {
     "name": "stdout",
     "output_type": "stream",
     "text": [
      "['orange', 'lemon', 'kiwi', 'cherry', 'mango', 'apple']\n",
      "6\n",
      "['orange', 'papaya', 'watermelon', 'mango', 'apple']\n",
      "5\n"
     ]
    }
   ],
   "source": [
    "## changed lists range is different from original list\n",
    "l3=[\"orange\",\"lemon\",\"kiwi\",\"cherry\",\"mango\",\"apple\"]\n",
    "print(l3)\n",
    "l3=[\"orange\",\"lemon\",\"kiwi\",\"cherry\",\"mango\",\"apple\"]\n",
    "print(len(l3))\n",
    "l3[1:4]=[\"papaya\",\"watermelon\"]\n",
    "print(l3)\n",
    "print(len(l3))"
   ]
  },
  {
   "cell_type": "code",
   "execution_count": 12,
   "id": "c9f8bafa",
   "metadata": {},
   "outputs": [
    {
     "name": "stdout",
     "output_type": "stream",
     "text": [
      "6\n",
      "[1, 2, 3, 4, 5, 6]\n",
      "[1, 2, 5, 6]\n",
      "4\n"
     ]
    }
   ],
   "source": [
    "l=[1,2,3,4,5,6]\n",
    "print(len(l))\n",
    "print(l)\n",
    "l[2:5]=[5]\n",
    "print(l)\n",
    "print(len(l))"
   ]
  },
  {
   "cell_type": "code",
   "execution_count": 13,
   "id": "8c4c9fbe",
   "metadata": {},
   "outputs": [
    {
     "data": {
      "text/plain": [
       "[1, 2, 5, 6]"
      ]
     },
     "execution_count": 13,
     "metadata": {},
     "output_type": "execute_result"
    }
   ],
   "source": [
    "l"
   ]
  },
  {
   "cell_type": "markdown",
   "id": "971c59fa",
   "metadata": {},
   "source": [
    "## insert list items"
   ]
  },
  {
   "cell_type": "code",
   "execution_count": 14,
   "id": "747a32dd",
   "metadata": {},
   "outputs": [
    {
     "name": "stdout",
     "output_type": "stream",
     "text": [
      "['orange', 'lemon', 'papaya', 'kiwi', 'cherry', 'mango', 'apple']\n"
     ]
    }
   ],
   "source": [
    "l4=[\"orange\",\"lemon\",\"kiwi\",\"cherry\",\"mango\",\"apple\"]\n",
    "l4.insert(2,\"papaya\")\n",
    "print(l4)"
   ]
  },
  {
   "cell_type": "code",
   "execution_count": 15,
   "id": "523e6277",
   "metadata": {},
   "outputs": [
    {
     "data": {
      "text/plain": [
       "[2, [2, 3], 5.6, 'lemon', 4, [2, 3]]"
      ]
     },
     "execution_count": 15,
     "metadata": {},
     "output_type": "execute_result"
    }
   ],
   "source": [
    "l5=[2,5.6,\"lemon\",4,[2,3]]\n",
    "l5.insert(1,[2,3])\n",
    "l5"
   ]
  },
  {
   "cell_type": "markdown",
   "id": "20a8b213",
   "metadata": {},
   "source": [
    "## List methods"
   ]
  },
  {
   "cell_type": "code",
   "execution_count": 16,
   "id": "bd95d6db",
   "metadata": {},
   "outputs": [
    {
     "name": "stdout",
     "output_type": "stream",
     "text": [
      "['__add__', '__class__', '__class_getitem__', '__contains__', '__delattr__', '__delitem__', '__dir__', '__doc__', '__eq__', '__format__', '__ge__', '__getattribute__', '__getitem__', '__gt__', '__hash__', '__iadd__', '__imul__', '__init__', '__init_subclass__', '__iter__', '__le__', '__len__', '__lt__', '__mul__', '__ne__', '__new__', '__reduce__', '__reduce_ex__', '__repr__', '__reversed__', '__rmul__', '__setattr__', '__setitem__', '__sizeof__', '__str__', '__subclasshook__', 'append', 'clear', 'copy', 'count', 'extend', 'index', 'insert', 'pop', 'remove', 'reverse', 'sort']\n"
     ]
    }
   ],
   "source": [
    "print(dir(list))"
   ]
  },
  {
   "cell_type": "markdown",
   "id": "e72eecd7",
   "metadata": {},
   "source": [
    "1) Append method"
   ]
  },
  {
   "cell_type": "code",
   "execution_count": 17,
   "id": "af3a9004",
   "metadata": {},
   "outputs": [
    {
     "name": "stdout",
     "output_type": "stream",
     "text": [
      "['orange', 'lemon', 'kiwi', 'cherry', 'mango', 'apple']\n",
      "['orange', 'lemon', 'kiwi', 'cherry', 'mango', 'apple', 'watermelon']\n"
     ]
    }
   ],
   "source": [
    "l4=[\"orange\",\"lemon\",\"kiwi\",\"cherry\",\"mango\",\"apple\"]\n",
    "print(l4)\n",
    "l4.append(\"watermelon\")\n",
    "print(l4)"
   ]
  },
  {
   "cell_type": "markdown",
   "id": "13722911",
   "metadata": {},
   "source": [
    "2)clear method"
   ]
  },
  {
   "cell_type": "code",
   "execution_count": 8,
   "id": "42d81135",
   "metadata": {},
   "outputs": [
    {
     "name": "stdout",
     "output_type": "stream",
     "text": [
      "['orange', 'lemon', 'kiwi', 'cherry', 'mango', 'apple']\n",
      "[]\n"
     ]
    }
   ],
   "source": [
    "l4=[\"orange\",\"lemon\",\"kiwi\",\"cherry\",\"mango\",\"apple\"]  # removes all elements from list\n",
    "print(l4)\n",
    "l4.clear()\n",
    "print(l4)"
   ]
  },
  {
   "cell_type": "markdown",
   "id": "88335314",
   "metadata": {},
   "source": [
    "3) Copy method"
   ]
  },
  {
   "cell_type": "code",
   "execution_count": 9,
   "id": "334cd8fb",
   "metadata": {},
   "outputs": [
    {
     "name": "stdout",
     "output_type": "stream",
     "text": [
      "['orange', 'lemon', 'kiwi', 'cherry', 'mango', 'apple']\n",
      "['orange', 'lemon', 'kiwi', 'cherry', 'mango', 'apple']\n"
     ]
    }
   ],
   "source": [
    "l4=[\"orange\",\"lemon\",\"kiwi\",\"cherry\",\"mango\",\"apple\"]\n",
    "print(l4)\n",
    "l4.copy()\n",
    "print(l4)"
   ]
  },
  {
   "cell_type": "markdown",
   "id": "fb3c1123",
   "metadata": {},
   "source": [
    "4) count method "
   ]
  },
  {
   "cell_type": "code",
   "execution_count": 12,
   "id": "bc162cb8",
   "metadata": {},
   "outputs": [
    {
     "name": "stdout",
     "output_type": "stream",
     "text": [
      "[1, 2, 3, 6, 3, 8]\n"
     ]
    },
    {
     "data": {
      "text/plain": [
       "2"
      ]
     },
     "execution_count": 12,
     "metadata": {},
     "output_type": "execute_result"
    }
   ],
   "source": [
    "l=[1,2,3,6,3,8]\n",
    "print(l)\n",
    "l.count(3)"
   ]
  },
  {
   "cell_type": "markdown",
   "id": "7263b383",
   "metadata": {},
   "source": [
    "5) Extend method"
   ]
  },
  {
   "cell_type": "code",
   "execution_count": 13,
   "id": "fe82ff12",
   "metadata": {},
   "outputs": [
    {
     "name": "stdout",
     "output_type": "stream",
     "text": [
      "['orange', 'lemon', 'kiwi', 'cherry', 'mango', 'apple']\n",
      "['papaya', 'pineapple', 'banana']\n",
      "['orange', 'lemon', 'kiwi', 'cherry', 'mango', 'apple', 'papaya', 'pineapple', 'banana']\n"
     ]
    }
   ],
   "source": [
    "l4=[\"orange\",\"lemon\",\"kiwi\",\"cherry\",\"mango\",\"apple\"]\n",
    "print(l4)\n",
    "l5=[\"papaya\",\"pineapple\",\"banana\"]\n",
    "print(l5)\n",
    "l4.extend(l5)\n",
    "print(l4)"
   ]
  },
  {
   "cell_type": "code",
   "execution_count": 14,
   "id": "fb1f7539",
   "metadata": {},
   "outputs": [
    {
     "name": "stdout",
     "output_type": "stream",
     "text": [
      "['orange', 'lemon', 'kiwi', 'cherry', 'mango', 'apple']\n",
      "('papaya', 'pineapple', 'banana')\n",
      "['orange', 'lemon', 'kiwi', 'cherry', 'mango', 'apple', 'papaya', 'pineapple', 'banana']\n"
     ]
    }
   ],
   "source": [
    "l4=[\"orange\",\"lemon\",\"kiwi\",\"cherry\",\"mango\",\"apple\"]\n",
    "print(l4)\n",
    "l5=(\"papaya\",\"pineapple\",\"banana\")\n",
    "print(l5)\n",
    "l4.extend(l5)\n",
    "print(l4)"
   ]
  },
  {
   "cell_type": "markdown",
   "id": "cfc811e4",
   "metadata": {},
   "source": [
    "6) Index method"
   ]
  },
  {
   "cell_type": "code",
   "execution_count": 16,
   "id": "1997f4f8",
   "metadata": {},
   "outputs": [
    {
     "name": "stdout",
     "output_type": "stream",
     "text": [
      "['orange', 'lemon', 'kiwi', 'cherry', 'mango', 'apple']\n"
     ]
    },
    {
     "data": {
      "text/plain": [
       "3"
      ]
     },
     "execution_count": 16,
     "metadata": {},
     "output_type": "execute_result"
    }
   ],
   "source": [
    "l4=[\"orange\",\"lemon\",\"kiwi\",\"cherry\",\"mango\",\"apple\"]\n",
    "print(l4)\n",
    "l4.index(\"cherry\")\n"
   ]
  },
  {
   "cell_type": "markdown",
   "id": "ed390194",
   "metadata": {},
   "source": [
    "7) Pop method"
   ]
  },
  {
   "cell_type": "code",
   "execution_count": 21,
   "id": "bb7bb091",
   "metadata": {},
   "outputs": [
    {
     "name": "stdout",
     "output_type": "stream",
     "text": [
      "['orange', 'lemon', 'kiwi', 'cherry', 'mango', 'apple']\n",
      "['orange', 'lemon', 'kiwi', 'cherry', 'apple']\n"
     ]
    }
   ],
   "source": [
    "l4=[\"orange\",\"lemon\",\"kiwi\",\"cherry\",\"mango\",\"apple\"]\n",
    "print(l4)\n",
    "l4.pop(4)\n",
    "print(l4)"
   ]
  },
  {
   "cell_type": "code",
   "execution_count": 22,
   "id": "116fa9c7",
   "metadata": {},
   "outputs": [
    {
     "name": "stdout",
     "output_type": "stream",
     "text": [
      "['orange', 'lemon', 'kiwi', 'cherry', 'mango', 'apple']\n",
      "['orange', 'lemon', 'kiwi', 'cherry', 'mango']\n"
     ]
    }
   ],
   "source": [
    "l4=[\"orange\",\"lemon\",\"kiwi\",\"cherry\",\"mango\",\"apple\"]\n",
    "print(l4)\n",
    "l4.pop()\n",
    "print(l4)"
   ]
  },
  {
   "cell_type": "markdown",
   "id": "cd145298",
   "metadata": {},
   "source": [
    "8) Remove method"
   ]
  },
  {
   "cell_type": "code",
   "execution_count": 23,
   "id": "61742c34",
   "metadata": {},
   "outputs": [
    {
     "name": "stdout",
     "output_type": "stream",
     "text": [
      "['orange', 'lemon', 'kiwi', 'cherry', 'mango', 'apple']\n",
      "['orange', 'lemon', 'cherry', 'mango', 'apple']\n"
     ]
    }
   ],
   "source": [
    "l4=[\"orange\",\"lemon\",\"kiwi\",\"cherry\",\"mango\",\"apple\"]\n",
    "print(l4)\n",
    "l4.remove(\"kiwi\")\n",
    "print(l4)"
   ]
  },
  {
   "cell_type": "markdown",
   "id": "1e8ff811",
   "metadata": {},
   "source": [
    "9) Reverse method"
   ]
  },
  {
   "cell_type": "code",
   "execution_count": 24,
   "id": "60040584",
   "metadata": {},
   "outputs": [
    {
     "name": "stdout",
     "output_type": "stream",
     "text": [
      "['orange', 'lemon', 'kiwi', 'cherry', 'mango', 'apple', 34, 67.89, 'abc', [2, 3, 5, 7, 11]]\n",
      "[[2, 3, 5, 7, 11], 'abc', 67.89, 34, 'apple', 'mango', 'cherry', 'kiwi', 'lemon', 'orange']\n"
     ]
    }
   ],
   "source": [
    "l=[\"orange\",\"lemon\",\"kiwi\",\"cherry\",\"mango\",\"apple\",34,67.89,\"abc\",[2,3,5,7,11]]\n",
    "print(l)\n",
    "l.reverse()\n",
    "print(l)"
   ]
  },
  {
   "cell_type": "markdown",
   "id": "68807af1",
   "metadata": {},
   "source": [
    "10) Sort method"
   ]
  },
  {
   "cell_type": "code",
   "execution_count": 25,
   "id": "75ab4f0c",
   "metadata": {},
   "outputs": [
    {
     "name": "stdout",
     "output_type": "stream",
     "text": [
      "['orange', 'lemon', 'kiwi', 'cherry', 'mango', 'apple']\n",
      "['apple', 'cherry', 'kiwi', 'lemon', 'mango', 'orange']\n"
     ]
    }
   ],
   "source": [
    "## Ascending sort\n",
    "l1=[\"orange\",\"lemon\",\"kiwi\",\"cherry\",\"mango\",\"apple\"]\n",
    "print(l1)\n",
    "l1.sort()\n",
    "print(l1)"
   ]
  },
  {
   "cell_type": "code",
   "execution_count": 26,
   "id": "90355694",
   "metadata": {},
   "outputs": [
    {
     "name": "stdout",
     "output_type": "stream",
     "text": [
      "[2, 6, 9, 1, 0, 5, 4, 8, 3]\n",
      "[0, 1, 2, 3, 4, 5, 6, 8, 9]\n"
     ]
    }
   ],
   "source": [
    "l2=[2,6,9,1,0,5,4,8,3]\n",
    "print(l2)\n",
    "l2.sort()\n",
    "print(l2)"
   ]
  },
  {
   "cell_type": "code",
   "execution_count": 27,
   "id": "ea15fcdb",
   "metadata": {},
   "outputs": [
    {
     "name": "stdout",
     "output_type": "stream",
     "text": [
      "[2, 6, 9, 1, 0, 5, 4, 8, 3]\n",
      "[9, 8, 6, 5, 4, 3, 2, 1, 0]\n"
     ]
    }
   ],
   "source": [
    "## Descending sort  [reverse=True]\n",
    "l2=[2,6,9,1,0,5,4,8,3]\n",
    "print(l2)\n",
    "l2.sort(reverse=True)\n",
    "print(l2)"
   ]
  },
  {
   "cell_type": "code",
   "execution_count": 28,
   "id": "2b1b291c",
   "metadata": {},
   "outputs": [
    {
     "name": "stdout",
     "output_type": "stream",
     "text": [
      "['B', 'E', 'a', 'c', 'd']\n"
     ]
    }
   ],
   "source": [
    "l=[\"a\",\"B\",\"c\",\"d\",\"E\"]  ## case sensitive\n",
    "l.sort()\n",
    "print(l)"
   ]
  },
  {
   "cell_type": "code",
   "execution_count": 31,
   "id": "27d52389",
   "metadata": {},
   "outputs": [
    {
     "name": "stdout",
     "output_type": "stream",
     "text": [
      "['a', 'B', 'c', 'd', 'E']\n"
     ]
    }
   ],
   "source": [
    "## case insensitive   [ str.lower]\n",
    "l=[\"a\",\"B\",\"c\",\"d\",\"E\"]  ## case sensitive\n",
    "l.sort(key=str.lower)\n",
    "print(l)"
   ]
  },
  {
   "cell_type": "code",
   "execution_count": null,
   "id": "498254d0",
   "metadata": {},
   "outputs": [],
   "source": []
  }
 ],
 "metadata": {
  "kernelspec": {
   "display_name": "Python 3 (ipykernel)",
   "language": "python",
   "name": "python3"
  },
  "language_info": {
   "codemirror_mode": {
    "name": "ipython",
    "version": 3
   },
   "file_extension": ".py",
   "mimetype": "text/x-python",
   "name": "python",
   "nbconvert_exporter": "python",
   "pygments_lexer": "ipython3",
   "version": "3.9.7"
  }
 },
 "nbformat": 4,
 "nbformat_minor": 5
}
