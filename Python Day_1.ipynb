{
 "cells": [
  {
   "cell_type": "markdown",
   "id": "9ca5af49",
   "metadata": {},
   "source": [
    "# Welcome Statement"
   ]
  },
  {
   "cell_type": "code",
   "execution_count": 46,
   "id": "c9a8de09",
   "metadata": {},
   "outputs": [
    {
     "name": "stdout",
     "output_type": "stream",
     "text": [
      "Hello world\n"
     ]
    }
   ],
   "source": [
    "print(\"Hello world\")"
   ]
  },
  {
   "cell_type": "markdown",
   "id": "462ca149",
   "metadata": {},
   "source": [
    "## Python as calculator"
   ]
  },
  {
   "cell_type": "code",
   "execution_count": 47,
   "id": "f38d34d0",
   "metadata": {},
   "outputs": [
    {
     "data": {
      "text/plain": [
       "134"
      ]
     },
     "execution_count": 47,
     "metadata": {},
     "output_type": "execute_result"
    }
   ],
   "source": [
    "78+56"
   ]
  },
  {
   "cell_type": "code",
   "execution_count": 48,
   "id": "26605085",
   "metadata": {},
   "outputs": [
    {
     "data": {
      "text/plain": [
       "33"
      ]
     },
     "execution_count": 48,
     "metadata": {},
     "output_type": "execute_result"
    }
   ],
   "source": [
    "123-90"
   ]
  },
  {
   "cell_type": "code",
   "execution_count": 49,
   "id": "c17efb6a",
   "metadata": {},
   "outputs": [
    {
     "data": {
      "text/plain": [
       "1575"
      ]
     },
     "execution_count": 49,
     "metadata": {},
     "output_type": "execute_result"
    }
   ],
   "source": [
    "45*35"
   ]
  },
  {
   "cell_type": "code",
   "execution_count": 50,
   "id": "ba5cf52a",
   "metadata": {},
   "outputs": [
    {
     "data": {
      "text/plain": [
       "2.2941176470588234"
      ]
     },
     "execution_count": 50,
     "metadata": {},
     "output_type": "execute_result"
    }
   ],
   "source": [
    "78/34"
   ]
  },
  {
   "cell_type": "code",
   "execution_count": 51,
   "id": "0eb1ede8",
   "metadata": {},
   "outputs": [
    {
     "data": {
      "text/plain": [
       "2"
      ]
     },
     "execution_count": 51,
     "metadata": {},
     "output_type": "execute_result"
    }
   ],
   "source": [
    "89//34"
   ]
  },
  {
   "cell_type": "code",
   "execution_count": 52,
   "id": "7f8b46f6",
   "metadata": {},
   "outputs": [
    {
     "data": {
      "text/plain": [
       "2.6176470588235294"
      ]
     },
     "execution_count": 52,
     "metadata": {},
     "output_type": "execute_result"
    }
   ],
   "source": [
    "89/34"
   ]
  },
  {
   "cell_type": "code",
   "execution_count": 53,
   "id": "ceea3b63",
   "metadata": {},
   "outputs": [
    {
     "data": {
      "text/plain": [
       "-26730.0"
      ]
     },
     "execution_count": 53,
     "metadata": {},
     "output_type": "execute_result"
    }
   ],
   "source": [
    "(23-89)*45**2/5"
   ]
  },
  {
   "cell_type": "code",
   "execution_count": 54,
   "id": "03bd371e",
   "metadata": {},
   "outputs": [],
   "source": [
    "x=2\n",
    "y=2.8\n",
    "z=2j"
   ]
  },
  {
   "cell_type": "code",
   "execution_count": 57,
   "id": "9f40522f",
   "metadata": {},
   "outputs": [
    {
     "data": {
      "text/plain": [
       "4.8"
      ]
     },
     "execution_count": 57,
     "metadata": {},
     "output_type": "execute_result"
    }
   ],
   "source": [
    "a=x+y\n",
    "a"
   ]
  },
  {
   "cell_type": "code",
   "execution_count": 58,
   "id": "3856620e",
   "metadata": {},
   "outputs": [
    {
     "data": {
      "text/plain": [
       "(2.8+2j)"
      ]
     },
     "execution_count": 58,
     "metadata": {},
     "output_type": "execute_result"
    }
   ],
   "source": [
    "b=y+z\n",
    "b"
   ]
  },
  {
   "cell_type": "code",
   "execution_count": 59,
   "id": "3f8d5f6e",
   "metadata": {},
   "outputs": [
    {
     "data": {
      "text/plain": [
       "(13.44+9.6j)"
      ]
     },
     "execution_count": 59,
     "metadata": {},
     "output_type": "execute_result"
    }
   ],
   "source": [
    "a*b"
   ]
  },
  {
   "cell_type": "code",
   "execution_count": 60,
   "id": "a7380b3d",
   "metadata": {},
   "outputs": [
    {
     "data": {
      "text/plain": [
       "float"
      ]
     },
     "execution_count": 60,
     "metadata": {},
     "output_type": "execute_result"
    }
   ],
   "source": [
    "type(a)"
   ]
  },
  {
   "cell_type": "code",
   "execution_count": 61,
   "id": "fae2850d",
   "metadata": {},
   "outputs": [
    {
     "data": {
      "text/plain": [
       "complex"
      ]
     },
     "execution_count": 61,
     "metadata": {},
     "output_type": "execute_result"
    }
   ],
   "source": [
    "type(b)"
   ]
  },
  {
   "cell_type": "code",
   "execution_count": 63,
   "id": "5a822209",
   "metadata": {},
   "outputs": [
    {
     "name": "stdout",
     "output_type": "stream",
     "text": [
      "<class 'int'>\n",
      "<class 'float'>\n",
      "<class 'complex'>\n",
      "1690239723984\n",
      "1690321469712\n",
      "1690322359088\n"
     ]
    }
   ],
   "source": [
    "a=6\n",
    "b=8.9\n",
    "c=7j\n",
    "print(type(a))\n",
    "print(type(b))\n",
    "print(type(c))\n",
    "print(id(a))\n",
    "print(id(b))\n",
    "print(id(c))"
   ]
  },
  {
   "cell_type": "code",
   "execution_count": 65,
   "id": "b34916a2",
   "metadata": {},
   "outputs": [
    {
     "data": {
      "text/plain": [
       "7j"
      ]
     },
     "execution_count": 65,
     "metadata": {},
     "output_type": "execute_result"
    }
   ],
   "source": [
    "a=6\n",
    "b=8.9\n",
    "c=7j\n",
    "a\n",
    "b\n",
    "c"
   ]
  },
  {
   "cell_type": "code",
   "execution_count": 64,
   "id": "af700044",
   "metadata": {},
   "outputs": [
    {
     "data": {
      "text/plain": [
       "1690239723888"
      ]
     },
     "execution_count": 64,
     "metadata": {},
     "output_type": "execute_result"
    }
   ],
   "source": [
    "a=3\n",
    "id(a)"
   ]
  },
  {
   "cell_type": "markdown",
   "id": "c8105be7",
   "metadata": {},
   "source": [
    "- Integer"
   ]
  },
  {
   "cell_type": "code",
   "execution_count": 66,
   "id": "5c7bea0d",
   "metadata": {},
   "outputs": [
    {
     "name": "stdout",
     "output_type": "stream",
     "text": [
      "<class 'int'>\n",
      "<class 'int'>\n",
      "<class 'int'>\n",
      "<class 'int'>\n"
     ]
    }
   ],
   "source": [
    "x=1\n",
    "y=6784593\n",
    "z=(-342)\n",
    "w=0\n",
    "print(type(x))\n",
    "print(type(y))\n",
    "print(type(z))\n",
    "print(type(w))"
   ]
  },
  {
   "cell_type": "markdown",
   "id": "b0cde668",
   "metadata": {},
   "source": [
    "- floating number"
   ]
  },
  {
   "cell_type": "code",
   "execution_count": 67,
   "id": "8e400cec",
   "metadata": {},
   "outputs": [
    {
     "name": "stdout",
     "output_type": "stream",
     "text": [
      "<class 'float'>\n",
      "<class 'float'>\n",
      "<class 'float'>\n"
     ]
    }
   ],
   "source": [
    "a=2.34\n",
    "b=3.6\n",
    "c=(-78.67)\n",
    "print(type(a))\n",
    "print(type(b))\n",
    "print(type(c))"
   ]
  },
  {
   "cell_type": "markdown",
   "id": "5940ac76",
   "metadata": {},
   "source": [
    "- complex number"
   ]
  },
  {
   "cell_type": "code",
   "execution_count": 68,
   "id": "e81aaeb6",
   "metadata": {},
   "outputs": [
    {
     "name": "stdout",
     "output_type": "stream",
     "text": [
      "<class 'complex'>\n",
      "<class 'complex'>\n",
      "<class 'complex'>\n"
     ]
    }
   ],
   "source": [
    "x=3+5j\n",
    "y=6j\n",
    "z=(-8j)\n",
    "print(type(x))\n",
    "print(type(y))\n",
    "print(type(z))"
   ]
  },
  {
   "cell_type": "markdown",
   "id": "43cc4d17",
   "metadata": {},
   "source": [
    "## Type conversion"
   ]
  },
  {
   "cell_type": "code",
   "execution_count": 70,
   "id": "a70e66ac",
   "metadata": {},
   "outputs": [],
   "source": [
    "x=2   # integer\n",
    "y=4.5  # floating number\n",
    "z=8j   # complex number"
   ]
  },
  {
   "cell_type": "markdown",
   "id": "9d686655",
   "metadata": {},
   "source": [
    "- Integer floating point"
   ]
  },
  {
   "cell_type": "code",
   "execution_count": 71,
   "id": "81679f7f",
   "metadata": {},
   "outputs": [
    {
     "data": {
      "text/plain": [
       "2.0"
      ]
     },
     "execution_count": 71,
     "metadata": {},
     "output_type": "execute_result"
    }
   ],
   "source": [
    "a=float(x)\n",
    "a"
   ]
  },
  {
   "cell_type": "markdown",
   "id": "4ea1ce0b",
   "metadata": {},
   "source": [
    "- float to integer"
   ]
  },
  {
   "cell_type": "code",
   "execution_count": 73,
   "id": "62301425",
   "metadata": {},
   "outputs": [
    {
     "data": {
      "text/plain": [
       "4"
      ]
     },
     "execution_count": 73,
     "metadata": {},
     "output_type": "execute_result"
    }
   ],
   "source": [
    "b=int(y)\n",
    "b"
   ]
  },
  {
   "cell_type": "markdown",
   "id": "41bbf623",
   "metadata": {},
   "source": [
    "- int to complex"
   ]
  },
  {
   "cell_type": "code",
   "execution_count": 74,
   "id": "37cc0bc6",
   "metadata": {},
   "outputs": [
    {
     "data": {
      "text/plain": [
       "(2+0j)"
      ]
     },
     "execution_count": 74,
     "metadata": {},
     "output_type": "execute_result"
    }
   ],
   "source": [
    "c=complex(x)\n",
    "c"
   ]
  },
  {
   "cell_type": "markdown",
   "id": "c725a867",
   "metadata": {},
   "source": [
    "- float to complex"
   ]
  },
  {
   "cell_type": "code",
   "execution_count": 75,
   "id": "9c21cd41",
   "metadata": {},
   "outputs": [
    {
     "data": {
      "text/plain": [
       "(4.5+0j)"
      ]
     },
     "execution_count": 75,
     "metadata": {},
     "output_type": "execute_result"
    }
   ],
   "source": [
    "d=complex(y)\n",
    "d"
   ]
  },
  {
   "cell_type": "code",
   "execution_count": 76,
   "id": "c9a90bf5",
   "metadata": {},
   "outputs": [
    {
     "ename": "TypeError",
     "evalue": "can't convert complex to int",
     "output_type": "error",
     "traceback": [
      "\u001b[1;31m---------------------------------------------------------------------------\u001b[0m",
      "\u001b[1;31mTypeError\u001b[0m                                 Traceback (most recent call last)",
      "\u001b[1;32mC:\\Users\\SAMADH~1\\AppData\\Local\\Temp/ipykernel_38452/508497158.py\u001b[0m in \u001b[0;36m<module>\u001b[1;34m\u001b[0m\n\u001b[1;32m----> 1\u001b[1;33m \u001b[0me\u001b[0m\u001b[1;33m=\u001b[0m\u001b[0mint\u001b[0m\u001b[1;33m(\u001b[0m\u001b[0mz\u001b[0m\u001b[1;33m)\u001b[0m\u001b[1;33m\u001b[0m\u001b[1;33m\u001b[0m\u001b[0m\n\u001b[0m\u001b[0;32m      2\u001b[0m \u001b[0me\u001b[0m\u001b[1;33m\u001b[0m\u001b[1;33m\u001b[0m\u001b[0m\n",
      "\u001b[1;31mTypeError\u001b[0m: can't convert complex to int"
     ]
    }
   ],
   "source": [
    "e=int(z)\n",
    "e"
   ]
  },
  {
   "cell_type": "code",
   "execution_count": 78,
   "id": "3ceca4dc",
   "metadata": {},
   "outputs": [
    {
     "ename": "TypeError",
     "evalue": "can't convert complex to float",
     "output_type": "error",
     "traceback": [
      "\u001b[1;31m---------------------------------------------------------------------------\u001b[0m",
      "\u001b[1;31mTypeError\u001b[0m                                 Traceback (most recent call last)",
      "\u001b[1;32mC:\\Users\\SAMADH~1\\AppData\\Local\\Temp/ipykernel_38452/4125522718.py\u001b[0m in \u001b[0;36m<module>\u001b[1;34m\u001b[0m\n\u001b[1;32m----> 1\u001b[1;33m \u001b[0mf\u001b[0m\u001b[1;33m=\u001b[0m\u001b[0mfloat\u001b[0m\u001b[1;33m(\u001b[0m\u001b[0mz\u001b[0m\u001b[1;33m)\u001b[0m\u001b[1;33m\u001b[0m\u001b[1;33m\u001b[0m\u001b[0m\n\u001b[0m\u001b[0;32m      2\u001b[0m \u001b[0mf\u001b[0m\u001b[1;33m\u001b[0m\u001b[1;33m\u001b[0m\u001b[0m\n",
      "\u001b[1;31mTypeError\u001b[0m: can't convert complex to float"
     ]
    }
   ],
   "source": [
    "f=float(z)\n",
    "f"
   ]
  },
  {
   "cell_type": "markdown",
   "id": "e27b0667",
   "metadata": {},
   "source": [
    "## Random number"
   ]
  },
  {
   "cell_type": "code",
   "execution_count": 79,
   "id": "6be3f1e0",
   "metadata": {},
   "outputs": [],
   "source": [
    "import random"
   ]
  },
  {
   "cell_type": "code",
   "execution_count": 84,
   "id": "7483f1f2",
   "metadata": {},
   "outputs": [
    {
     "data": {
      "text/plain": [
       "7"
      ]
     },
     "execution_count": 84,
     "metadata": {},
     "output_type": "execute_result"
    }
   ],
   "source": [
    "random.randrange(1,10)"
   ]
  },
  {
   "cell_type": "markdown",
   "id": "53aa454e",
   "metadata": {},
   "source": [
    "## Variable name rules"
   ]
  },
  {
   "cell_type": "code",
   "execution_count": 85,
   "id": "a3d83df2",
   "metadata": {},
   "outputs": [],
   "source": [
    "myvar=23"
   ]
  },
  {
   "cell_type": "code",
   "execution_count": 86,
   "id": "4eafed55",
   "metadata": {},
   "outputs": [],
   "source": [
    "my_var=24"
   ]
  },
  {
   "cell_type": "code",
   "execution_count": 87,
   "id": "0a610e0f",
   "metadata": {},
   "outputs": [],
   "source": [
    "myvar3=12"
   ]
  },
  {
   "cell_type": "code",
   "execution_count": 88,
   "id": "76117662",
   "metadata": {},
   "outputs": [],
   "source": [
    "Myvar=4"
   ]
  },
  {
   "cell_type": "code",
   "execution_count": 89,
   "id": "4705dc6a",
   "metadata": {},
   "outputs": [],
   "source": [
    "MYVAR=67"
   ]
  },
  {
   "cell_type": "code",
   "execution_count": 90,
   "id": "4aa2d8e6",
   "metadata": {},
   "outputs": [],
   "source": [
    "_my_var=24"
   ]
  },
  {
   "cell_type": "code",
   "execution_count": 91,
   "id": "8067c2f4",
   "metadata": {},
   "outputs": [],
   "source": [
    "myVar=67"
   ]
  },
  {
   "cell_type": "code",
   "execution_count": 92,
   "id": "33a6acd0",
   "metadata": {},
   "outputs": [
    {
     "ename": "SyntaxError",
     "evalue": "invalid syntax (Temp/ipykernel_38452/1230301242.py, line 1)",
     "output_type": "error",
     "traceback": [
      "\u001b[1;36m  File \u001b[1;32m\"C:\\Users\\SAMADH~1\\AppData\\Local\\Temp/ipykernel_38452/1230301242.py\"\u001b[1;36m, line \u001b[1;32m1\u001b[0m\n\u001b[1;33m    4myvar=45\u001b[0m\n\u001b[1;37m     ^\u001b[0m\n\u001b[1;31mSyntaxError\u001b[0m\u001b[1;31m:\u001b[0m invalid syntax\n"
     ]
    }
   ],
   "source": [
    "4myvar=45"
   ]
  },
  {
   "cell_type": "code",
   "execution_count": 95,
   "id": "64f4d987",
   "metadata": {},
   "outputs": [
    {
     "ename": "SyntaxError",
     "evalue": "cannot assign to operator (Temp/ipykernel_38452/294631813.py, line 1)",
     "output_type": "error",
     "traceback": [
      "\u001b[1;36m  File \u001b[1;32m\"C:\\Users\\SAMADH~1\\AppData\\Local\\Temp/ipykernel_38452/294631813.py\"\u001b[1;36m, line \u001b[1;32m1\u001b[0m\n\u001b[1;33m    my%var=33\u001b[0m\n\u001b[1;37m    ^\u001b[0m\n\u001b[1;31mSyntaxError\u001b[0m\u001b[1;31m:\u001b[0m cannot assign to operator\n"
     ]
    }
   ],
   "source": [
    "my%var=33"
   ]
  },
  {
   "cell_type": "code",
   "execution_count": 96,
   "id": "846f215c",
   "metadata": {},
   "outputs": [
    {
     "ename": "SyntaxError",
     "evalue": "invalid syntax (Temp/ipykernel_38452/3895860590.py, line 1)",
     "output_type": "error",
     "traceback": [
      "\u001b[1;36m  File \u001b[1;32m\"C:\\Users\\SAMADH~1\\AppData\\Local\\Temp/ipykernel_38452/3895860590.py\"\u001b[1;36m, line \u001b[1;32m1\u001b[0m\n\u001b[1;33m    my var=90\u001b[0m\n\u001b[1;37m       ^\u001b[0m\n\u001b[1;31mSyntaxError\u001b[0m\u001b[1;31m:\u001b[0m invalid syntax\n"
     ]
    }
   ],
   "source": [
    "my var=90"
   ]
  },
  {
   "cell_type": "code",
   "execution_count": null,
   "id": "d6d09422",
   "metadata": {},
   "outputs": [],
   "source": []
  }
 ],
 "metadata": {
  "kernelspec": {
   "display_name": "Python 3 (ipykernel)",
   "language": "python",
   "name": "python3"
  },
  "language_info": {
   "codemirror_mode": {
    "name": "ipython",
    "version": 3
   },
   "file_extension": ".py",
   "mimetype": "text/x-python",
   "name": "python",
   "nbconvert_exporter": "python",
   "pygments_lexer": "ipython3",
   "version": "3.9.7"
  }
 },
 "nbformat": 4,
 "nbformat_minor": 5
}
