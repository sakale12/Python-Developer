{
 "cells": [
  {
   "cell_type": "markdown",
   "id": "852877b6",
   "metadata": {},
   "source": [
    "## class"
   ]
  },
  {
   "cell_type": "code",
   "execution_count": 3,
   "id": "4341b33c",
   "metadata": {},
   "outputs": [],
   "source": [
    "class myclass:\n",
    "    x=5\n",
    "    "
   ]
  },
  {
   "cell_type": "code",
   "execution_count": 4,
   "id": "bacccaf4",
   "metadata": {},
   "outputs": [
    {
     "name": "stdout",
     "output_type": "stream",
     "text": [
      "<class '__main__.myclass'>\n"
     ]
    }
   ],
   "source": [
    "print(myclass)"
   ]
  },
  {
   "cell_type": "markdown",
   "id": "be734748",
   "metadata": {},
   "source": [
    "## Creating obeject"
   ]
  },
  {
   "cell_type": "code",
   "execution_count": 5,
   "id": "f394271f",
   "metadata": {},
   "outputs": [
    {
     "data": {
      "text/plain": [
       "5"
      ]
     },
     "execution_count": 5,
     "metadata": {},
     "output_type": "execute_result"
    }
   ],
   "source": [
    "p=myclass()\n",
    "p.x"
   ]
  },
  {
   "cell_type": "code",
   "execution_count": null,
   "id": "1f00d11b",
   "metadata": {},
   "outputs": [],
   "source": [
    "#Name\n",
    "# attributes\n",
    "# functions"
   ]
  },
  {
   "cell_type": "markdown",
   "id": "3cb3154f",
   "metadata": {},
   "source": [
    "## __init__()"
   ]
  },
  {
   "cell_type": "code",
   "execution_count": 6,
   "id": "41c003db",
   "metadata": {},
   "outputs": [],
   "source": [
    "class person:\n",
    "    def __init__(self,name,age):\n",
    "        self.name=name\n",
    "        self.age=age\n",
    "        "
   ]
  },
  {
   "cell_type": "code",
   "execution_count": 8,
   "id": "91071323",
   "metadata": {},
   "outputs": [
    {
     "data": {
      "text/plain": [
       "'samadhan'"
      ]
     },
     "execution_count": 8,
     "metadata": {},
     "output_type": "execute_result"
    }
   ],
   "source": [
    "p=person(\"samadhan\",24)\n",
    "p.name"
   ]
  },
  {
   "cell_type": "code",
   "execution_count": 9,
   "id": "6e59f30f",
   "metadata": {},
   "outputs": [
    {
     "data": {
      "text/plain": [
       "24"
      ]
     },
     "execution_count": 9,
     "metadata": {},
     "output_type": "execute_result"
    }
   ],
   "source": [
    "p.age"
   ]
  },
  {
   "cell_type": "markdown",
   "id": "da5fb6fa",
   "metadata": {},
   "source": [
    "## __str__() function"
   ]
  },
  {
   "cell_type": "code",
   "execution_count": 10,
   "id": "a33a563b",
   "metadata": {},
   "outputs": [
    {
     "name": "stdout",
     "output_type": "stream",
     "text": [
      "<__main__.person object at 0x000001FBD8785970>\n"
     ]
    }
   ],
   "source": [
    "## without __str__()\n",
    "class person:\n",
    "    def __init__(self,name,age):\n",
    "        self.name=name\n",
    "        self.age=age\n",
    "p1=person(\"samadhan\",24)\n",
    "print(p1)"
   ]
  },
  {
   "cell_type": "code",
   "execution_count": 11,
   "id": "fdc39a49",
   "metadata": {},
   "outputs": [],
   "source": [
    "## with__str__()\n",
    "class person:\n",
    "    def __init__(self,name,age):\n",
    "        self.name=name\n",
    "        self.age=age\n",
    "    def __str__(self):\n",
    "        return f\"{self.name}({self.age})\""
   ]
  },
  {
   "cell_type": "code",
   "execution_count": 12,
   "id": "cbebb814",
   "metadata": {},
   "outputs": [
    {
     "name": "stdout",
     "output_type": "stream",
     "text": [
      "samadhan(24)\n"
     ]
    }
   ],
   "source": [
    "p2=person(\"samadhan\",24)\n",
    "print(p2)"
   ]
  },
  {
   "cell_type": "markdown",
   "id": "1415902d",
   "metadata": {},
   "source": [
    "## object methods"
   ]
  },
  {
   "cell_type": "code",
   "execution_count": 16,
   "id": "2e9c3e25",
   "metadata": {},
   "outputs": [],
   "source": [
    "class person:\n",
    "    def __init__(self,name,age):\n",
    "        self.name=name\n",
    "        self.age=age\n",
    "    def __str__(self):\n",
    "        return f\"{self.name}({self.age})\"\n",
    "    def myfunc(self):\n",
    "        print(\"Hello,my name is\",self.name)"
   ]
  },
  {
   "cell_type": "code",
   "execution_count": 17,
   "id": "394a339a",
   "metadata": {},
   "outputs": [
    {
     "name": "stdout",
     "output_type": "stream",
     "text": [
      "john(25)\n",
      "Hello,my name is john\n"
     ]
    }
   ],
   "source": [
    "p3=person(\"john\",25)\n",
    "print(p3)\n",
    "p3.myfunc()"
   ]
  },
  {
   "cell_type": "markdown",
   "id": "9e0333ed",
   "metadata": {},
   "source": [
    "## self parameter"
   ]
  },
  {
   "cell_type": "code",
   "execution_count": 18,
   "id": "eb1e6e23",
   "metadata": {},
   "outputs": [],
   "source": [
    "class person:\n",
    "    def __init__(object,name,age):\n",
    "        object.name=name\n",
    "        object.age=age\n",
    "    \n",
    "    def myfunc(pqr):\n",
    "        print(\"Hello,my name is\",pqr.name)"
   ]
  },
  {
   "cell_type": "code",
   "execution_count": 19,
   "id": "cb81f68e",
   "metadata": {},
   "outputs": [
    {
     "name": "stdout",
     "output_type": "stream",
     "text": [
      "<__main__.person object at 0x000001FBD8785670>\n",
      "Hello,my name is Rakesh\n"
     ]
    }
   ],
   "source": [
    "p4=person(\"Rakesh\",30)\n",
    "print(p4)\n",
    "p4.myfunc()"
   ]
  },
  {
   "cell_type": "markdown",
   "id": "98bb76d9",
   "metadata": {},
   "source": [
    "## modify object properties"
   ]
  },
  {
   "cell_type": "code",
   "execution_count": 22,
   "id": "d1b1d344",
   "metadata": {},
   "outputs": [],
   "source": [
    "p4.name=\"samadhan\""
   ]
  },
  {
   "cell_type": "code",
   "execution_count": 23,
   "id": "9a83c920",
   "metadata": {},
   "outputs": [
    {
     "name": "stdout",
     "output_type": "stream",
     "text": [
      "Hello,my name is samadhan\n"
     ]
    }
   ],
   "source": [
    "p4.myfunc()"
   ]
  },
  {
   "cell_type": "markdown",
   "id": "3c6972f1",
   "metadata": {},
   "source": [
    "## delete object properties"
   ]
  },
  {
   "cell_type": "code",
   "execution_count": 24,
   "id": "f4d1c965",
   "metadata": {},
   "outputs": [],
   "source": [
    "del p4.name"
   ]
  },
  {
   "cell_type": "code",
   "execution_count": 25,
   "id": "af252aae",
   "metadata": {},
   "outputs": [
    {
     "ename": "AttributeError",
     "evalue": "'person' object has no attribute 'name'",
     "output_type": "error",
     "traceback": [
      "\u001b[1;31m---------------------------------------------------------------------------\u001b[0m",
      "\u001b[1;31mAttributeError\u001b[0m                            Traceback (most recent call last)",
      "\u001b[1;32mC:\\Users\\SAMADH~1\\AppData\\Local\\Temp/ipykernel_5544/862121377.py\u001b[0m in \u001b[0;36m<module>\u001b[1;34m\u001b[0m\n\u001b[1;32m----> 1\u001b[1;33m \u001b[0mp4\u001b[0m\u001b[1;33m.\u001b[0m\u001b[0mname\u001b[0m\u001b[1;33m\u001b[0m\u001b[1;33m\u001b[0m\u001b[0m\n\u001b[0m",
      "\u001b[1;31mAttributeError\u001b[0m: 'person' object has no attribute 'name'"
     ]
    }
   ],
   "source": [
    "p4.name"
   ]
  },
  {
   "cell_type": "markdown",
   "id": "b23082bc",
   "metadata": {},
   "source": [
    "## pass statements"
   ]
  },
  {
   "cell_type": "code",
   "execution_count": 26,
   "id": "adf6b36f",
   "metadata": {},
   "outputs": [],
   "source": [
    "class person:\n",
    "    pass"
   ]
  },
  {
   "cell_type": "code",
   "execution_count": 27,
   "id": "931f589d",
   "metadata": {},
   "outputs": [
    {
     "data": {
      "text/plain": [
       "<__main__.person at 0x1fbd87859a0>"
      ]
     },
     "execution_count": 27,
     "metadata": {},
     "output_type": "execute_result"
    }
   ],
   "source": [
    "person()"
   ]
  },
  {
   "cell_type": "markdown",
   "id": "a8ae9cb6",
   "metadata": {},
   "source": [
    "# Python Inheritance"
   ]
  },
  {
   "cell_type": "markdown",
   "id": "cce2dd8d",
   "metadata": {},
   "source": [
    "- Parent class\n",
    "- Child class"
   ]
  },
  {
   "cell_type": "markdown",
   "id": "a92b8020",
   "metadata": {},
   "source": [
    "## Creating Parent Class "
   ]
  },
  {
   "cell_type": "markdown",
   "id": "efd6a65a",
   "metadata": {},
   "source": [
    "- create a class named person with first name,last name properties and a printname method."
   ]
  },
  {
   "cell_type": "code",
   "execution_count": 1,
   "id": "7aacfa35",
   "metadata": {},
   "outputs": [],
   "source": [
    "class Person:\n",
    "    def __init__(self,fname,lname):\n",
    "        self.firstname=fname\n",
    "        self.lastname=lname\n",
    "    def printname(self):\n",
    "        print(self.firstname,self.lastname)"
   ]
  },
  {
   "cell_type": "code",
   "execution_count": 2,
   "id": "94788690",
   "metadata": {},
   "outputs": [
    {
     "name": "stdout",
     "output_type": "stream",
     "text": [
      "samadhan kale\n"
     ]
    }
   ],
   "source": [
    "x=Person(\"samadhan\",\"kale\")\n",
    "x.printname()"
   ]
  },
  {
   "cell_type": "markdown",
   "id": "5f34bb5f",
   "metadata": {},
   "source": [
    "## Creating Child Class"
   ]
  },
  {
   "cell_type": "markdown",
   "id": "13627bbb",
   "metadata": {},
   "source": [
    "create a class named student which will inherit the properties and methods from the person class"
   ]
  },
  {
   "cell_type": "code",
   "execution_count": 3,
   "id": "be63399d",
   "metadata": {},
   "outputs": [],
   "source": [
    "class Student(Person):\n",
    "    pass"
   ]
  },
  {
   "cell_type": "code",
   "execution_count": 4,
   "id": "4975ae1e",
   "metadata": {},
   "outputs": [
    {
     "name": "stdout",
     "output_type": "stream",
     "text": [
      "samadhan kale\n"
     ]
    }
   ],
   "source": [
    "x=Student(\"samadhan\",\"kale\")\n",
    "x.printname()"
   ]
  },
  {
   "cell_type": "markdown",
   "id": "e6803b2a",
   "metadata": {},
   "source": [
    "## Adding the __ init __() function"
   ]
  },
  {
   "cell_type": "markdown",
   "id": "6f76e66b",
   "metadata": {},
   "source": [
    "Add the __ init__() function to the student class."
   ]
  },
  {
   "cell_type": "code",
   "execution_count": 5,
   "id": "01fe41ee",
   "metadata": {},
   "outputs": [],
   "source": [
    "class Person:\n",
    "    def __init__(self,fname,lname):\n",
    "        self.firstname=fname\n",
    "        self.lastname=lname\n",
    "    def printname(self):\n",
    "        print(self.firstname,self.lastname)\n",
    "class Student(Person):\n",
    "    def __init__(self,fname,lname):\n",
    "        Person.__init__(self,fname,lname)"
   ]
  },
  {
   "cell_type": "code",
   "execution_count": 6,
   "id": "21c7265b",
   "metadata": {},
   "outputs": [
    {
     "name": "stdout",
     "output_type": "stream",
     "text": [
      "samadhan kale\n"
     ]
    }
   ],
   "source": [
    "x=Student(\"samadhan\",\"kale\")\n",
    "x.printname()"
   ]
  },
  {
   "cell_type": "markdown",
   "id": "bd6dbdf5",
   "metadata": {},
   "source": [
    "## Use the super() function "
   ]
  },
  {
   "cell_type": "code",
   "execution_count": 7,
   "id": "2c9bc078",
   "metadata": {},
   "outputs": [],
   "source": [
    "class Person:\n",
    "    def __init__(self,fname,lname):\n",
    "        self.firstname=fname\n",
    "        self.lastname=lname\n",
    "    def printname(self):\n",
    "        print(self.firstname,self.lastname)\n",
    "class Student(Person):\n",
    "    def __init__(self,fname,lname):\n",
    "        super().__init__(fname,lname)"
   ]
  },
  {
   "cell_type": "code",
   "execution_count": 9,
   "id": "86307bd6",
   "metadata": {},
   "outputs": [
    {
     "name": "stdout",
     "output_type": "stream",
     "text": [
      "michel jackson\n"
     ]
    }
   ],
   "source": [
    "x=Student(\"michel\",\"jackson\")\n",
    "x.printname()"
   ]
  },
  {
   "cell_type": "markdown",
   "id": "a3cb2b45",
   "metadata": {},
   "source": [
    "- Add properties"
   ]
  },
  {
   "cell_type": "markdown",
   "id": "f62c726d",
   "metadata": {},
   "source": [
    "Add a property called graduationyear to the sstudent class."
   ]
  },
  {
   "cell_type": "code",
   "execution_count": 10,
   "id": "5d8deefc",
   "metadata": {},
   "outputs": [],
   "source": [
    "class Person:\n",
    "    def __init__(self,fname,lname):\n",
    "        self.firstname=fname\n",
    "        self.lastname=lname\n",
    "    def printname(self):\n",
    "        print(self.firstname,self.lastname)\n",
    "class Student(Person):\n",
    "    def __init__(self,fname,lname):\n",
    "        super().__init__(fname,lname)\n",
    "        self.graduationyear=2022"
   ]
  },
  {
   "cell_type": "code",
   "execution_count": 11,
   "id": "03e437fa",
   "metadata": {},
   "outputs": [
    {
     "name": "stdout",
     "output_type": "stream",
     "text": [
      "2022\n"
     ]
    }
   ],
   "source": [
    "x=Student(\"mike\",\"duke\")\n",
    "print(x.graduationyear)"
   ]
  },
  {
   "cell_type": "markdown",
   "id": "65206ea7",
   "metadata": {},
   "source": [
    "Add the year paraeter and pass the correct year when creating objects."
   ]
  },
  {
   "cell_type": "code",
   "execution_count": 14,
   "id": "ac308aae",
   "metadata": {},
   "outputs": [],
   "source": [
    "class Person:\n",
    "    def __init__(self,fname,lname):\n",
    "        self.firstname=fname\n",
    "        self.lastname=lname\n",
    "    def printname(self):\n",
    "        print(self.firstname,self.lastname)\n",
    "class Student(Person):\n",
    "    def __init__(self,fname,lname,year):\n",
    "        super().__init__(fname,lname)\n",
    "        self.graduationyear=year"
   ]
  },
  {
   "cell_type": "code",
   "execution_count": 15,
   "id": "c3737ba3",
   "metadata": {},
   "outputs": [
    {
     "name": "stdout",
     "output_type": "stream",
     "text": [
      "2022\n"
     ]
    }
   ],
   "source": [
    "x=Student(\"mike\",\"duke\",2022)\n",
    "print(x.graduationyear)"
   ]
  },
  {
   "cell_type": "markdown",
   "id": "50580328",
   "metadata": {},
   "source": [
    "- Add methods"
   ]
  },
  {
   "cell_type": "markdown",
   "id": "58fe34d0",
   "metadata": {},
   "source": [
    "Add method called welcome to the student class."
   ]
  },
  {
   "cell_type": "code",
   "execution_count": 16,
   "id": "00b9bacf",
   "metadata": {},
   "outputs": [],
   "source": [
    "class Person:\n",
    "    def __init__(self,fname,lname):\n",
    "        self.firstname=fname\n",
    "        self.lastname=lname\n",
    "    def printname(self):\n",
    "        print(self.firstname,self.lastname)\n",
    "class Student(Person):\n",
    "    def __init__(self,fname,lname,year):\n",
    "        super().__init__(fname,lname)\n",
    "        self.graduationyear=year\n",
    "        \n",
    "    def welcome(self):\n",
    "        print(\"Welcome\",self.firstname,self.lastname,\"to tht class of\",self.graduationyear)"
   ]
  },
  {
   "cell_type": "code",
   "execution_count": 19,
   "id": "4ac23009",
   "metadata": {},
   "outputs": [
    {
     "name": "stdout",
     "output_type": "stream",
     "text": [
      "mike duke\n",
      "Welcome mike duke to tht class of 2022\n"
     ]
    }
   ],
   "source": [
    "x=Student(\"mike\",\"duke\",2022)\n",
    "x.printname()\n",
    "x.welcome()"
   ]
  },
  {
   "cell_type": "code",
   "execution_count": null,
   "id": "d663ff57",
   "metadata": {},
   "outputs": [],
   "source": []
  }
 ],
 "metadata": {
  "kernelspec": {
   "display_name": "Python 3 (ipykernel)",
   "language": "python",
   "name": "python3"
  },
  "language_info": {
   "codemirror_mode": {
    "name": "ipython",
    "version": 3
   },
   "file_extension": ".py",
   "mimetype": "text/x-python",
   "name": "python",
   "nbconvert_exporter": "python",
   "pygments_lexer": "ipython3",
   "version": "3.9.7"
  }
 },
 "nbformat": 4,
 "nbformat_minor": 5
}
