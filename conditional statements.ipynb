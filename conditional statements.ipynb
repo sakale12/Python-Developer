{
 "cells": [
  {
   "cell_type": "markdown",
   "id": "62ed19c7",
   "metadata": {},
   "source": [
    " ## if keyword"
   ]
  },
  {
   "cell_type": "code",
   "execution_count": 1,
   "id": "b607d831",
   "metadata": {},
   "outputs": [
    {
     "name": "stdout",
     "output_type": "stream",
     "text": [
      "b is greater\n"
     ]
    }
   ],
   "source": [
    "a=5\n",
    "b=6\n",
    "if b>a:\n",
    "    print(\"b is greater\")"
   ]
  },
  {
   "cell_type": "markdown",
   "id": "c7a92e6b",
   "metadata": {},
   "source": [
    "## Indentations in python"
   ]
  },
  {
   "cell_type": "code",
   "execution_count": 2,
   "id": "6e8007b7",
   "metadata": {},
   "outputs": [
    {
     "ename": "IndentationError",
     "evalue": "expected an indented block (Temp/ipykernel_13708/2527909217.py, line 4)",
     "output_type": "error",
     "traceback": [
      "\u001b[1;36m  File \u001b[1;32m\"C:\\Users\\SAMADH~1\\AppData\\Local\\Temp/ipykernel_13708/2527909217.py\"\u001b[1;36m, line \u001b[1;32m4\u001b[0m\n\u001b[1;33m    print(\"b is greater\")\u001b[0m\n\u001b[1;37m    ^\u001b[0m\n\u001b[1;31mIndentationError\u001b[0m\u001b[1;31m:\u001b[0m expected an indented block\n"
     ]
    }
   ],
   "source": [
    "a=5\n",
    "b=6\n",
    "if b>a:\n",
    "print(\"b is greater\")"
   ]
  },
  {
   "cell_type": "markdown",
   "id": "24a564c4",
   "metadata": {},
   "source": [
    "## elif statement"
   ]
  },
  {
   "cell_type": "code",
   "execution_count": 5,
   "id": "b36bc475",
   "metadata": {},
   "outputs": [
    {
     "name": "stdout",
     "output_type": "stream",
     "text": [
      "a is greater\n"
     ]
    }
   ],
   "source": [
    "a=50\n",
    "b=6\n",
    "if b>a:\n",
    "    print(\"b is greater\")\n",
    "elif a>b:\n",
    "    print(\"a is greater\")"
   ]
  },
  {
   "cell_type": "markdown",
   "id": "0344e606",
   "metadata": {},
   "source": [
    "## else statement"
   ]
  },
  {
   "cell_type": "code",
   "execution_count": 9,
   "id": "b3c38fc8",
   "metadata": {},
   "outputs": [
    {
     "name": "stdout",
     "output_type": "stream",
     "text": [
      "a is greater\n"
     ]
    }
   ],
   "source": [
    "a=7\n",
    "b=6\n",
    "if b>a:\n",
    "    print(\"b is greater\")\n",
    "elif a==b:\n",
    "    print(\"a is equal to b\")\n",
    "else:\n",
    "    print(\"a is greater\")"
   ]
  },
  {
   "cell_type": "code",
   "execution_count": 10,
   "id": "fee201bb",
   "metadata": {},
   "outputs": [
    {
     "name": "stdout",
     "output_type": "stream",
     "text": [
      "a is greater\n"
     ]
    }
   ],
   "source": [
    "a=7\n",
    "b=6\n",
    "if b>a:\n",
    "    print(\"b is greater\")\n",
    "if a==b:\n",
    "    print(\"a is equal to b\")\n",
    "else:\n",
    "    print(\"a is greater\")"
   ]
  },
  {
   "cell_type": "markdown",
   "id": "30880005",
   "metadata": {},
   "source": [
    "## if---else"
   ]
  },
  {
   "cell_type": "code",
   "execution_count": 12,
   "id": "f8e5d803",
   "metadata": {},
   "outputs": [
    {
     "name": "stdout",
     "output_type": "stream",
     "text": [
      "b is greater\n"
     ]
    }
   ],
   "source": [
    "a=4\n",
    "b=6\n",
    "if b>a:\n",
    "    print(\"b is greater\")\n",
    "else:\n",
    "    print(\"a is greater\")"
   ]
  },
  {
   "cell_type": "markdown",
   "id": "eb1c0c4e",
   "metadata": {},
   "source": [
    "## Ternary operators"
   ]
  },
  {
   "cell_type": "markdown",
   "id": "681bafe9",
   "metadata": {},
   "source": [
    "- short hand if"
   ]
  },
  {
   "cell_type": "code",
   "execution_count": 15,
   "id": "9769f8d6",
   "metadata": {},
   "outputs": [
    {
     "name": "stdout",
     "output_type": "stream",
     "text": [
      "a is less\n"
     ]
    }
   ],
   "source": [
    "a=5\n",
    "b=6\n",
    "if a<b: print(\"a is less\")"
   ]
  },
  {
   "cell_type": "markdown",
   "id": "87c3ba7d",
   "metadata": {},
   "source": [
    "- short hand if---else"
   ]
  },
  {
   "cell_type": "code",
   "execution_count": 19,
   "id": "1e08812a",
   "metadata": {},
   "outputs": [
    {
     "name": "stdout",
     "output_type": "stream",
     "text": [
      "a is less\n"
     ]
    }
   ],
   "source": [
    "a=5\n",
    "b=6\n",
    "print(\"a is less\") if a<b else print(\"a is not less\")"
   ]
  },
  {
   "cell_type": "markdown",
   "id": "5891b065",
   "metadata": {},
   "source": [
    "- multiple else"
   ]
  },
  {
   "cell_type": "code",
   "execution_count": null,
   "id": "def8e7e3",
   "metadata": {},
   "outputs": [],
   "source": [
    "a=4\n",
    "b=6\n",
    "if b>a:\n",
    "    print(\"b is greater\")\n",
    "else:\n",
    "    print(\"a is greater\")\n"
   ]
  },
  {
   "cell_type": "code",
   "execution_count": 21,
   "id": "af1e1a3a",
   "metadata": {},
   "outputs": [
    {
     "name": "stdout",
     "output_type": "stream",
     "text": [
      "a is less\n",
      "a is not equal to b\n"
     ]
    }
   ],
   "source": [
    "a=5\n",
    "b=6\n",
    "print(\"a is less\") if a<b else print(\"a is not less\") \n",
    "print(\"a=b\") if a==b else print(\"a is not equal to b\")"
   ]
  },
  {
   "cell_type": "markdown",
   "id": "d45e19a6",
   "metadata": {},
   "source": [
    "## And keyword"
   ]
  },
  {
   "cell_type": "code",
   "execution_count": 22,
   "id": "a393beea",
   "metadata": {},
   "outputs": [
    {
     "name": "stdout",
     "output_type": "stream",
     "text": [
      "both conditions are true\n"
     ]
    }
   ],
   "source": [
    "a=3\n",
    "b=5\n",
    "c=7\n",
    "if a<b and c>b:\n",
    "    print(\"both conditions are true\")"
   ]
  },
  {
   "cell_type": "markdown",
   "id": "c25e152c",
   "metadata": {},
   "source": [
    "## Or keyword"
   ]
  },
  {
   "cell_type": "code",
   "execution_count": 23,
   "id": "2965e07d",
   "metadata": {},
   "outputs": [
    {
     "name": "stdout",
     "output_type": "stream",
     "text": [
      "at least one of conditions are true\n"
     ]
    }
   ],
   "source": [
    "a=3\n",
    "b=5\n",
    "c=7\n",
    "if a>b or c>b:\n",
    "    print(\"at least one of conditions are true\")"
   ]
  },
  {
   "cell_type": "markdown",
   "id": "0ac7c25b",
   "metadata": {},
   "source": [
    "## nested if statements"
   ]
  },
  {
   "cell_type": "code",
   "execution_count": 25,
   "id": "80297511",
   "metadata": {},
   "outputs": [
    {
     "name": "stdout",
     "output_type": "stream",
     "text": [
      "greater than 10\n",
      "but not above 20\n"
     ]
    }
   ],
   "source": [
    "a=15\n",
    "if a>10:\n",
    "    print(\"greater than 10\")\n",
    "    if a>20:\n",
    "        print(\"and also greater 20!\")\n",
    "    else:\n",
    "        print(\"but not above 20\")"
   ]
  },
  {
   "cell_type": "markdown",
   "id": "43975f3b",
   "metadata": {},
   "source": [
    "## pass staement"
   ]
  },
  {
   "cell_type": "code",
   "execution_count": 29,
   "id": "65bea691",
   "metadata": {},
   "outputs": [],
   "source": [
    "a=3\n",
    "b=9\n",
    "if a<b:\n",
    "    pass\n",
    "    "
   ]
  },
  {
   "cell_type": "markdown",
   "id": "2defabc2",
   "metadata": {},
   "source": [
    "## Find whether a number entered by the user is divisible by 3 and 13."
   ]
  },
  {
   "cell_type": "code",
   "execution_count": 3,
   "id": "07c573e2",
   "metadata": {},
   "outputs": [
    {
     "name": "stdout",
     "output_type": "stream",
     "text": [
      "enter a no:1000678\n",
      "1000678 is not divisible by 3 and 13\n"
     ]
    }
   ],
   "source": [
    "n=int(input(\"enter a no:\"))\n",
    "if n%3==0 and n%13==0:\n",
    "    print(n,\"is divisible by 3 and 13\")\n",
    "else:\n",
    "    print(n,\"is not divisible by 3 and 13\")"
   ]
  },
  {
   "cell_type": "code",
   "execution_count": null,
   "id": "f6258fd7",
   "metadata": {},
   "outputs": [],
   "source": []
  },
  {
   "cell_type": "markdown",
   "id": "7354916d",
   "metadata": {},
   "source": [
    "## Find whether the number entered by the user is a perfect square."
   ]
  },
  {
   "cell_type": "code",
   "execution_count": 4,
   "id": "a3d446a0",
   "metadata": {},
   "outputs": [
    {
     "name": "stdout",
     "output_type": "stream",
     "text": [
      "enter a no:16\n",
      "16  is perfect square\n"
     ]
    }
   ],
   "source": [
    "import math\n",
    "n=int(input(\"enter a no:\"))\n",
    "root=math.sqrt(n)\n",
    "if int(root+0.5)**2==n:\n",
    "    print(n,\" is perfect square\")\n",
    "else:\n",
    "    print(n,\" is not perfect square\")"
   ]
  },
  {
   "cell_type": "markdown",
   "id": "77da33fa",
   "metadata": {},
   "source": [
    "## find out if a number is even or odd."
   ]
  },
  {
   "cell_type": "code",
   "execution_count": 6,
   "id": "6a73609c",
   "metadata": {},
   "outputs": [
    {
     "name": "stdout",
     "output_type": "stream",
     "text": [
      "enter a no:68\n",
      "68 is even no\n"
     ]
    }
   ],
   "source": [
    "n=int(input(\"enter a no:\"))\n",
    "if n%2==0:\n",
    "    print(n,\"is even no\")\n",
    "else:\n",
    "    print(n,\"is odd no\")"
   ]
  },
  {
   "cell_type": "markdown",
   "id": "d3c4cb84",
   "metadata": {},
   "source": [
    "## find out The given number is positive or negative or zero."
   ]
  },
  {
   "cell_type": "code",
   "execution_count": 9,
   "id": "38692e82",
   "metadata": {},
   "outputs": [
    {
     "name": "stdout",
     "output_type": "stream",
     "text": [
      "enter a no:56\n",
      "56 is positive no\n"
     ]
    }
   ],
   "source": [
    "n=int(input(\"enter a no:\"))\n",
    "if n>0:\n",
    "    print(n,\"is positive no\")\n",
    "elif n<0:\n",
    "    print(n,\"is negative no\")\n",
    "else:\n",
    "    print(n,\"is zero\")"
   ]
  },
  {
   "cell_type": "markdown",
   "id": "85f6c4c4",
   "metadata": {},
   "source": [
    "## find out The given number is of one digited or two digited or three digited or more than three digited."
   ]
  },
  {
   "cell_type": "code",
   "execution_count": 13,
   "id": "1698e9e0",
   "metadata": {},
   "outputs": [
    {
     "name": "stdout",
     "output_type": "stream",
     "text": [
      "enter a no:1346\n",
      "1346 is more than 3 digit no\n"
     ]
    }
   ],
   "source": [
    "n=int(input(\"enter a no:\"))\n",
    "if n>0 and n<10:\n",
    "    print(n,\"is one digit no\")\n",
    "elif n>=10 and n<100:\n",
    "    print(n,\"is two digit no\")\n",
    "elif n>=100 and n<1000:\n",
    "    print(n,\"is three digit no\")\n",
    "else:\n",
    "    print(n,\"is more than 3 digit no\")"
   ]
  },
  {
   "cell_type": "markdown",
   "id": "3b1ba6da",
   "metadata": {},
   "source": [
    "## find out The entered number is smallest 4 digit number or not."
   ]
  },
  {
   "cell_type": "code",
   "execution_count": 15,
   "id": "44bd333d",
   "metadata": {},
   "outputs": [
    {
     "name": "stdout",
     "output_type": "stream",
     "text": [
      "enter a no:789\n",
      "not smallest 4 digit no\n"
     ]
    }
   ],
   "source": [
    "n=int(input(\"enter a no:\"))\n",
    "if n==1000:\n",
    "    print(n, \"is smallest 4 digit no\")\n",
    "else:\n",
    "    print(\"not smallest 4 digit no\")"
   ]
  },
  {
   "cell_type": "markdown",
   "id": "295bed9f",
   "metadata": {},
   "source": [
    "## find out The given year is a leap year or not."
   ]
  },
  {
   "cell_type": "code",
   "execution_count": 19,
   "id": "7bebb980",
   "metadata": {},
   "outputs": [
    {
     "name": "stdout",
     "output_type": "stream",
     "text": [
      "enter a year:2000\n",
      "2000 is a leap year\n"
     ]
    }
   ],
   "source": [
    "year=int(input(\"enter a year:\"))\n",
    "if (year%4==0 and year%100!=0) or (year%400==0):\n",
    "    print(year,\"is a leap year\")\n",
    "else:\n",
    "    print(year,\"is not leap year\")"
   ]
  },
  {
   "cell_type": "markdown",
   "id": "49cf057f",
   "metadata": {},
   "source": [
    "##  Find maximum number out of given three numbers."
   ]
  },
  {
   "cell_type": "code",
   "execution_count": 21,
   "id": "10989941",
   "metadata": {},
   "outputs": [
    {
     "name": "stdout",
     "output_type": "stream",
     "text": [
      "enter a no:9\n",
      "enter a no:9\n",
      "enter a no:9\n",
      "all now are equal\n"
     ]
    }
   ],
   "source": [
    "n1=int(input(\"enter a no:\"))\n",
    "n2=int(input(\"enter a no:\"))\n",
    "n3=int(input(\"enter a no:\"))\n",
    "if n1>n2 and n1>n3:\n",
    "    print(n1,\"is mximum\")\n",
    "elif n2>n1 and n2>n3:\n",
    "    print(n2,\"is maximum\")\n",
    "elif n3>n1 and n3>n2:\n",
    "    print(n3,\"is maximum\")\n",
    "else:\n",
    "    print(\"all now are equal\")"
   ]
  },
  {
   "cell_type": "markdown",
   "id": "c612228b",
   "metadata": {},
   "source": [
    "##  Write a program that reads three positive numbers a, b, c and determines whether they can form the three sides of a triangle."
   ]
  },
  {
   "cell_type": "code",
   "execution_count": null,
   "id": "2e4e68d8",
   "metadata": {},
   "outputs": [],
   "source": [
    " a=int(input(\"Enter no1:\")) \n",
    "    b=int(input(\"Enter no2:\")) \n",
    "    c=int(input(\"Enter no3:\"))\n",
    "    if(((a+b)<=c)or((b+c)<=a)or((c+a)<=b)):\n",
    "        print(\"It can not form the triangle\")\n",
    "    else:\n",
    "        print(\"It can form the triangle\")"
   ]
  },
  {
   "cell_type": "markdown",
   "id": "4d70d3e7",
   "metadata": {},
   "source": [
    "##  Whether the triangle will be an obtuse-angle, or a right-angle or an acute-angle triangle."
   ]
  },
  {
   "cell_type": "code",
   "execution_count": null,
   "id": "47c142df",
   "metadata": {},
   "outputs": [],
   "source": [
    "a=int(input(\"Enter no1:\")) \n",
    "    b=int(input(\"Enter no2:\")) \n",
    "    c=int(input(\"Enter no3:\"))\n",
    "    square_a = a**2\n",
    "    square_b = b**2\n",
    "    square_c = c**2\n",
    "    if square_a == square_a + square_b or square_b == square_a + square_c or square_c == square_a + square_b:\n",
    "        print(\"Right-angled Triangle\") \n",
    "    elif square_a > square_c + square_b or square_b > square_a + square_c or square_c > square_a + square_b: \n",
    "        print(\"Obtuse-angled Triangle\")\n",
    "    else: \n",
    "        print(\"Acute-angled Triangle\") "
   ]
  },
  {
   "cell_type": "markdown",
   "id": "9d84cd4b",
   "metadata": {},
   "source": [
    "## If the triangle is an acute angle triangle, determine further whether the triangle is equilateral, isosceles, or scalene."
   ]
  },
  {
   "cell_type": "code",
   "execution_count": null,
   "id": "e5180c71",
   "metadata": {},
   "outputs": [],
   "source": [
    "a=int(input(\"Enter no1:\")) \n",
    "    b=int(input(\"Enter no2:\")) \n",
    "    c=int(input(\"Enter no3:\"))\n",
    "    if a==b==c:\n",
    "        print(\"Equilateral triangle\")\n",
    "    elif a==b or b==c or c==a:\n",
    "       print(\"isosceles triangle\")\n",
    "    else: \n",
    "        print(\"Scalene triangle\")"
   ]
  },
  {
   "cell_type": "markdown",
   "id": "7c1b7e43",
   "metadata": {},
   "source": [
    "A toy vendor supplies three types of toys: Battery Based Toys, Key-based Toys, and Electrical Charging Based Toys. The vendor gives a discount of 10% on orders for battery-based toys if the order is for more than Rs. 1000. On orders of more than Rs. 100 for key-based toys, a discount of 5% is given, and a discount of 10% is given on orders for electrical charging based toys of value more than Rs. 500. Assume that the numeric codes 1,2 and 3 are used for battery based toys, key-based toys, and electrical charging based toys respectively. Write a program that reads the product code and the order amount and prints out the net amount that the customer is required to pay after the discount."
   ]
  },
  {
   "cell_type": "code",
   "execution_count": null,
   "id": "725eb696",
   "metadata": {},
   "outputs": [],
   "source": [
    "print(\"1. For Battery based Toys\")\n",
    "    print(\"2. For Key based Toys\")\n",
    "    print(\"3. Electric chargin based Toys\")\n",
    "    opt = int(input(\"Enter the product code (1,2 or 3)?:\"))\n",
    "    amt = int(input(\"Enter the amount:\"))\n",
    "    if opt==1:\n",
    "        if amt>1000:\n",
    "            dis = amt * 0.1\n",
    "        else:\n",
    "            dis = 0\n",
    "    elif opt==2:\n",
    "        if amt>100:\n",
    "            dis = amt * 0.05\n",
    "        else:\n",
    "            dis=0\n",
    "    elif opt==3:\n",
    "        if amt>500:\n",
    "            dis = amt*0.1\n",
    "        else:\n",
    "            dis = 0\n",
    "    else:\n",
    "        print(\"Product is not available\")\n",
    "    bill_amt= amt - dis\n",
    "    print(\"Customer has to pay:\",bill_amt)"
   ]
  },
  {
   "cell_type": "code",
   "execution_count": null,
   "id": "5871406d",
   "metadata": {},
   "outputs": [],
   "source": []
  }
 ],
 "metadata": {
  "kernelspec": {
   "display_name": "Python 3 (ipykernel)",
   "language": "python",
   "name": "python3"
  },
  "language_info": {
   "codemirror_mode": {
    "name": "ipython",
    "version": 3
   },
   "file_extension": ".py",
   "mimetype": "text/x-python",
   "name": "python",
   "nbconvert_exporter": "python",
   "pygments_lexer": "ipython3",
   "version": "3.9.7"
  }
 },
 "nbformat": 4,
 "nbformat_minor": 5
}
