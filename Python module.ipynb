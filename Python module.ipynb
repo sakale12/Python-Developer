{
 "cells": [
  {
   "cell_type": "markdown",
   "id": "0e2d384f",
   "metadata": {},
   "source": [
    "- Create a module"
   ]
  },
  {
   "cell_type": "code",
   "execution_count": 1,
   "id": "74c93d1f",
   "metadata": {},
   "outputs": [],
   "source": [
    "import statistics as st\n",
    "import math\n",
    "def add(x,y):\n",
    "    return x+y\n",
    "def sub(x,y):\n",
    "    return x-y\n",
    "def mul(x,y):\n",
    "    return x*y\n",
    "def div(x,y):\n",
    "    return x/y\n",
    "def power(x,y):\n",
    "    return(x**y)\n",
    "def find_mean(*x):\n",
    "    return sum(list(x))/len(list(x))\n",
    "def find_mode(*x):\n",
    "    return st.mode(x)\n",
    "month=[\"jan\",\"Feb\",\"march\",\"april\"]\n",
    "colors=(\"Black\",\"Green\",\"Blue\")\n",
    "person={\"name\":\"Rajan\",\"age\":30}\n",
    "def sqrt(a):\n",
    "    return math.sqrt(a)"
   ]
  },
  {
   "cell_type": "markdown",
   "id": "17120cbe",
   "metadata": {},
   "source": [
    "- use the module"
   ]
  },
  {
   "cell_type": "code",
   "execution_count": 2,
   "id": "7948db1f",
   "metadata": {},
   "outputs": [],
   "source": [
    "import samadhan   # module name.funct name"
   ]
  },
  {
   "cell_type": "code",
   "execution_count": 7,
   "id": "d8d02030",
   "metadata": {},
   "outputs": [
    {
     "ename": "AttributeError",
     "evalue": "module 'samadhan' has no attribute 'add'",
     "output_type": "error",
     "traceback": [
      "\u001b[1;31m---------------------------------------------------------------------------\u001b[0m",
      "\u001b[1;31mAttributeError\u001b[0m                            Traceback (most recent call last)",
      "\u001b[1;32mC:\\Users\\SAMADH~1\\AppData\\Local\\Temp/ipykernel_33316/2593844180.py\u001b[0m in \u001b[0;36m<module>\u001b[1;34m\u001b[0m\n\u001b[1;32m----> 1\u001b[1;33m \u001b[0msamadhan\u001b[0m\u001b[1;33m.\u001b[0m\u001b[0madd\u001b[0m\u001b[1;33m(\u001b[0m\u001b[1;36m2\u001b[0m\u001b[1;33m,\u001b[0m\u001b[1;36m7\u001b[0m\u001b[1;33m)\u001b[0m\u001b[1;33m\u001b[0m\u001b[1;33m\u001b[0m\u001b[0m\n\u001b[0m",
      "\u001b[1;31mAttributeError\u001b[0m: module 'samadhan' has no attribute 'add'"
     ]
    }
   ],
   "source": [
    "samadhan.add(2,7)"
   ]
  },
  {
   "cell_type": "code",
   "execution_count": 5,
   "id": "cb2a4f24",
   "metadata": {},
   "outputs": [
    {
     "name": "stdout",
     "output_type": "stream",
     "text": [
      "['__builtins__', '__cached__', '__doc__', '__file__', '__loader__', '__name__', '__package__', '__spec__']\n"
     ]
    }
   ],
   "source": [
    "print(dir(samadhan))"
   ]
  },
  {
   "cell_type": "code",
   "execution_count": null,
   "id": "449a7225",
   "metadata": {},
   "outputs": [],
   "source": []
  }
 ],
 "metadata": {
  "kernelspec": {
   "display_name": "Python 3 (ipykernel)",
   "language": "python",
   "name": "python3"
  },
  "language_info": {
   "codemirror_mode": {
    "name": "ipython",
    "version": 3
   },
   "file_extension": ".py",
   "mimetype": "text/x-python",
   "name": "python",
   "nbconvert_exporter": "python",
   "pygments_lexer": "ipython3",
   "version": "3.9.7"
  }
 },
 "nbformat": 4,
 "nbformat_minor": 5
}
