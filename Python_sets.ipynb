{
 "cells": [
  {
   "cell_type": "code",
   "execution_count": 1,
   "id": "481a0b23",
   "metadata": {},
   "outputs": [
    {
     "name": "stdout",
     "output_type": "stream",
     "text": [
      "{1, 2, 3, 4, 5}\n"
     ]
    }
   ],
   "source": [
    "s={1,2,3,4,5}\n",
    "print(s)"
   ]
  },
  {
   "cell_type": "code",
   "execution_count": 2,
   "id": "5dfdb4fe",
   "metadata": {},
   "outputs": [
    {
     "data": {
      "text/plain": [
       "{1, 2, 3, 4, 5}"
      ]
     },
     "execution_count": 2,
     "metadata": {},
     "output_type": "execute_result"
    }
   ],
   "source": [
    "s"
   ]
  },
  {
   "cell_type": "markdown",
   "id": "a9025e44",
   "metadata": {},
   "source": [
    "- sets are unordered, unindexed,unchangeable"
   ]
  },
  {
   "cell_type": "code",
   "execution_count": 3,
   "id": "bb3b3448",
   "metadata": {},
   "outputs": [
    {
     "name": "stdout",
     "output_type": "stream",
     "text": [
      "{'c', 'a', 'b'}\n"
     ]
    }
   ],
   "source": [
    "s1={\"a\",\"b\",\"c\",\"a\"}   ## set do not allows dupicates\n",
    "print(s1)"
   ]
  },
  {
   "cell_type": "markdown",
   "id": "0bc8a2c8",
   "metadata": {},
   "source": [
    "## Length of set"
   ]
  },
  {
   "cell_type": "code",
   "execution_count": 4,
   "id": "ad57f042",
   "metadata": {},
   "outputs": [
    {
     "name": "stdout",
     "output_type": "stream",
     "text": [
      "{'c', 'a', 'b'}\n",
      "3\n"
     ]
    }
   ],
   "source": [
    "s1={\"a\",\"b\",\"c\",\"a\"}   ## set do not allows dupicates\n",
    "print(s1)\n",
    "print(len(s1))"
   ]
  },
  {
   "cell_type": "markdown",
   "id": "1928b9bc",
   "metadata": {},
   "source": [
    "## Set items data types"
   ]
  },
  {
   "cell_type": "code",
   "execution_count": 5,
   "id": "18247ed2",
   "metadata": {},
   "outputs": [
    {
     "name": "stdout",
     "output_type": "stream",
     "text": [
      "{1, 4, 6, 8, 9}\n",
      "{'c', 'a', 'b'}\n",
      "{False, True}\n"
     ]
    }
   ],
   "source": [
    "s1={1,4,6,8,9}\n",
    "print(s1)\n",
    "s2={\"a\",\"b\",\"c\"}\n",
    "print(s2)\n",
    "s3={True,True,False}\n",
    "print(s3)\n"
   ]
  },
  {
   "cell_type": "code",
   "execution_count": 11,
   "id": "5ccceb47",
   "metadata": {},
   "outputs": [
    {
     "name": "stdout",
     "output_type": "stream",
     "text": [
      "{1, 2, 3, 'y', 'x', 'z'}\n"
     ]
    }
   ],
   "source": [
    "s4={1,2,3,\"x\",True,\"y\",\"z\"}  # Set allows different data types\n",
    "print(s4)"
   ]
  },
  {
   "cell_type": "markdown",
   "id": "89c98f60",
   "metadata": {},
   "source": [
    "## Set constructor"
   ]
  },
  {
   "cell_type": "code",
   "execution_count": 12,
   "id": "c3983c30",
   "metadata": {},
   "outputs": [
    {
     "name": "stdout",
     "output_type": "stream",
     "text": [
      "{1, 2, 3, 7, 'a'}\n"
     ]
    }
   ],
   "source": [
    "s=set((\"a\",1,2,3,7))\n",
    "print(s)"
   ]
  },
  {
   "cell_type": "markdown",
   "id": "87000acc",
   "metadata": {},
   "source": [
    "## Accessing set items"
   ]
  },
  {
   "cell_type": "markdown",
   "id": "42ddd4cc",
   "metadata": {},
   "source": [
    "- By using for loop"
   ]
  },
  {
   "cell_type": "code",
   "execution_count": 13,
   "id": "5b2f2e84",
   "metadata": {},
   "outputs": [
    {
     "name": "stdout",
     "output_type": "stream",
     "text": [
      "banana\n",
      "cherry\n",
      "apple\n",
      "watermelon\n"
     ]
    }
   ],
   "source": [
    "s1={\"apple\",\"banana\",\"cherry\",\"watermelon\"}\n",
    "for x in s1:\n",
    "    print(x)"
   ]
  },
  {
   "cell_type": "markdown",
   "id": "dd362bee",
   "metadata": {},
   "source": [
    "- By using in keyword"
   ]
  },
  {
   "cell_type": "code",
   "execution_count": 14,
   "id": "c9b40b4d",
   "metadata": {},
   "outputs": [
    {
     "name": "stdout",
     "output_type": "stream",
     "text": [
      "True\n"
     ]
    }
   ],
   "source": [
    "s1={\"apple\",\"banana\",\"cherry\",\"watermelon\"}\n",
    "print(\"apple\" in s1)"
   ]
  },
  {
   "cell_type": "markdown",
   "id": "a94f74a8",
   "metadata": {},
   "source": [
    "## Adding set items"
   ]
  },
  {
   "cell_type": "code",
   "execution_count": 15,
   "id": "5332ca13",
   "metadata": {},
   "outputs": [
    {
     "name": "stdout",
     "output_type": "stream",
     "text": [
      "{'banana', 'cherry', 'apple', 'lemon', 'watermelon'}\n"
     ]
    }
   ],
   "source": [
    "s1={\"apple\",\"banana\",\"cherry\",\"watermelon\"}\n",
    "s1.add(\"lemon\")\n",
    "print(s1)"
   ]
  },
  {
   "cell_type": "markdown",
   "id": "59531a25",
   "metadata": {},
   "source": [
    "## Add sets"
   ]
  },
  {
   "cell_type": "code",
   "execution_count": 16,
   "id": "bcdb25e8",
   "metadata": {},
   "outputs": [
    {
     "name": "stdout",
     "output_type": "stream",
     "text": [
      "{'cherry', 'apple', 'mango', 'banana', 'lemon', 'watermelon', 'papaya'}\n"
     ]
    }
   ],
   "source": [
    "s1={\"apple\",\"banana\",\"cherry\",\"watermelon\"}\n",
    "s2={\"lemon\",\"papaya\",\"mango\"}\n",
    "s1.update(s2)\n",
    "print(s1)"
   ]
  },
  {
   "cell_type": "markdown",
   "id": "20b1f308",
   "metadata": {},
   "source": [
    "## Adding any iterable"
   ]
  },
  {
   "cell_type": "code",
   "execution_count": 17,
   "id": "c0996da7",
   "metadata": {},
   "outputs": [
    {
     "name": "stdout",
     "output_type": "stream",
     "text": [
      "{'mango', 'banana', 'papaya', 'cherry', 'apple', 'lemon', 'watermelon'}\n"
     ]
    }
   ],
   "source": [
    "s1={\"apple\",\"banana\",\"cherry\",\"watermelon\"}\n",
    "l1=[\"lemon\",\"papaya\",\"mango\"]\n",
    "s1.update(l1)\n",
    "print(s1)"
   ]
  },
  {
   "cell_type": "markdown",
   "id": "2ad9b003",
   "metadata": {},
   "source": [
    "## Remove items"
   ]
  },
  {
   "cell_type": "code",
   "execution_count": 19,
   "id": "e5374b31",
   "metadata": {},
   "outputs": [
    {
     "name": "stdout",
     "output_type": "stream",
     "text": [
      "{'banana', 'apple', 'watermelon'}\n"
     ]
    }
   ],
   "source": [
    "s1={\"apple\",\"banana\",\"cherry\",\"watermelon\"}   ## remove() method\n",
    "s1.remove(\"cherry\")\n",
    "print(s1)"
   ]
  },
  {
   "cell_type": "code",
   "execution_count": 20,
   "id": "9d14920b",
   "metadata": {},
   "outputs": [
    {
     "name": "stdout",
     "output_type": "stream",
     "text": [
      "{'banana', 'apple', 'watermelon'}\n"
     ]
    }
   ],
   "source": [
    "s1={\"apple\",\"banana\",\"cherry\",\"watermelon\"}\n",
    "s1.discard(\"cherry\")       ## discard() method\n",
    "print(s1)"
   ]
  },
  {
   "cell_type": "code",
   "execution_count": 21,
   "id": "b72b2ad1",
   "metadata": {},
   "outputs": [
    {
     "name": "stdout",
     "output_type": "stream",
     "text": [
      "banana\n",
      "{'cherry', 'apple', 'watermelon'}\n"
     ]
    }
   ],
   "source": [
    "s1={\"apple\",\"banana\",\"cherry\",\"watermelon\"}\n",
    "x=s1.pop()           # removes last item\n",
    "print(x)\n",
    "print(s1)"
   ]
  },
  {
   "cell_type": "code",
   "execution_count": 22,
   "id": "b5dd9657",
   "metadata": {},
   "outputs": [
    {
     "name": "stdout",
     "output_type": "stream",
     "text": [
      "set()\n"
     ]
    }
   ],
   "source": [
    "s1={\"apple\",\"banana\",\"cherry\",\"watermelon\"}\n",
    "s1.clear()        ## remove the set or empty set\n",
    "print(s1)"
   ]
  },
  {
   "cell_type": "code",
   "execution_count": 24,
   "id": "3382f365",
   "metadata": {},
   "outputs": [
    {
     "ename": "NameError",
     "evalue": "name 's1' is not defined",
     "output_type": "error",
     "traceback": [
      "\u001b[1;31m---------------------------------------------------------------------------\u001b[0m",
      "\u001b[1;31mNameError\u001b[0m                                 Traceback (most recent call last)",
      "\u001b[1;32mC:\\Users\\SAMADH~1\\AppData\\Local\\Temp/ipykernel_18408/3368909518.py\u001b[0m in \u001b[0;36m<module>\u001b[1;34m\u001b[0m\n\u001b[0;32m      1\u001b[0m \u001b[0ms1\u001b[0m\u001b[1;33m=\u001b[0m\u001b[1;33m{\u001b[0m\u001b[1;34m\"apple\"\u001b[0m\u001b[1;33m,\u001b[0m\u001b[1;34m\"banana\"\u001b[0m\u001b[1;33m,\u001b[0m\u001b[1;34m\"cherry\"\u001b[0m\u001b[1;33m,\u001b[0m\u001b[1;34m\"watermelon\"\u001b[0m\u001b[1;33m}\u001b[0m\u001b[1;33m\u001b[0m\u001b[1;33m\u001b[0m\u001b[0m\n\u001b[0;32m      2\u001b[0m \u001b[1;32mdel\u001b[0m \u001b[0ms1\u001b[0m\u001b[1;33m\u001b[0m\u001b[1;33m\u001b[0m\u001b[0m\n\u001b[1;32m----> 3\u001b[1;33m \u001b[0mprint\u001b[0m\u001b[1;33m(\u001b[0m\u001b[0ms1\u001b[0m\u001b[1;33m)\u001b[0m\u001b[1;33m\u001b[0m\u001b[1;33m\u001b[0m\u001b[0m\n\u001b[0m",
      "\u001b[1;31mNameError\u001b[0m: name 's1' is not defined"
     ]
    }
   ],
   "source": [
    "s1={\"apple\",\"banana\",\"cherry\",\"watermelon\"}\n",
    "del s1     ## delete set completely\n",
    "print(s1)"
   ]
  },
  {
   "cell_type": "markdown",
   "id": "c2e869cf",
   "metadata": {},
   "source": [
    "## Set methods"
   ]
  },
  {
   "cell_type": "code",
   "execution_count": 1,
   "id": "f402026f",
   "metadata": {},
   "outputs": [
    {
     "name": "stdout",
     "output_type": "stream",
     "text": [
      "['__and__', '__class__', '__class_getitem__', '__contains__', '__delattr__', '__dir__', '__doc__', '__eq__', '__format__', '__ge__', '__getattribute__', '__gt__', '__hash__', '__iand__', '__init__', '__init_subclass__', '__ior__', '__isub__', '__iter__', '__ixor__', '__le__', '__len__', '__lt__', '__ne__', '__new__', '__or__', '__rand__', '__reduce__', '__reduce_ex__', '__repr__', '__ror__', '__rsub__', '__rxor__', '__setattr__', '__sizeof__', '__str__', '__sub__', '__subclasshook__', '__xor__', 'add', 'clear', 'copy', 'difference', 'difference_update', 'discard', 'intersection', 'intersection_update', 'isdisjoint', 'issubset', 'issuperset', 'pop', 'remove', 'symmetric_difference', 'symmetric_difference_update', 'union', 'update']\n"
     ]
    }
   ],
   "source": [
    "print(dir(set))"
   ]
  },
  {
   "cell_type": "markdown",
   "id": "723f1fd3",
   "metadata": {},
   "source": [
    "- union method"
   ]
  },
  {
   "cell_type": "code",
   "execution_count": 29,
   "id": "5781a840",
   "metadata": {},
   "outputs": [
    {
     "data": {
      "text/plain": [
       "{2, 3, 4, 5, 8, 9, 10}"
      ]
     },
     "execution_count": 29,
     "metadata": {},
     "output_type": "execute_result"
    }
   ],
   "source": [
    "s1={2,3,4,5,8,9}\n",
    "s2={2,4,8,9,10}\n",
    "s1.union(s2)             ##Return the union of sets as a new set.  (i.e. all elements that are in either set.)"
   ]
  },
  {
   "cell_type": "code",
   "execution_count": null,
   "id": "d60f4297",
   "metadata": {},
   "outputs": [],
   "source": []
  },
  {
   "cell_type": "markdown",
   "id": "4c536c5d",
   "metadata": {},
   "source": [
    "- symmetric_difference_update method"
   ]
  },
  {
   "cell_type": "code",
   "execution_count": 27,
   "id": "b305e504",
   "metadata": {},
   "outputs": [],
   "source": [
    "s1={2,3,4,5,8,9}\n",
    "s2={2,4,8,9,10}\n",
    "s1.symmetric_difference_update(s2)        # Update a set with the symmetric difference of itself and another."
   ]
  },
  {
   "cell_type": "code",
   "execution_count": 28,
   "id": "0b183a77",
   "metadata": {},
   "outputs": [
    {
     "data": {
      "text/plain": [
       "{3, 5, 10}"
      ]
     },
     "execution_count": 28,
     "metadata": {},
     "output_type": "execute_result"
    }
   ],
   "source": [
    "s1"
   ]
  },
  {
   "cell_type": "markdown",
   "id": "dcba1eeb",
   "metadata": {},
   "source": [
    "- symmetric difference method"
   ]
  },
  {
   "cell_type": "code",
   "execution_count": 26,
   "id": "d9e5d9f9",
   "metadata": {},
   "outputs": [
    {
     "data": {
      "text/plain": [
       "{3, 5, 10}"
      ]
     },
     "execution_count": 26,
     "metadata": {},
     "output_type": "execute_result"
    }
   ],
   "source": [
    "s1={2,3,4,5,8,9}\n",
    "s2={2,4,8,9,10}\n",
    "s1.symmetric_difference(s2)       # Return the symmetric difference of two sets as a new set.   (i.e. all elements that are in exactly one of the sets.)"
   ]
  },
  {
   "cell_type": "markdown",
   "id": "ee7371f5",
   "metadata": {},
   "source": [
    "- issuperset method"
   ]
  },
  {
   "cell_type": "code",
   "execution_count": 25,
   "id": "64022a95",
   "metadata": {},
   "outputs": [
    {
     "data": {
      "text/plain": [
       "True"
      ]
     },
     "execution_count": 25,
     "metadata": {},
     "output_type": "execute_result"
    }
   ],
   "source": [
    "s1={2,3,4,5}\n",
    "s2={2,3,4,5,1,8,9}\n",
    "s2.issuperset(s1)        #  Report whether this set contains another set."
   ]
  },
  {
   "cell_type": "markdown",
   "id": "1360409e",
   "metadata": {},
   "source": [
    "- issubset"
   ]
  },
  {
   "cell_type": "code",
   "execution_count": 24,
   "id": "6a66dcbe",
   "metadata": {},
   "outputs": [
    {
     "data": {
      "text/plain": [
       "True"
      ]
     },
     "execution_count": 24,
     "metadata": {},
     "output_type": "execute_result"
    }
   ],
   "source": [
    "s1={1,2,3,4,5}\n",
    "s2={2,3,4,5,1}\n",
    "s1.issubset(s2)        #  Report whether another set contains this set."
   ]
  },
  {
   "cell_type": "markdown",
   "id": "93e137ed",
   "metadata": {},
   "source": [
    "- isdisjoint method"
   ]
  },
  {
   "cell_type": "code",
   "execution_count": 20,
   "id": "cd55c148",
   "metadata": {},
   "outputs": [
    {
     "data": {
      "text/plain": [
       "False"
      ]
     },
     "execution_count": 20,
     "metadata": {},
     "output_type": "execute_result"
    }
   ],
   "source": [
    "s1={1,2,3,4}\n",
    "s2={2,3,4,5}\n",
    "s1.isdisjoint(s2)        #  Return True if two sets have a null intersection."
   ]
  },
  {
   "cell_type": "code",
   "execution_count": 21,
   "id": "4be5e793",
   "metadata": {},
   "outputs": [
    {
     "data": {
      "text/plain": [
       "True"
      ]
     },
     "execution_count": 21,
     "metadata": {},
     "output_type": "execute_result"
    }
   ],
   "source": [
    "s1={1,2,3,4}\n",
    "s2={5,6,7,8,9}\n",
    "s1.isdisjoint(s2)"
   ]
  },
  {
   "cell_type": "markdown",
   "id": "15b95694",
   "metadata": {},
   "source": [
    "-  intersection_update"
   ]
  },
  {
   "cell_type": "code",
   "execution_count": 18,
   "id": "26572117",
   "metadata": {},
   "outputs": [],
   "source": [
    "s1={1,2,3,4}\n",
    "s2={2,3,4,5}\n",
    "s1.intersection_update(s2)   # Update a set with the intersection of itself and another."
   ]
  },
  {
   "cell_type": "code",
   "execution_count": 19,
   "id": "60c29e97",
   "metadata": {},
   "outputs": [
    {
     "data": {
      "text/plain": [
       "{2, 3, 4}"
      ]
     },
     "execution_count": 19,
     "metadata": {},
     "output_type": "execute_result"
    }
   ],
   "source": [
    "s1"
   ]
  },
  {
   "cell_type": "markdown",
   "id": "259e7f84",
   "metadata": {},
   "source": [
    "- intersection method"
   ]
  },
  {
   "cell_type": "code",
   "execution_count": 17,
   "id": "f2cdea58",
   "metadata": {},
   "outputs": [
    {
     "data": {
      "text/plain": [
       "{2, 3, 4}"
      ]
     },
     "execution_count": 17,
     "metadata": {},
     "output_type": "execute_result"
    }
   ],
   "source": [
    "s1={1,2,3,4}\n",
    "s2={2,3,4,5}\n",
    "s1.intersection(s2)      # Return the intersection of two sets as a new set.  (i.e. all elements that are in both sets.)"
   ]
  },
  {
   "cell_type": "code",
   "execution_count": null,
   "id": "b3ac5d88",
   "metadata": {},
   "outputs": [],
   "source": []
  },
  {
   "cell_type": "markdown",
   "id": "1fc10722",
   "metadata": {},
   "source": [
    "- discard method"
   ]
  },
  {
   "cell_type": "code",
   "execution_count": 15,
   "id": "a76084ae",
   "metadata": {},
   "outputs": [],
   "source": [
    "s1={1,2,3,4}\n",
    "s2={2,3,4,5}\n",
    "s1.discard(3)   # Remove an element from a set if it is a member."
   ]
  },
  {
   "cell_type": "code",
   "execution_count": 16,
   "id": "dfeeeab9",
   "metadata": {},
   "outputs": [
    {
     "data": {
      "text/plain": [
       "{1, 2, 4}"
      ]
     },
     "execution_count": 16,
     "metadata": {},
     "output_type": "execute_result"
    }
   ],
   "source": [
    "s1"
   ]
  },
  {
   "cell_type": "markdown",
   "id": "8710debd",
   "metadata": {},
   "source": [
    "- difference update method"
   ]
  },
  {
   "cell_type": "code",
   "execution_count": 11,
   "id": "a72df189",
   "metadata": {},
   "outputs": [],
   "source": [
    "s1={1,2,3,4}\n",
    "s2={2,3,4,5}\n",
    "s2.difference_update(s1)     # Remove all elements of another set from this set."
   ]
  },
  {
   "cell_type": "code",
   "execution_count": 13,
   "id": "70023955",
   "metadata": {},
   "outputs": [],
   "source": [
    "s1.difference_update(s2)\n"
   ]
  },
  {
   "cell_type": "code",
   "execution_count": 12,
   "id": "ac41d087",
   "metadata": {},
   "outputs": [
    {
     "data": {
      "text/plain": [
       "{5}"
      ]
     },
     "execution_count": 12,
     "metadata": {},
     "output_type": "execute_result"
    }
   ],
   "source": [
    "s2"
   ]
  },
  {
   "cell_type": "code",
   "execution_count": 14,
   "id": "d313d2df",
   "metadata": {},
   "outputs": [
    {
     "data": {
      "text/plain": [
       "{1, 2, 3, 4}"
      ]
     },
     "execution_count": 14,
     "metadata": {},
     "output_type": "execute_result"
    }
   ],
   "source": [
    "s1"
   ]
  },
  {
   "cell_type": "markdown",
   "id": "e3d85d8b",
   "metadata": {},
   "source": [
    "- copy method"
   ]
  },
  {
   "cell_type": "code",
   "execution_count": 2,
   "id": "df2cb40d",
   "metadata": {},
   "outputs": [
    {
     "data": {
      "text/plain": [
       "{1, 2, 3, 4}"
      ]
     },
     "execution_count": 2,
     "metadata": {},
     "output_type": "execute_result"
    }
   ],
   "source": [
    "s={1,2,3,4}\n",
    "s.copy()     # Return a shallow copy of a set."
   ]
  },
  {
   "cell_type": "markdown",
   "id": "5c63123f",
   "metadata": {},
   "source": [
    "- difference method"
   ]
  },
  {
   "cell_type": "code",
   "execution_count": 4,
   "id": "c98c4d41",
   "metadata": {},
   "outputs": [
    {
     "data": {
      "text/plain": [
       "{1}"
      ]
     },
     "execution_count": 4,
     "metadata": {},
     "output_type": "execute_result"
    }
   ],
   "source": [
    "s1={1,2,3,4}\n",
    "s2={2,3,4,5}\n",
    "s1.difference(s2)     ## Return the difference of two or more sets as a new set.\n",
    "\n",
    "      #(i.e. all elements that are in this set but not the others.)\n"
   ]
  },
  {
   "cell_type": "code",
   "execution_count": 5,
   "id": "e159f3b6",
   "metadata": {},
   "outputs": [
    {
     "data": {
      "text/plain": [
       "{5}"
      ]
     },
     "execution_count": 5,
     "metadata": {},
     "output_type": "execute_result"
    }
   ],
   "source": [
    "s2.difference(s1)"
   ]
  },
  {
   "cell_type": "code",
   "execution_count": null,
   "id": "69ca594f",
   "metadata": {},
   "outputs": [],
   "source": []
  }
 ],
 "metadata": {
  "kernelspec": {
   "display_name": "Python 3 (ipykernel)",
   "language": "python",
   "name": "python3"
  },
  "language_info": {
   "codemirror_mode": {
    "name": "ipython",
    "version": 3
   },
   "file_extension": ".py",
   "mimetype": "text/x-python",
   "name": "python",
   "nbconvert_exporter": "python",
   "pygments_lexer": "ipython3",
   "version": "3.9.7"
  }
 },
 "nbformat": 4,
 "nbformat_minor": 5
}
