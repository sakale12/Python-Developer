{
 "cells": [
  {
   "cell_type": "markdown",
   "id": "e34fd806",
   "metadata": {},
   "source": [
    "## Strings in Python"
   ]
  },
  {
   "cell_type": "code",
   "execution_count": 1,
   "id": "e1204972",
   "metadata": {},
   "outputs": [
    {
     "name": "stdout",
     "output_type": "stream",
     "text": [
      "Hello\n"
     ]
    }
   ],
   "source": [
    "print(\"Hello\")"
   ]
  },
  {
   "cell_type": "code",
   "execution_count": 2,
   "id": "a1751200",
   "metadata": {},
   "outputs": [
    {
     "name": "stdout",
     "output_type": "stream",
     "text": [
      "Hello\n"
     ]
    }
   ],
   "source": [
    "a=\"Hello\"\n",
    "print(a)"
   ]
  },
  {
   "cell_type": "code",
   "execution_count": 5,
   "id": "4c393550",
   "metadata": {},
   "outputs": [
    {
     "data": {
      "text/plain": [
       "\"'This is a python course\""
      ]
     },
     "execution_count": 5,
     "metadata": {},
     "output_type": "execute_result"
    }
   ],
   "source": [
    "a=''''This is a python course'''\n",
    "a"
   ]
  },
  {
   "cell_type": "markdown",
   "id": "00372bbb",
   "metadata": {},
   "source": [
    "### String length"
   ]
  },
  {
   "cell_type": "code",
   "execution_count": 6,
   "id": "20d9de5b",
   "metadata": {},
   "outputs": [
    {
     "name": "stdout",
     "output_type": "stream",
     "text": [
      "python\n",
      "6\n"
     ]
    }
   ],
   "source": [
    "s=\"python\"\n",
    "print(s)\n",
    "print(len(s))"
   ]
  },
  {
   "cell_type": "markdown",
   "id": "b642d6cc",
   "metadata": {},
   "source": [
    "- strings are immutable"
   ]
  },
  {
   "cell_type": "markdown",
   "id": "02ef8783",
   "metadata": {},
   "source": [
    "### Indexing in string"
   ]
  },
  {
   "cell_type": "code",
   "execution_count": 7,
   "id": "57c9724e",
   "metadata": {},
   "outputs": [
    {
     "data": {
      "text/plain": [
       "'t'"
      ]
     },
     "execution_count": 7,
     "metadata": {},
     "output_type": "execute_result"
    }
   ],
   "source": [
    "s=\"python\"\n",
    "s[2]"
   ]
  },
  {
   "cell_type": "code",
   "execution_count": 11,
   "id": "7af90ae8",
   "metadata": {},
   "outputs": [
    {
     "data": {
      "text/plain": [
       "'p'"
      ]
     },
     "execution_count": 11,
     "metadata": {},
     "output_type": "execute_result"
    }
   ],
   "source": [
    "s[-6]"
   ]
  },
  {
   "cell_type": "code",
   "execution_count": 8,
   "id": "e89ad6fc",
   "metadata": {},
   "outputs": [
    {
     "data": {
      "text/plain": [
       "'h'"
      ]
     },
     "execution_count": 8,
     "metadata": {},
     "output_type": "execute_result"
    }
   ],
   "source": [
    "s[3]"
   ]
  },
  {
   "cell_type": "code",
   "execution_count": 9,
   "id": "2787768f",
   "metadata": {},
   "outputs": [
    {
     "data": {
      "text/plain": [
       "'n'"
      ]
     },
     "execution_count": 9,
     "metadata": {},
     "output_type": "execute_result"
    }
   ],
   "source": [
    "s[-1]"
   ]
  },
  {
   "cell_type": "code",
   "execution_count": 10,
   "id": "7ad37085",
   "metadata": {},
   "outputs": [
    {
     "data": {
      "text/plain": [
       "'o'"
      ]
     },
     "execution_count": 10,
     "metadata": {},
     "output_type": "execute_result"
    }
   ],
   "source": [
    "s[-2]"
   ]
  },
  {
   "cell_type": "markdown",
   "id": "bb982f7e",
   "metadata": {},
   "source": [
    "### Slicing in a string"
   ]
  },
  {
   "cell_type": "code",
   "execution_count": 13,
   "id": "3466edbe",
   "metadata": {},
   "outputs": [
    {
     "name": "stdout",
     "output_type": "stream",
     "text": [
      "on\n",
      "th\n"
     ]
    }
   ],
   "source": [
    "s=\"python\"   # s[start:end]  end index does included\n",
    "print(s[4:6])\n",
    "print(s[2:4])"
   ]
  },
  {
   "cell_type": "code",
   "execution_count": 14,
   "id": "ec51710b",
   "metadata": {},
   "outputs": [
    {
     "data": {
      "text/plain": [
       "'pytho'"
      ]
     },
     "execution_count": 14,
     "metadata": {},
     "output_type": "execute_result"
    }
   ],
   "source": [
    "s[:5]"
   ]
  },
  {
   "cell_type": "code",
   "execution_count": 15,
   "id": "f01b32d3",
   "metadata": {},
   "outputs": [
    {
     "data": {
      "text/plain": [
       "'ython'"
      ]
     },
     "execution_count": 15,
     "metadata": {},
     "output_type": "execute_result"
    }
   ],
   "source": [
    "s[1:]"
   ]
  },
  {
   "cell_type": "code",
   "execution_count": 16,
   "id": "5aabe39d",
   "metadata": {},
   "outputs": [
    {
     "data": {
      "text/plain": [
       "'python'"
      ]
     },
     "execution_count": 16,
     "metadata": {},
     "output_type": "execute_result"
    }
   ],
   "source": [
    "s[0:]"
   ]
  },
  {
   "cell_type": "markdown",
   "id": "7ff0c2e8",
   "metadata": {},
   "source": [
    "### String concatenation"
   ]
  },
  {
   "cell_type": "code",
   "execution_count": 17,
   "id": "1651f1a5",
   "metadata": {},
   "outputs": [
    {
     "name": "stdout",
     "output_type": "stream",
     "text": [
      "Navratri\n"
     ]
    }
   ],
   "source": [
    "s=\"Nav\"\n",
    "p=\"ratri\"\n",
    "print(s+p)"
   ]
  },
  {
   "cell_type": "code",
   "execution_count": 18,
   "id": "b1bfce76",
   "metadata": {},
   "outputs": [
    {
     "name": "stdout",
     "output_type": "stream",
     "text": [
      "math module\n"
     ]
    }
   ],
   "source": [
    "s=\"math\"\n",
    "p=\"module\"\n",
    "print(s+\" \"+p)"
   ]
  },
  {
   "cell_type": "markdown",
   "id": "40a6a056",
   "metadata": {},
   "source": [
    "### Stromg formats"
   ]
  },
  {
   "cell_type": "code",
   "execution_count": 20,
   "id": "0981a345",
   "metadata": {},
   "outputs": [
    {
     "name": "stdout",
     "output_type": "stream",
     "text": [
      "my name is sugar, i am 40\n"
     ]
    }
   ],
   "source": [
    "age=40\n",
    "msg=\"my name is sugar, i am {}\"\n",
    "print(msg.format(age))"
   ]
  },
  {
   "cell_type": "code",
   "execution_count": 23,
   "id": "9529d660",
   "metadata": {},
   "outputs": [
    {
     "name": "stdout",
     "output_type": "stream",
     "text": [
      "I want 8 books of lot no 789 in 9 days\n"
     ]
    }
   ],
   "source": [
    "quantity=8\n",
    "lotno=789\n",
    "days=9\n",
    "myorder=\"I want {} books of lot no {} in {} days\"\n",
    "print(myorder.format(quantity,lotno,days))"
   ]
  },
  {
   "cell_type": "code",
   "execution_count": 24,
   "id": "2be3cad2",
   "metadata": {},
   "outputs": [
    {
     "name": "stdout",
     "output_type": "stream",
     "text": [
      "give me 7 kgs of sugar.\n"
     ]
    }
   ],
   "source": [
    "kg=7\n",
    "order=\"give me {} kgs of sugar.\"\n",
    "print(order.format(kg))"
   ]
  },
  {
   "cell_type": "code",
   "execution_count": 26,
   "id": "e164edb5",
   "metadata": {},
   "outputs": [
    {
     "name": "stdout",
     "output_type": "stream",
     "text": [
      "I want 9 books of lot no 789 in 8 days\n"
     ]
    }
   ],
   "source": [
    "quantity=8\n",
    "lotno=789\n",
    "days=9\n",
    "myorder=\"I want {2} books of lot no {1} in {0} days\"\n",
    "print(myorder.format(quantity,lotno,days))"
   ]
  },
  {
   "cell_type": "markdown",
   "id": "dcfa9641",
   "metadata": {},
   "source": [
    "## escape characters"
   ]
  },
  {
   "cell_type": "code",
   "execution_count": 1,
   "id": "8eb44429",
   "metadata": {},
   "outputs": [
    {
     "ename": "SyntaxError",
     "evalue": "invalid syntax (Temp/ipykernel_33660/991335269.py, line 1)",
     "output_type": "error",
     "traceback": [
      "\u001b[1;36m  File \u001b[1;32m\"C:\\Users\\SAMADH~1\\AppData\\Local\\Temp/ipykernel_33660/991335269.py\"\u001b[1;36m, line \u001b[1;32m1\u001b[0m\n\u001b[1;33m    msg=\"we called \"programmers\" since we born\"\u001b[0m\n\u001b[1;37m                    ^\u001b[0m\n\u001b[1;31mSyntaxError\u001b[0m\u001b[1;31m:\u001b[0m invalid syntax\n"
     ]
    }
   ],
   "source": [
    "msg=\"we called \"programmers\" since we born\"\n",
    "print(msg)"
   ]
  },
  {
   "cell_type": "code",
   "execution_count": 2,
   "id": "de46e2c4",
   "metadata": {},
   "outputs": [
    {
     "name": "stdout",
     "output_type": "stream",
     "text": [
      "we called \"programmers\" since we born\n"
     ]
    }
   ],
   "source": [
    "msg=\"we called \\\"programmers\\\" since we born\"\n",
    "print(msg)"
   ]
  },
  {
   "cell_type": "code",
   "execution_count": 3,
   "id": "e8b9d14a",
   "metadata": {},
   "outputs": [
    {
     "data": {
      "text/plain": [
       "\"it's alright\""
      ]
     },
     "execution_count": 3,
     "metadata": {},
     "output_type": "execute_result"
    }
   ],
   "source": [
    "msg=\"it\\'s alright\"   ## single quote\n",
    "msg"
   ]
  },
  {
   "cell_type": "code",
   "execution_count": 21,
   "id": "fce8cfb2",
   "metadata": {},
   "outputs": [
    {
     "name": "stdout",
     "output_type": "stream",
     "text": [
      "this will insert one\\(backslash)\n"
     ]
    }
   ],
   "source": [
    "msg=\"this will insert one\\\\(backslash)\"  # backslash\n",
    "print(msg)"
   ]
  },
  {
   "cell_type": "code",
   "execution_count": 20,
   "id": "84e0464e",
   "metadata": {},
   "outputs": [
    {
     "name": "stdout",
     "output_type": "stream",
     "text": [
      "python\n",
      "programming\n"
     ]
    }
   ],
   "source": [
    "msh=\"python\\nprogramming\"  #new line character\n",
    "print(msh)"
   ]
  },
  {
   "cell_type": "code",
   "execution_count": 23,
   "id": "cc685358",
   "metadata": {},
   "outputs": [
    {
     "name": "stdout",
     "output_type": "stream",
     "text": [
      "Good\tmorning\n"
     ]
    }
   ],
   "source": [
    "msg=\"Good\\tmorning\"  #tab character\n",
    "print(msg)"
   ]
  },
  {
   "cell_type": "code",
   "execution_count": 25,
   "id": "1c0d243a",
   "metadata": {},
   "outputs": [
    {
     "name": "stdout",
     "output_type": "stream",
     "text": [
      "happy  \bbirthday\n"
     ]
    }
   ],
   "source": [
    "msg=\"happy  \\bbirthday\" #backspace character\n",
    "print(msg)"
   ]
  },
  {
   "cell_type": "markdown",
   "id": "649651ab",
   "metadata": {},
   "source": [
    "## String methods"
   ]
  },
  {
   "cell_type": "code",
   "execution_count": 26,
   "id": "5a7bb354",
   "metadata": {},
   "outputs": [
    {
     "name": "stdout",
     "output_type": "stream",
     "text": [
      "['__add__', '__class__', '__contains__', '__delattr__', '__dir__', '__doc__', '__eq__', '__format__', '__ge__', '__getattribute__', '__getitem__', '__getnewargs__', '__gt__', '__hash__', '__init__', '__init_subclass__', '__iter__', '__le__', '__len__', '__lt__', '__mod__', '__mul__', '__ne__', '__new__', '__reduce__', '__reduce_ex__', '__repr__', '__rmod__', '__rmul__', '__setattr__', '__sizeof__', '__str__', '__subclasshook__', 'capitalize', 'casefold', 'center', 'count', 'encode', 'endswith', 'expandtabs', 'find', 'format', 'format_map', 'index', 'isalnum', 'isalpha', 'isascii', 'isdecimal', 'isdigit', 'isidentifier', 'islower', 'isnumeric', 'isprintable', 'isspace', 'istitle', 'isupper', 'join', 'ljust', 'lower', 'lstrip', 'maketrans', 'partition', 'removeprefix', 'removesuffix', 'replace', 'rfind', 'rindex', 'rjust', 'rpartition', 'rsplit', 'rstrip', 'split', 'splitlines', 'startswith', 'strip', 'swapcase', 'title', 'translate', 'upper', 'zfill']\n"
     ]
    }
   ],
   "source": [
    "print(dir(str))"
   ]
  },
  {
   "cell_type": "code",
   "execution_count": 27,
   "id": "9ee3551b",
   "metadata": {},
   "outputs": [],
   "source": [
    "s=\"python\""
   ]
  },
  {
   "cell_type": "markdown",
   "id": "d881d285",
   "metadata": {},
   "source": [
    "- S.startswith(prefix[, start[, end]]) -> bool Return True if S starts with the specified prefix, False otherwise.With optional start, test S beginning at that position.With optional end, stop comparing S at that position.prefix can also be a tuple of strings to try."
   ]
  },
  {
   "cell_type": "code",
   "execution_count": 63,
   "id": "32350518",
   "metadata": {},
   "outputs": [
    {
     "data": {
      "text/plain": [
       "True"
      ]
     },
     "execution_count": 63,
     "metadata": {},
     "output_type": "execute_result"
    }
   ],
   "source": [
    "s.startswith(\"p\")   "
   ]
  },
  {
   "cell_type": "markdown",
   "id": "6561a7eb",
   "metadata": {},
   "source": [
    "- Return a list of the words in the string, using sep as the delimiter string.\n",
    "- sep\n",
    "  The delimiter according which to split the string.\n",
    "  None (the default value) means split according to any whitespace,\n",
    "  and discard empty strings from the result.\n",
    "- maxsplit\n",
    "  Maximum number of splits to do.\n",
    "  -1 (the default value) means no limit."
   ]
  },
  {
   "cell_type": "code",
   "execution_count": 62,
   "id": "64741fdc",
   "metadata": {},
   "outputs": [
    {
     "data": {
      "text/plain": [
       "['python']"
      ]
     },
     "execution_count": 62,
     "metadata": {},
     "output_type": "execute_result"
    }
   ],
   "source": [
    "s.split()"
   ]
  },
  {
   "cell_type": "markdown",
   "id": "1de5b5fe",
   "metadata": {},
   "source": [
    "- Return a copy with all occurrences of substring old replaced by new.\n",
    "\n",
    "  count\n",
    "    Maximum number of occurrences to replace.\n",
    "    -1 (the default value) means replace all occurrences.\n",
    "\n",
    "- If the optional argument count is given, only the first count occurrences are replaced."
   ]
  },
  {
   "cell_type": "code",
   "execution_count": 60,
   "id": "e630d68a",
   "metadata": {},
   "outputs": [
    {
     "data": {
      "text/plain": [
       "'pyihon'"
      ]
     },
     "execution_count": 60,
     "metadata": {},
     "output_type": "execute_result"
    }
   ],
   "source": [
    "s.replace(\"t\",\"i\")"
   ]
  },
  {
   "cell_type": "code",
   "execution_count": 64,
   "id": "affe59d1",
   "metadata": {},
   "outputs": [
    {
     "data": {
      "text/plain": [
       "'python'"
      ]
     },
     "execution_count": 64,
     "metadata": {},
     "output_type": "execute_result"
    }
   ],
   "source": [
    "s.rjust(3)  #Return a right-justified string of length width."
   ]
  },
  {
   "cell_type": "code",
   "execution_count": 57,
   "id": "7a0a7ce3",
   "metadata": {},
   "outputs": [
    {
     "data": {
      "text/plain": [
       "{1: 'one'}"
      ]
     },
     "execution_count": 57,
     "metadata": {},
     "output_type": "execute_result"
    }
   ],
   "source": [
    "s.maketrans({1:\"one\"}) #Return a translation table usable for str.translate()."
   ]
  },
  {
   "cell_type": "code",
   "execution_count": 54,
   "id": "c8e84901",
   "metadata": {},
   "outputs": [
    {
     "data": {
      "text/plain": [
       "'python'"
      ]
     },
     "execution_count": 54,
     "metadata": {},
     "output_type": "execute_result"
    }
   ],
   "source": [
    "s.lower()   # Return a copy of the string converted to lowercase."
   ]
  },
  {
   "cell_type": "code",
   "execution_count": 53,
   "id": "2068fb72",
   "metadata": {},
   "outputs": [
    {
     "data": {
      "text/plain": [
       "'ypythonopythonu'"
      ]
     },
     "execution_count": 53,
     "metadata": {},
     "output_type": "execute_result"
    }
   ],
   "source": [
    "s.join(\"you\")  # Concatenate any number of strings."
   ]
  },
  {
   "cell_type": "code",
   "execution_count": 50,
   "id": "b7974104",
   "metadata": {},
   "outputs": [
    {
     "data": {
      "text/plain": [
       "False"
      ]
     },
     "execution_count": 50,
     "metadata": {},
     "output_type": "execute_result"
    }
   ],
   "source": [
    "s.isupper()   # Return True if the string is an uppercase string, False otherwise."
   ]
  },
  {
   "cell_type": "code",
   "execution_count": 49,
   "id": "03e170f8",
   "metadata": {},
   "outputs": [
    {
     "data": {
      "text/plain": [
       "False"
      ]
     },
     "execution_count": 49,
     "metadata": {},
     "output_type": "execute_result"
    }
   ],
   "source": [
    "s.istitle()  # Return True if the string is a title-cased string, False otherwise."
   ]
  },
  {
   "cell_type": "code",
   "execution_count": 48,
   "id": "7a54985d",
   "metadata": {},
   "outputs": [
    {
     "data": {
      "text/plain": [
       "False"
      ]
     },
     "execution_count": 48,
     "metadata": {},
     "output_type": "execute_result"
    }
   ],
   "source": [
    "s.isnumeric()  # Return True if the string is a numeric string, False otherwise."
   ]
  },
  {
   "cell_type": "code",
   "execution_count": 47,
   "id": "3854390c",
   "metadata": {},
   "outputs": [
    {
     "data": {
      "text/plain": [
       "True"
      ]
     },
     "execution_count": 47,
     "metadata": {},
     "output_type": "execute_result"
    }
   ],
   "source": [
    "s.islower()   # Return True if the string is a lowercase string, False otherwise."
   ]
  },
  {
   "cell_type": "code",
   "execution_count": 46,
   "id": "ea34f5da",
   "metadata": {},
   "outputs": [
    {
     "data": {
      "text/plain": [
       "False"
      ]
     },
     "execution_count": 46,
     "metadata": {},
     "output_type": "execute_result"
    }
   ],
   "source": [
    "s.isdecimal()  # Return True if the string is a decimal string, False otherwise.\n"
   ]
  },
  {
   "cell_type": "code",
   "execution_count": 45,
   "id": "95fea0a4",
   "metadata": {},
   "outputs": [
    {
     "data": {
      "text/plain": [
       "True"
      ]
     },
     "execution_count": 45,
     "metadata": {},
     "output_type": "execute_result"
    }
   ],
   "source": [
    "s.isascii()   # Return True if all characters in the string are ASCII, False otherwise."
   ]
  },
  {
   "cell_type": "code",
   "execution_count": 44,
   "id": "fd4c2479",
   "metadata": {},
   "outputs": [
    {
     "data": {
      "text/plain": [
       "True"
      ]
     },
     "execution_count": 44,
     "metadata": {},
     "output_type": "execute_result"
    }
   ],
   "source": [
    "s.isalpha()    # Return True if the string is an alphabetic string, False otherwise."
   ]
  },
  {
   "cell_type": "code",
   "execution_count": 43,
   "id": "2e07a49d",
   "metadata": {},
   "outputs": [
    {
     "data": {
      "text/plain": [
       "True"
      ]
     },
     "execution_count": 43,
     "metadata": {},
     "output_type": "execute_result"
    }
   ],
   "source": [
    "s.isalnum()    # Return True if the string is an alpha-numeric string, False otherwise."
   ]
  },
  {
   "cell_type": "code",
   "execution_count": 41,
   "id": "657c279c",
   "metadata": {},
   "outputs": [
    {
     "data": {
      "text/plain": [
       "2"
      ]
     },
     "execution_count": 41,
     "metadata": {},
     "output_type": "execute_result"
    }
   ],
   "source": [
    "s.index(\"t\")  #S.index(sub[, start[, end]])"
   ]
  },
  {
   "cell_type": "code",
   "execution_count": 38,
   "id": "99fc10db",
   "metadata": {},
   "outputs": [
    {
     "data": {
      "text/plain": [
       "4"
      ]
     },
     "execution_count": 38,
     "metadata": {},
     "output_type": "execute_result"
    }
   ],
   "source": [
    "s.find(\"o\")  # Return the lowest index in S where substring sub is found,such that sub is contained within S[start:end].  Optionalarguments start and end are interpreted as in slice notation.Return -1 on failure."
   ]
  },
  {
   "cell_type": "code",
   "execution_count": 36,
   "id": "8f7a936e",
   "metadata": {},
   "outputs": [
    {
     "data": {
      "text/plain": [
       "'python'"
      ]
     },
     "execution_count": 36,
     "metadata": {},
     "output_type": "execute_result"
    }
   ],
   "source": [
    "s.expandtabs()  # Return a copy where all tab characters are expanded using spaces.\n"
   ]
  },
  {
   "cell_type": "code",
   "execution_count": 35,
   "id": "b1d560ac",
   "metadata": {},
   "outputs": [
    {
     "data": {
      "text/plain": [
       "True"
      ]
     },
     "execution_count": 35,
     "metadata": {},
     "output_type": "execute_result"
    }
   ],
   "source": [
    "s.endswith(\"n\")  # Return True if S ends with the specified suffix, False otherwise."
   ]
  },
  {
   "cell_type": "code",
   "execution_count": 34,
   "id": "c09a9a98",
   "metadata": {},
   "outputs": [
    {
     "data": {
      "text/plain": [
       "b'python'"
      ]
     },
     "execution_count": 34,
     "metadata": {},
     "output_type": "execute_result"
    }
   ],
   "source": [
    "s.encode()   # Encode the string using the codec registered for encoding."
   ]
  },
  {
   "cell_type": "code",
   "execution_count": 33,
   "id": "e77f5eb4",
   "metadata": {},
   "outputs": [
    {
     "data": {
      "text/plain": [
       "1"
      ]
     },
     "execution_count": 33,
     "metadata": {},
     "output_type": "execute_result"
    }
   ],
   "source": [
    "s.count(\"t\")  #Return the number of non-overlapping occurrences of substring sub in string S[start:end].  Optional arguments start and end are interpreted as in slice notation."
   ]
  },
  {
   "cell_type": "code",
   "execution_count": 32,
   "id": "6c54f43b",
   "metadata": {},
   "outputs": [
    {
     "data": {
      "text/plain": [
       "'python'"
      ]
     },
     "execution_count": 32,
     "metadata": {},
     "output_type": "execute_result"
    }
   ],
   "source": [
    "s.center(2)  #Return a centered string of length width."
   ]
  },
  {
   "cell_type": "code",
   "execution_count": 29,
   "id": "b7662603",
   "metadata": {},
   "outputs": [
    {
     "data": {
      "text/plain": [
       "'python'"
      ]
     },
     "execution_count": 29,
     "metadata": {},
     "output_type": "execute_result"
    }
   ],
   "source": [
    "s.casefold()   # Return a version of the string suitable for caseless comparisons."
   ]
  },
  {
   "cell_type": "code",
   "execution_count": 28,
   "id": "54e4d274",
   "metadata": {},
   "outputs": [
    {
     "data": {
      "text/plain": [
       "'Python'"
      ]
     },
     "execution_count": 28,
     "metadata": {},
     "output_type": "execute_result"
    }
   ],
   "source": [
    "s.capitalize()   # Return a capitalized version of the string."
   ]
  },
  {
   "cell_type": "code",
   "execution_count": null,
   "id": "fee29b10",
   "metadata": {},
   "outputs": [],
   "source": []
  }
 ],
 "metadata": {
  "kernelspec": {
   "display_name": "Python 3 (ipykernel)",
   "language": "python",
   "name": "python3"
  },
  "language_info": {
   "codemirror_mode": {
    "name": "ipython",
    "version": 3
   },
   "file_extension": ".py",
   "mimetype": "text/x-python",
   "name": "python",
   "nbconvert_exporter": "python",
   "pygments_lexer": "ipython3",
   "version": "3.9.7"
  }
 },
 "nbformat": 4,
 "nbformat_minor": 5
}
