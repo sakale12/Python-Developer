{
 "cells": [
  {
   "cell_type": "markdown",
   "id": "8b5e9556",
   "metadata": {},
   "source": [
    "- Create module"
   ]
  },
  {
   "cell_type": "code",
   "execution_count": 6,
   "id": "c52055ab",
   "metadata": {},
   "outputs": [],
   "source": [
    "import statistics as st\n",
    "import math\n",
    "def add(x,y):\n",
    "    return x+y\n",
    "def sub(x,y):\n",
    "    return x-y\n",
    "def mul(x,y):\n",
    "    return x*y\n",
    "def div(x,y):\n",
    "    return x/y\n",
    "def power(x,y):\n",
    "    return(x**y)\n",
    "def find_mean(*x):\n",
    "    return sum(list(x))/len(list(x))\n",
    "def find_mode(*x):\n",
    "    return st.mode(x)\n",
    "month=[\"jan\",\"Feb\",\"march\",\"april\"]\n",
    "colors=(\"Black\",\"Green\",\"Blue\")\n",
    "person={\"name\":\"Rajan\",\"age\":30}\n",
    "def sqrt(a):\n",
    "    return math.sqrt(a)"
   ]
  },
  {
   "cell_type": "markdown",
   "id": "d2c67b85",
   "metadata": {},
   "source": [
    "- use the module"
   ]
  },
  {
   "cell_type": "code",
   "execution_count": null,
   "id": "c8e4b95c",
   "metadata": {},
   "outputs": [],
   "source": []
  },
  {
   "cell_type": "markdown",
   "id": "7abf3e7e",
   "metadata": {},
   "source": [
    "# Python datetime"
   ]
  },
  {
   "cell_type": "markdown",
   "id": "2644bcb2",
   "metadata": {},
   "source": [
    "- Python dates"
   ]
  },
  {
   "cell_type": "code",
   "execution_count": 7,
   "id": "36324f4f",
   "metadata": {},
   "outputs": [],
   "source": [
    "import datetime"
   ]
  },
  {
   "cell_type": "code",
   "execution_count": 11,
   "id": "dbdb4652",
   "metadata": {},
   "outputs": [
    {
     "name": "stdout",
     "output_type": "stream",
     "text": [
      "2023-01-05 21:20:06.900488\n"
     ]
    }
   ],
   "source": [
    "x=datetime.datetime.now()\n",
    "print(x)"
   ]
  },
  {
   "cell_type": "code",
   "execution_count": 16,
   "id": "51e24b49",
   "metadata": {},
   "outputs": [
    {
     "name": "stdout",
     "output_type": "stream",
     "text": [
      "21:20:06.900488\n"
     ]
    }
   ],
   "source": [
    "print(x.time())"
   ]
  },
  {
   "cell_type": "code",
   "execution_count": 13,
   "id": "9f462366",
   "metadata": {},
   "outputs": [
    {
     "name": "stdout",
     "output_type": "stream",
     "text": [
      "Thursday\n"
     ]
    }
   ],
   "source": [
    "print(x.strftime(\"%A\"))"
   ]
  },
  {
   "cell_type": "code",
   "execution_count": null,
   "id": "2d0ee92c",
   "metadata": {},
   "outputs": [],
   "source": []
  },
  {
   "cell_type": "markdown",
   "id": "68da59e2",
   "metadata": {},
   "source": [
    "- Creating date object"
   ]
  },
  {
   "cell_type": "code",
   "execution_count": 19,
   "id": "acd13a61",
   "metadata": {},
   "outputs": [
    {
     "name": "stdout",
     "output_type": "stream",
     "text": [
      "2020-06-23 08:34:07\n"
     ]
    }
   ],
   "source": [
    "import datetime\n",
    "x=datetime.datetime(2020,6,23,8,34,7)\n",
    "print(x)"
   ]
  },
  {
   "cell_type": "code",
   "execution_count": null,
   "id": "d6548339",
   "metadata": {},
   "outputs": [],
   "source": []
  },
  {
   "cell_type": "markdown",
   "id": "52defd71",
   "metadata": {},
   "source": [
    "- strftime() method"
   ]
  },
  {
   "cell_type": "code",
   "execution_count": 20,
   "id": "8340306b",
   "metadata": {},
   "outputs": [
    {
     "name": "stdout",
     "output_type": "stream",
     "text": [
      "June\n"
     ]
    }
   ],
   "source": [
    "# display month\n",
    "import datetime\n",
    "x=datetime.datetime(2018,6,4)\n",
    "print(x.strftime(\"%B\"))"
   ]
  },
  {
   "cell_type": "code",
   "execution_count": 21,
   "id": "f03813a6",
   "metadata": {},
   "outputs": [
    {
     "name": "stdout",
     "output_type": "stream",
     "text": [
      "Thu\n"
     ]
    }
   ],
   "source": [
    "#Display weekday in short\n",
    "import datetime\n",
    "x=datetime.datetime.now()   \n",
    "print(x.strftime(\"%a\"))       "
   ]
  },
  {
   "cell_type": "code",
   "execution_count": 22,
   "id": "808db876",
   "metadata": {},
   "outputs": [
    {
     "name": "stdout",
     "output_type": "stream",
     "text": [
      "Thursday\n"
     ]
    }
   ],
   "source": [
    "#Display weekday in full\n",
    "import datetime\n",
    "x=datetime.datetime.now()   \n",
    "print(x.strftime(\"%A\"))       "
   ]
  },
  {
   "cell_type": "code",
   "execution_count": 23,
   "id": "c93e173b",
   "metadata": {},
   "outputs": [
    {
     "name": "stdout",
     "output_type": "stream",
     "text": [
      "4\n"
     ]
    }
   ],
   "source": [
    "#Display weekday as number(0-6)\n",
    "import datetime\n",
    "x=datetime.datetime.now()   \n",
    "print(x.strftime(\"%w\"))       "
   ]
  },
  {
   "cell_type": "code",
   "execution_count": 25,
   "id": "c73a9951",
   "metadata": {},
   "outputs": [
    {
     "name": "stdout",
     "output_type": "stream",
     "text": [
      "05\n"
     ]
    }
   ],
   "source": [
    "#Display day of month (01-31)\n",
    "import datetime\n",
    "x=datetime.datetime.now()   \n",
    "print(x.strftime(\"%d\"))       "
   ]
  },
  {
   "cell_type": "code",
   "execution_count": 26,
   "id": "848e4608",
   "metadata": {},
   "outputs": [
    {
     "name": "stdout",
     "output_type": "stream",
     "text": [
      "Jan\n"
     ]
    }
   ],
   "source": [
    "#Display month name in short\n",
    "import datetime\n",
    "x=datetime.datetime.now()   \n",
    "print(x.strftime(\"%b\"))       "
   ]
  },
  {
   "cell_type": "code",
   "execution_count": 27,
   "id": "b8844e75",
   "metadata": {},
   "outputs": [
    {
     "name": "stdout",
     "output_type": "stream",
     "text": [
      "01\n"
     ]
    }
   ],
   "source": [
    "#Display month as number (1-12)\n",
    "import datetime\n",
    "x=datetime.datetime.now()   \n",
    "print(x.strftime(\"%m\"))       "
   ]
  },
  {
   "cell_type": "code",
   "execution_count": 28,
   "id": "840bd562",
   "metadata": {},
   "outputs": [
    {
     "name": "stdout",
     "output_type": "stream",
     "text": [
      "23\n"
     ]
    }
   ],
   "source": [
    "#Display year in short withoit century\n",
    "import datetime\n",
    "x=datetime.datetime.now()   \n",
    "print(x.strftime(\"%y\"))       "
   ]
  },
  {
   "cell_type": "code",
   "execution_count": 29,
   "id": "4ebb898c",
   "metadata": {},
   "outputs": [
    {
     "name": "stdout",
     "output_type": "stream",
     "text": [
      "2023\n"
     ]
    }
   ],
   "source": [
    "#Display year full version\n",
    "import datetime\n",
    "x=datetime.datetime.now()   \n",
    "print(x.strftime(\"%Y\"))    "
   ]
  },
  {
   "cell_type": "code",
   "execution_count": 30,
   "id": "61a17860",
   "metadata": {},
   "outputs": [
    {
     "name": "stdout",
     "output_type": "stream",
     "text": [
      "21\n"
     ]
    }
   ],
   "source": [
    "#Display Hour (0-23)\n",
    "import datetime\n",
    "x=datetime.datetime.now()   \n",
    "print(x.strftime(\"%H\"))    "
   ]
  },
  {
   "cell_type": "code",
   "execution_count": 31,
   "id": "86151001",
   "metadata": {},
   "outputs": [
    {
     "name": "stdout",
     "output_type": "stream",
     "text": [
      "09\n"
     ]
    }
   ],
   "source": [
    "#Display Hour (0-12)\n",
    "import datetime\n",
    "x=datetime.datetime.now()   \n",
    "print(x.strftime(\"%I\"))   "
   ]
  },
  {
   "cell_type": "code",
   "execution_count": 32,
   "id": "8a356302",
   "metadata": {},
   "outputs": [
    {
     "name": "stdout",
     "output_type": "stream",
     "text": [
      "PM\n"
     ]
    }
   ],
   "source": [
    "#Display AM/PM\n",
    "import datetime\n",
    "x=datetime.datetime.now()   \n",
    "print(x.strftime(\"%p\"))    "
   ]
  },
  {
   "cell_type": "code",
   "execution_count": 33,
   "id": "0a2202ca",
   "metadata": {},
   "outputs": [
    {
     "name": "stdout",
     "output_type": "stream",
     "text": [
      "43\n"
     ]
    }
   ],
   "source": [
    "#Display minutes (0-59)\n",
    "import datetime\n",
    "x=datetime.datetime.now()   \n",
    "print(x.strftime(\"%M\"))    "
   ]
  },
  {
   "cell_type": "code",
   "execution_count": 34,
   "id": "73bb6fc6",
   "metadata": {},
   "outputs": [
    {
     "name": "stdout",
     "output_type": "stream",
     "text": [
      "57\n"
     ]
    }
   ],
   "source": [
    "#Display seconds (0-59)\n",
    "import datetime\n",
    "x=datetime.datetime.now()   \n",
    "print(x.strftime(\"%S\"))    "
   ]
  },
  {
   "cell_type": "code",
   "execution_count": 36,
   "id": "549b75e3",
   "metadata": {},
   "outputs": [
    {
     "name": "stdout",
     "output_type": "stream",
     "text": [
      "09\n",
      "46\n",
      "16\n",
      "359798\n"
     ]
    }
   ],
   "source": [
    "#Display microseconds  (000000-999999)\n",
    "import datetime\n",
    "x=datetime.datetime.now() \n",
    "print(x.strftime(\"%I\"))\n",
    "print(x.strftime(\"%M\"))   \n",
    "print(x.strftime(\"%S\"))  \n",
    "print(x.strftime(\"%f\"))    "
   ]
  },
  {
   "cell_type": "code",
   "execution_count": 37,
   "id": "da6af0d7",
   "metadata": {},
   "outputs": [
    {
     "name": "stdout",
     "output_type": "stream",
     "text": [
      "005\n"
     ]
    }
   ],
   "source": [
    "#Display the day number of year (001-366)\n",
    "import datetime\n",
    "x=datetime.datetime.now() \n",
    "print(x.strftime(\"%j\"))"
   ]
  },
  {
   "cell_type": "code",
   "execution_count": 39,
   "id": "48bb38c7",
   "metadata": {},
   "outputs": [
    {
     "name": "stdout",
     "output_type": "stream",
     "text": [
      "01\n"
     ]
    }
   ],
   "source": [
    "#Display week number of year (00-53)\n",
    "import datetime\n",
    "x=datetime.datetime.now() \n",
    "print(x.strftime(\"%W\"))"
   ]
  },
  {
   "cell_type": "code",
   "execution_count": 40,
   "id": "ae30255b",
   "metadata": {},
   "outputs": [
    {
     "name": "stdout",
     "output_type": "stream",
     "text": [
      "Thu Jan  5 21:50:02 2023\n"
     ]
    }
   ],
   "source": [
    "#Display local version of date and time\n",
    "import datetime\n",
    "x=datetime.datetime.now() \n",
    "print(x.strftime(\"%c\"))"
   ]
  },
  {
   "cell_type": "code",
   "execution_count": 41,
   "id": "933096fd",
   "metadata": {},
   "outputs": [
    {
     "name": "stdout",
     "output_type": "stream",
     "text": [
      "20\n"
     ]
    }
   ],
   "source": [
    "#Display century\n",
    "import datetime\n",
    "x=datetime.datetime.now() \n",
    "print(x.strftime(\"%C\"))"
   ]
  },
  {
   "cell_type": "code",
   "execution_count": 42,
   "id": "ec9373ef",
   "metadata": {},
   "outputs": [
    {
     "name": "stdout",
     "output_type": "stream",
     "text": [
      "01/05/23\n"
     ]
    }
   ],
   "source": [
    "#Display local version of date\n",
    "import datetime\n",
    "x=datetime.datetime.now() \n",
    "print(x.strftime(\"%x\"))"
   ]
  },
  {
   "cell_type": "code",
   "execution_count": 43,
   "id": "c48cbdca",
   "metadata": {},
   "outputs": [
    {
     "name": "stdout",
     "output_type": "stream",
     "text": [
      "21:52:38\n"
     ]
    }
   ],
   "source": [
    "#Display local version of time\n",
    "import datetime\n",
    "x=datetime.datetime.now() \n",
    "print(x.strftime(\"%X\"))"
   ]
  },
  {
   "cell_type": "code",
   "execution_count": 44,
   "id": "ab11c270",
   "metadata": {},
   "outputs": [
    {
     "name": "stdout",
     "output_type": "stream",
     "text": [
      "2023\n"
     ]
    }
   ],
   "source": [
    "#Display ISO 8601 year\n",
    "import datetime\n",
    "x=datetime.datetime.now() \n",
    "print(x.strftime(\"%G\"))"
   ]
  },
  {
   "cell_type": "code",
   "execution_count": 45,
   "id": "2560c5cb",
   "metadata": {},
   "outputs": [
    {
     "name": "stdout",
     "output_type": "stream",
     "text": [
      "4\n"
     ]
    }
   ],
   "source": [
    "#Display ISO 8601 weekday\n",
    "import datetime\n",
    "x=datetime.datetime.now() \n",
    "print(x.strftime(\"%u\"))"
   ]
  },
  {
   "cell_type": "code",
   "execution_count": 46,
   "id": "75e6f57e",
   "metadata": {},
   "outputs": [
    {
     "name": "stdout",
     "output_type": "stream",
     "text": [
      "01\n"
     ]
    }
   ],
   "source": [
    "#Display ISO 8601 weeknumber\n",
    "import datetime\n",
    "x=datetime.datetime.now() \n",
    "print(x.strftime(\"%V\"))"
   ]
  },
  {
   "cell_type": "code",
   "execution_count": null,
   "id": "c28d3ee1",
   "metadata": {},
   "outputs": [],
   "source": []
  }
 ],
 "metadata": {
  "kernelspec": {
   "display_name": "Python 3 (ipykernel)",
   "language": "python",
   "name": "python3"
  },
  "language_info": {
   "codemirror_mode": {
    "name": "ipython",
    "version": 3
   },
   "file_extension": ".py",
   "mimetype": "text/x-python",
   "name": "python",
   "nbconvert_exporter": "python",
   "pygments_lexer": "ipython3",
   "version": "3.9.7"
  }
 },
 "nbformat": 4,
 "nbformat_minor": 5
}
