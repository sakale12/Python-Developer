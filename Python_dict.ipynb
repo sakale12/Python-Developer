{
 "cells": [
  {
   "cell_type": "code",
   "execution_count": 2,
   "id": "9338eee6",
   "metadata": {},
   "outputs": [
    {
     "data": {
      "text/plain": [
       "{'brand': 'ford', 'model': 'mustang', 'year': 1965}"
      ]
     },
     "execution_count": 2,
     "metadata": {},
     "output_type": "execute_result"
    }
   ],
   "source": [
    "d={\"brand\":\"ford\",\"model\":\"mustang\",\"year\":1964,\"year\":1965}\n",
    "d"
   ]
  },
  {
   "cell_type": "code",
   "execution_count": 2,
   "id": "a3527652",
   "metadata": {},
   "outputs": [
    {
     "ename": "ModuleNotFoundError",
     "evalue": "No module named 'zn'",
     "output_type": "error",
     "traceback": [
      "\u001b[1;31m---------------------------------------------------------------------------\u001b[0m",
      "\u001b[1;31mModuleNotFoundError\u001b[0m                       Traceback (most recent call last)",
      "\u001b[1;32mC:\\Users\\SAMADH~1\\AppData\\Local\\Temp/ipykernel_23192/2083585570.py\u001b[0m in \u001b[0;36m<module>\u001b[1;34m\u001b[0m\n\u001b[1;32m----> 1\u001b[1;33m \u001b[1;32mimport\u001b[0m \u001b[0mzn\u001b[0m\u001b[1;33m\u001b[0m\u001b[1;33m\u001b[0m\u001b[0m\n\u001b[0m",
      "\u001b[1;31mModuleNotFoundError\u001b[0m: No module named 'zn'"
     ]
    }
   ],
   "source": [
    "import zn"
   ]
  },
  {
   "cell_type": "markdown",
   "id": "331661f2",
   "metadata": {},
   "source": [
    "## Dict items"
   ]
  },
  {
   "cell_type": "code",
   "execution_count": 5,
   "id": "eaad0762",
   "metadata": {},
   "outputs": [
    {
     "name": "stdout",
     "output_type": "stream",
     "text": [
      "{'brand': 'ford', 'model': 'mustang', 'year': 1965}\n",
      "mustang\n",
      "1965\n"
     ]
    }
   ],
   "source": [
    "d={\"brand\":\"ford\",\"model\":\"mustang\",\"year\":1964,\"year\":1965}\n",
    "print(d)\n",
    "print(d[\"model\"])\n",
    "print(d[\"year\"])"
   ]
  },
  {
   "cell_type": "markdown",
   "id": "5760ef5a",
   "metadata": {},
   "source": [
    "## Dict length"
   ]
  },
  {
   "cell_type": "code",
   "execution_count": 6,
   "id": "9411c19a",
   "metadata": {},
   "outputs": [
    {
     "name": "stdout",
     "output_type": "stream",
     "text": [
      "3\n"
     ]
    }
   ],
   "source": [
    "print(len(d))"
   ]
  },
  {
   "cell_type": "markdown",
   "id": "d44e5939",
   "metadata": {},
   "source": [
    "- Dict items data type"
   ]
  },
  {
   "cell_type": "code",
   "execution_count": 10,
   "id": "57fe4883",
   "metadata": {},
   "outputs": [
    {
     "data": {
      "text/plain": [
       "{'brand': 'ford', 'model': 'mustang', 'electric': False, 'year': 1964}"
      ]
     },
     "execution_count": 10,
     "metadata": {},
     "output_type": "execute_result"
    }
   ],
   "source": [
    "d1={\"brand\":\"ford\",\"model\":\"mustang\",\"electric\":False,\"year\":1964}\n",
    "d1"
   ]
  },
  {
   "cell_type": "markdown",
   "id": "59377932",
   "metadata": {},
   "source": [
    "## Get keys of Dict"
   ]
  },
  {
   "cell_type": "code",
   "execution_count": 12,
   "id": "5b4607f4",
   "metadata": {},
   "outputs": [
    {
     "name": "stdout",
     "output_type": "stream",
     "text": [
      "dict_keys(['brand', 'model', 'electric', 'year'])\n"
     ]
    }
   ],
   "source": [
    "print(d1.keys())"
   ]
  },
  {
   "cell_type": "code",
   "execution_count": 13,
   "id": "39ca0f96",
   "metadata": {},
   "outputs": [
    {
     "data": {
      "text/plain": [
       "dict_keys(['brand', 'model', 'year'])"
      ]
     },
     "execution_count": 13,
     "metadata": {},
     "output_type": "execute_result"
    }
   ],
   "source": [
    "d.keys()"
   ]
  },
  {
   "cell_type": "markdown",
   "id": "c7aa8611",
   "metadata": {},
   "source": [
    "## Values of Dict"
   ]
  },
  {
   "cell_type": "code",
   "execution_count": 15,
   "id": "43b8e045",
   "metadata": {},
   "outputs": [
    {
     "name": "stdout",
     "output_type": "stream",
     "text": [
      "dict_values(['ford', 'mustang', False, 1964])\n",
      "dict_values(['ford', 'mustang', 1965])\n"
     ]
    }
   ],
   "source": [
    "print(d1.values())\n",
    "print(d.values())"
   ]
  },
  {
   "cell_type": "markdown",
   "id": "daccf24a",
   "metadata": {},
   "source": [
    "## Get dict items"
   ]
  },
  {
   "cell_type": "code",
   "execution_count": 16,
   "id": "e0369fdf",
   "metadata": {},
   "outputs": [
    {
     "name": "stdout",
     "output_type": "stream",
     "text": [
      "dict_items([('brand', 'ford'), ('model', 'mustang'), ('electric', False), ('year', 1964)])\n"
     ]
    }
   ],
   "source": [
    "d1={\"brand\":\"ford\",\"model\":\"mustang\",\"electric\":False,\"year\":1964}\n",
    "print(d1.items())"
   ]
  },
  {
   "cell_type": "code",
   "execution_count": 17,
   "id": "38b25107",
   "metadata": {},
   "outputs": [
    {
     "data": {
      "text/plain": [
       "dict_items([('brand', 'ford'), ('model', 'mustang'), ('year', 1965)])"
      ]
     },
     "execution_count": 17,
     "metadata": {},
     "output_type": "execute_result"
    }
   ],
   "source": [
    "d.items()"
   ]
  },
  {
   "cell_type": "markdown",
   "id": "a2df4ee3",
   "metadata": {},
   "source": [
    "## Change Dict items"
   ]
  },
  {
   "cell_type": "code",
   "execution_count": 18,
   "id": "36101159",
   "metadata": {},
   "outputs": [
    {
     "name": "stdout",
     "output_type": "stream",
     "text": [
      "{'brand': 'ford', 'model': 'mustang', 'electric': True, 'year': 2022}\n"
     ]
    }
   ],
   "source": [
    "d1={\"brand\":\"ford\",\"model\":\"mustang\",\"electric\":False,\"year\":1964}\n",
    "d1[\"electric\"]=True\n",
    "d1[\"year\"]=2022\n",
    "print(d1)"
   ]
  },
  {
   "cell_type": "markdown",
   "id": "10796f2a",
   "metadata": {},
   "source": [
    "## Update Dict"
   ]
  },
  {
   "cell_type": "code",
   "execution_count": 21,
   "id": "578bf3ec",
   "metadata": {},
   "outputs": [
    {
     "name": "stdout",
     "output_type": "stream",
     "text": [
      "{'brand': 'ford', 'model': 'mustang', 'electric': False, 'year': 2020}\n"
     ]
    }
   ],
   "source": [
    "d1={\"brand\":\"ford\",\"model\":\"mustang\",\"electric\":False,\"year\":1964}\n",
    "d1.update({\"year\":2020})\n",
    "print(d1)"
   ]
  },
  {
   "cell_type": "markdown",
   "id": "6f9b1994",
   "metadata": {},
   "source": [
    "- adding new items "
   ]
  },
  {
   "cell_type": "code",
   "execution_count": 23,
   "id": "3de83d3d",
   "metadata": {},
   "outputs": [
    {
     "name": "stdout",
     "output_type": "stream",
     "text": [
      "{'brand': 'ford', 'model': 'mustang', 'electric': False, 'year': 1964, 'color': 'red', 'diesel': True, 'country': 'U.S.'}\n"
     ]
    }
   ],
   "source": [
    "d1={\"brand\":\"ford\",\"model\":\"mustang\",\"electric\":False,\"year\":1964}\n",
    "d1[\"color\"]=\"red\"\n",
    "d1[\"diesel\"]=True\n",
    "d1[\"country\"]=\"U.S.\"\n",
    "print(d1)"
   ]
  },
  {
   "cell_type": "markdown",
   "id": "aae72233",
   "metadata": {},
   "source": [
    "## Nested dicts"
   ]
  },
  {
   "cell_type": "code",
   "execution_count": 24,
   "id": "fd2bd111",
   "metadata": {},
   "outputs": [
    {
     "name": "stdout",
     "output_type": "stream",
     "text": [
      "{'child1': {'name': 'akash', 'birth_year': 2004}, 'child2': {'name': 'jack', 'birth_year': 2005}, 'child3': {'name': 'pluto', 'birth_year': 2006}}\n"
     ]
    }
   ],
   "source": [
    "family={\"child1\":{\"name\":\"akash\",\"birth_year\":2004},\"child2\":{\"name\":\"jack\",\"birth_year\":2005},\"child3\":{\"name\":\"pluto\",\"birth_year\":2006}}\n",
    "print(family)"
   ]
  },
  {
   "cell_type": "code",
   "execution_count": 26,
   "id": "c452a1cd",
   "metadata": {},
   "outputs": [
    {
     "data": {
      "text/plain": [
       "{'name': 'akash', 'birth_year': 2004}"
      ]
     },
     "execution_count": 26,
     "metadata": {},
     "output_type": "execute_result"
    }
   ],
   "source": [
    "family[\"child1\"]"
   ]
  },
  {
   "cell_type": "code",
   "execution_count": 27,
   "id": "95283257",
   "metadata": {},
   "outputs": [
    {
     "name": "stdout",
     "output_type": "stream",
     "text": [
      "{'child1': {'name': 'akash', 'birth_year': 2004}, 'child2': {'name': 'jack', 'birth_year': 2005}, 'child3': {'name': 'pluto', 'birth_year': 2006}}\n"
     ]
    }
   ],
   "source": [
    "child1={\"name\":\"akash\",\"birth_year\":2004}\n",
    "child2={\"name\":\"jack\",\"birth_year\":2005}\n",
    "child3={\"name\":\"pluto\",\"birth_year\":2006}\n",
    "family={\"child1\":child1,\"child2\":child2,\"child3\":child3}\n",
    "print(family)"
   ]
  },
  {
   "cell_type": "code",
   "execution_count": 1,
   "id": "6217f4ae",
   "metadata": {},
   "outputs": [
    {
     "name": "stdout",
     "output_type": "stream",
     "text": [
      "['__class__', '__class_getitem__', '__contains__', '__delattr__', '__delitem__', '__dir__', '__doc__', '__eq__', '__format__', '__ge__', '__getattribute__', '__getitem__', '__gt__', '__hash__', '__init__', '__init_subclass__', '__ior__', '__iter__', '__le__', '__len__', '__lt__', '__ne__', '__new__', '__or__', '__reduce__', '__reduce_ex__', '__repr__', '__reversed__', '__ror__', '__setattr__', '__setitem__', '__sizeof__', '__str__', '__subclasshook__', 'clear', 'copy', 'fromkeys', 'get', 'items', 'keys', 'pop', 'popitem', 'setdefault', 'update', 'values']\n"
     ]
    }
   ],
   "source": [
    "print(dir(dict))"
   ]
  },
  {
   "cell_type": "code",
   "execution_count": 13,
   "id": "5fe18b2c",
   "metadata": {},
   "outputs": [
    {
     "data": {
      "text/plain": [
       "{'name': 'akash', 'birth_year': 2004, 'age': 45}"
      ]
     },
     "execution_count": 13,
     "metadata": {},
     "output_type": "execute_result"
    }
   ],
   "source": [
    "d={\"name\":\"akash\",\"birth_year\":2004}\n",
    "d.setdefault(\"age\",45)\n",
    "d"
   ]
  },
  {
   "cell_type": "markdown",
   "id": "abf1e75a",
   "metadata": {},
   "source": [
    "## remove dict items"
   ]
  },
  {
   "cell_type": "markdown",
   "id": "c7e66fd7",
   "metadata": {},
   "source": [
    "- pop() method"
   ]
  },
  {
   "cell_type": "code",
   "execution_count": 14,
   "id": "040d142c",
   "metadata": {},
   "outputs": [
    {
     "data": {
      "text/plain": [
       "{'planet': 'earth', 'organism': 'living', 'gender': 'male'}"
      ]
     },
     "execution_count": 14,
     "metadata": {},
     "output_type": "execute_result"
    }
   ],
   "source": [
    "d={\"planet\":\"earth\",\"organism\":\"living\",\"gender\":\"male\",\"age\":20}\n",
    "d.pop(\"age\")\n",
    "d"
   ]
  },
  {
   "cell_type": "markdown",
   "id": "5f9f6ab4",
   "metadata": {},
   "source": [
    "- popitem() method"
   ]
  },
  {
   "cell_type": "code",
   "execution_count": 15,
   "id": "05828350",
   "metadata": {},
   "outputs": [
    {
     "data": {
      "text/plain": [
       "{'planet': 'earth', 'organism': 'living', 'gender': 'male'}"
      ]
     },
     "execution_count": 15,
     "metadata": {},
     "output_type": "execute_result"
    }
   ],
   "source": [
    "d={\"planet\":\"earth\",\"organism\":\"living\",\"gender\":\"male\",\"age\":20}\n",
    "d.popitem()\n",
    "d"
   ]
  },
  {
   "cell_type": "markdown",
   "id": "690c378e",
   "metadata": {},
   "source": [
    "- del keyword"
   ]
  },
  {
   "cell_type": "code",
   "execution_count": 16,
   "id": "b936f299",
   "metadata": {},
   "outputs": [
    {
     "data": {
      "text/plain": [
       "{'planet': 'earth', 'organism': 'living', 'age': 20}"
      ]
     },
     "execution_count": 16,
     "metadata": {},
     "output_type": "execute_result"
    }
   ],
   "source": [
    "d={\"planet\":\"earth\",\"organism\":\"living\",\"gender\":\"male\",\"age\":20}\n",
    "del d[\"gender\"]\n",
    "d"
   ]
  },
  {
   "cell_type": "markdown",
   "id": "13b233f8",
   "metadata": {},
   "source": [
    "- clear() method"
   ]
  },
  {
   "cell_type": "code",
   "execution_count": 17,
   "id": "de115e06",
   "metadata": {},
   "outputs": [
    {
     "data": {
      "text/plain": [
       "{}"
      ]
     },
     "execution_count": 17,
     "metadata": {},
     "output_type": "execute_result"
    }
   ],
   "source": [
    "d={\"planet\":\"earth\",\"organism\":\"living\",\"gender\":\"male\",\"age\":20}\n",
    "d.clear()\n",
    "d"
   ]
  },
  {
   "cell_type": "markdown",
   "id": "0c8d856f",
   "metadata": {},
   "source": [
    "## Dict methods"
   ]
  },
  {
   "cell_type": "code",
   "execution_count": 18,
   "id": "5384f153",
   "metadata": {},
   "outputs": [
    {
     "name": "stdout",
     "output_type": "stream",
     "text": [
      "['__class__', '__class_getitem__', '__contains__', '__delattr__', '__delitem__', '__dir__', '__doc__', '__eq__', '__format__', '__ge__', '__getattribute__', '__getitem__', '__gt__', '__hash__', '__init__', '__init_subclass__', '__ior__', '__iter__', '__le__', '__len__', '__lt__', '__ne__', '__new__', '__or__', '__reduce__', '__reduce_ex__', '__repr__', '__reversed__', '__ror__', '__setattr__', '__setitem__', '__sizeof__', '__str__', '__subclasshook__', 'clear', 'copy', 'fromkeys', 'get', 'items', 'keys', 'pop', 'popitem', 'setdefault', 'update', 'values']\n"
     ]
    }
   ],
   "source": [
    "print(dir(dict))"
   ]
  },
  {
   "cell_type": "code",
   "execution_count": 27,
   "id": "74cc74c8",
   "metadata": {},
   "outputs": [
    {
     "data": {
      "text/plain": [
       "dict_keys(['planet', 'organism', 'gender', 'age'])"
      ]
     },
     "execution_count": 27,
     "metadata": {},
     "output_type": "execute_result"
    }
   ],
   "source": [
    "d={\"planet\":\"earth\",\"organism\":\"living\",\"gender\":\"male\",\"age\":20}\n",
    "d.keys()"
   ]
  },
  {
   "cell_type": "code",
   "execution_count": 34,
   "id": "4289f31b",
   "metadata": {},
   "outputs": [
    {
     "data": {
      "text/plain": [
       "dict_values(['earth', 'living', 'male', 20, 'human', 80])"
      ]
     },
     "execution_count": 34,
     "metadata": {},
     "output_type": "execute_result"
    }
   ],
   "source": [
    "d\n",
    "d.values()"
   ]
  },
  {
   "cell_type": "code",
   "execution_count": 32,
   "id": "4ca963c8",
   "metadata": {},
   "outputs": [
    {
     "data": {
      "text/plain": [
       "{'planet': 'earth',\n",
       " 'organism': 'living',\n",
       " 'gender': 'male',\n",
       " 'age': 20,\n",
       " 'name': 'human',\n",
       " 'living_period': 80}"
      ]
     },
     "execution_count": 32,
     "metadata": {},
     "output_type": "execute_result"
    }
   ],
   "source": [
    "d={\"planet\":\"earth\",\"organism\":\"living\",\"gender\":\"male\",\"age\":20}\n",
    "d.update({\"name\":\"human\",\"living_period\":80})\n",
    "d"
   ]
  },
  {
   "cell_type": "code",
   "execution_count": 31,
   "id": "a1f9eec0",
   "metadata": {},
   "outputs": [
    {
     "data": {
      "text/plain": [
       "{'planet': 'earth',\n",
       " 'organism': 'living',\n",
       " 'gender': 'male',\n",
       " 'age': 20,\n",
       " 'name': 'human'}"
      ]
     },
     "execution_count": 31,
     "metadata": {},
     "output_type": "execute_result"
    }
   ],
   "source": [
    "d={\"planet\":\"earth\",\"organism\":\"living\",\"gender\":\"male\",\"age\":20}\n",
    "d.setdefault(\"name\",\"human\")\n",
    "d"
   ]
  },
  {
   "cell_type": "code",
   "execution_count": 19,
   "id": "961bb04a",
   "metadata": {},
   "outputs": [
    {
     "data": {
      "text/plain": [
       "{'planet': 'earth', 'organism': 'living', 'gender': 'male', 'age': 20}"
      ]
     },
     "execution_count": 19,
     "metadata": {},
     "output_type": "execute_result"
    }
   ],
   "source": [
    "d={\"planet\":\"earth\",\"organism\":\"living\",\"gender\":\"male\",\"age\":20}\n",
    "d.copy()"
   ]
  },
  {
   "cell_type": "code",
   "execution_count": 23,
   "id": "381c96d8",
   "metadata": {},
   "outputs": [
    {
     "data": {
      "text/plain": [
       "{'living_period': 70, 'name': 70}"
      ]
     },
     "execution_count": 23,
     "metadata": {},
     "output_type": "execute_result"
    }
   ],
   "source": [
    "d={\"planet\":\"earth\",\"organism\":\"living\",\"gender\":\"male\",\"age\":20}\n",
    "d.fromkeys([\"living_period\",\"name\"],70)\n"
   ]
  },
  {
   "cell_type": "code",
   "execution_count": 25,
   "id": "7a58c9ff",
   "metadata": {},
   "outputs": [
    {
     "data": {
      "text/plain": [
       "'earth'"
      ]
     },
     "execution_count": 25,
     "metadata": {},
     "output_type": "execute_result"
    }
   ],
   "source": [
    "d={\"planet\":\"earth\",\"organism\":\"living\",\"gender\":\"male\",\"age\":20}\n",
    "d.get(\"planet\")\n"
   ]
  },
  {
   "cell_type": "code",
   "execution_count": 26,
   "id": "4240f31d",
   "metadata": {},
   "outputs": [
    {
     "data": {
      "text/plain": [
       "dict_items([('planet', 'earth'), ('organism', 'living'), ('gender', 'male'), ('age', 20)])"
      ]
     },
     "execution_count": 26,
     "metadata": {},
     "output_type": "execute_result"
    }
   ],
   "source": [
    "d={\"planet\":\"earth\",\"organism\":\"living\",\"gender\":\"male\",\"age\":20}\n",
    "d.items()"
   ]
  },
  {
   "cell_type": "code",
   "execution_count": null,
   "id": "2532dee1",
   "metadata": {},
   "outputs": [],
   "source": []
  }
 ],
 "metadata": {
  "kernelspec": {
   "display_name": "Python 3 (ipykernel)",
   "language": "python",
   "name": "python3"
  },
  "language_info": {
   "codemirror_mode": {
    "name": "ipython",
    "version": 3
   },
   "file_extension": ".py",
   "mimetype": "text/x-python",
   "name": "python",
   "nbconvert_exporter": "python",
   "pygments_lexer": "ipython3",
   "version": "3.9.7"
  }
 },
 "nbformat": 4,
 "nbformat_minor": 5
}
