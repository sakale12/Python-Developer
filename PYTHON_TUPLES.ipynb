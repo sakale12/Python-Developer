{
 "cells": [
  {
   "cell_type": "code",
   "execution_count": 4,
   "id": "7814a3f3",
   "metadata": {},
   "outputs": [
    {
     "name": "stdout",
     "output_type": "stream",
     "text": [
      "(1, 2, 3, 4)\n"
     ]
    }
   ],
   "source": [
    "t=(1,2,3,4)\n",
    "print(t)"
   ]
  },
  {
   "cell_type": "code",
   "execution_count": 5,
   "id": "a0fdb88e",
   "metadata": {},
   "outputs": [
    {
     "ename": "TypeError",
     "evalue": "'tuple' object does not support item assignment",
     "output_type": "error",
     "traceback": [
      "\u001b[1;31m---------------------------------------------------------------------------\u001b[0m",
      "\u001b[1;31mTypeError\u001b[0m                                 Traceback (most recent call last)",
      "\u001b[1;32mC:\\Users\\SAMADH~1\\AppData\\Local\\Temp/ipykernel_12084/143241078.py\u001b[0m in \u001b[0;36m<module>\u001b[1;34m\u001b[0m\n\u001b[0;32m      1\u001b[0m \u001b[0mt\u001b[0m\u001b[1;33m=\u001b[0m\u001b[1;33m(\u001b[0m\u001b[1;36m1\u001b[0m\u001b[1;33m,\u001b[0m\u001b[1;36m2\u001b[0m\u001b[1;33m,\u001b[0m\u001b[1;36m3\u001b[0m\u001b[1;33m,\u001b[0m\u001b[1;36m4\u001b[0m\u001b[1;33m)\u001b[0m\u001b[1;33m\u001b[0m\u001b[1;33m\u001b[0m\u001b[0m\n\u001b[1;32m----> 2\u001b[1;33m \u001b[0mt\u001b[0m\u001b[1;33m[\u001b[0m\u001b[1;36m1\u001b[0m\u001b[1;33m]\u001b[0m\u001b[1;33m=\u001b[0m\u001b[1;36m5\u001b[0m\u001b[1;33m\u001b[0m\u001b[1;33m\u001b[0m\u001b[0m\n\u001b[0m\u001b[0;32m      3\u001b[0m \u001b[0mprint\u001b[0m\u001b[1;33m(\u001b[0m\u001b[0mt\u001b[0m\u001b[1;33m)\u001b[0m\u001b[1;33m\u001b[0m\u001b[1;33m\u001b[0m\u001b[0m\n",
      "\u001b[1;31mTypeError\u001b[0m: 'tuple' object does not support item assignment"
     ]
    }
   ],
   "source": [
    "t=(1,2,3,4)   # tulle is unchangeable\n",
    "t[1]=5\n",
    "print(t)"
   ]
  },
  {
   "cell_type": "code",
   "execution_count": 6,
   "id": "08e1008c",
   "metadata": {},
   "outputs": [
    {
     "data": {
      "text/plain": [
       "(1, 2, 3, 4, 1, 2, 3, 4)"
      ]
     },
     "execution_count": 6,
     "metadata": {},
     "output_type": "execute_result"
    }
   ],
   "source": [
    "t=(1,2,3,4,1,2,3,4)  # tuple allows duplicate value\n",
    "t"
   ]
  },
  {
   "cell_type": "code",
   "execution_count": 7,
   "id": "ff155f26",
   "metadata": {},
   "outputs": [
    {
     "name": "stdout",
     "output_type": "stream",
     "text": [
      "8\n"
     ]
    }
   ],
   "source": [
    "print(len(t))"
   ]
  },
  {
   "cell_type": "markdown",
   "id": "dfe537d5",
   "metadata": {},
   "source": [
    "- tuple with one item"
   ]
  },
  {
   "cell_type": "code",
   "execution_count": 12,
   "id": "c1fc434d",
   "metadata": {},
   "outputs": [
    {
     "name": "stdout",
     "output_type": "stream",
     "text": [
      "('apple',)\n",
      "<class 'tuple'>\n"
     ]
    }
   ],
   "source": [
    "t1=(\"apple\",)\n",
    "print(t1)\n",
    "print(type(t1))"
   ]
  },
  {
   "cell_type": "markdown",
   "id": "4ded9df6",
   "metadata": {},
   "source": [
    "Tuple items- data types"
   ]
  },
  {
   "cell_type": "code",
   "execution_count": 13,
   "id": "ec5856b5",
   "metadata": {},
   "outputs": [
    {
     "name": "stdout",
     "output_type": "stream",
     "text": [
      "('apple', 'cherry', 'banana', 'mango')\n",
      "('apple', 'cherry', 1, 2, 8.9)\n",
      "(True, True, False, 6, 7)\n"
     ]
    }
   ],
   "source": [
    "t2=(\"apple\",\"cherry\",\"banana\",\"mango\")  # tulle can contain different data types\n",
    "t3=(\"apple\",\"cherry\",1,2,8.9)\n",
    "t4=(True,True,False,6,7)\n",
    "print(t2)\n",
    "print(t3)\n",
    "print(t4)"
   ]
  },
  {
   "cell_type": "markdown",
   "id": "688724d4",
   "metadata": {},
   "source": [
    "## tuple constructor"
   ]
  },
  {
   "cell_type": "code",
   "execution_count": 14,
   "id": "5b168352",
   "metadata": {},
   "outputs": [
    {
     "name": "stdout",
     "output_type": "stream",
     "text": [
      "(1, 2, 3, 'apple', 'banana')\n"
     ]
    }
   ],
   "source": [
    "t5=tuple((1,2,3,\"apple\",\"banana\"))\n",
    "print(t5)"
   ]
  },
  {
   "cell_type": "markdown",
   "id": "c0114459",
   "metadata": {},
   "source": [
    "## Access tuple items"
   ]
  },
  {
   "cell_type": "markdown",
   "id": "d51e5131",
   "metadata": {},
   "source": [
    "indexing"
   ]
  },
  {
   "cell_type": "code",
   "execution_count": 18,
   "id": "7e178c21",
   "metadata": {},
   "outputs": [
    {
     "name": "stdout",
     "output_type": "stream",
     "text": [
      "mango\n",
      "('apple', 'cherry', 'banana', 'mango', 'chilli', 'pineapple', 'watermelon')\n"
     ]
    }
   ],
   "source": [
    "t2=(\"apple\",\"cherry\",\"banana\",\"mango\",\"chilli\",\"pineapple\",\"watermelon\")\n",
    "print(t2[3])\n",
    "print(t2)"
   ]
  },
  {
   "cell_type": "code",
   "execution_count": 17,
   "id": "248b0fb4",
   "metadata": {},
   "outputs": [
    {
     "name": "stdout",
     "output_type": "stream",
     "text": [
      "chilli\n"
     ]
    }
   ],
   "source": [
    "print(t2[4])"
   ]
  },
  {
   "cell_type": "code",
   "execution_count": 19,
   "id": "2f0474f2",
   "metadata": {},
   "outputs": [
    {
     "data": {
      "text/plain": [
       "'watermelon'"
      ]
     },
     "execution_count": 19,
     "metadata": {},
     "output_type": "execute_result"
    }
   ],
   "source": [
    "t2[6]"
   ]
  },
  {
   "cell_type": "code",
   "execution_count": 20,
   "id": "5128abde",
   "metadata": {},
   "outputs": [
    {
     "ename": "IndexError",
     "evalue": "tuple index out of range",
     "output_type": "error",
     "traceback": [
      "\u001b[1;31m---------------------------------------------------------------------------\u001b[0m",
      "\u001b[1;31mIndexError\u001b[0m                                Traceback (most recent call last)",
      "\u001b[1;32mC:\\Users\\SAMADH~1\\AppData\\Local\\Temp/ipykernel_12084/114541841.py\u001b[0m in \u001b[0;36m<module>\u001b[1;34m\u001b[0m\n\u001b[1;32m----> 1\u001b[1;33m \u001b[0mt2\u001b[0m\u001b[1;33m[\u001b[0m\u001b[1;36m7\u001b[0m\u001b[1;33m]\u001b[0m\u001b[1;33m\u001b[0m\u001b[1;33m\u001b[0m\u001b[0m\n\u001b[0m",
      "\u001b[1;31mIndexError\u001b[0m: tuple index out of range"
     ]
    }
   ],
   "source": [
    "t2[7]"
   ]
  },
  {
   "cell_type": "markdown",
   "id": "8c62cdff",
   "metadata": {},
   "source": [
    "Negative indexing"
   ]
  },
  {
   "cell_type": "code",
   "execution_count": 21,
   "id": "6b02aa4d",
   "metadata": {},
   "outputs": [
    {
     "name": "stdout",
     "output_type": "stream",
     "text": [
      "chilli\n",
      "('apple', 'cherry', 'banana', 'mango', 'chilli', 'pineapple', 'watermelon')\n"
     ]
    }
   ],
   "source": [
    "t2=(\"apple\",\"cherry\",\"banana\",\"mango\",\"chilli\",\"pineapple\",\"watermelon\")\n",
    "print(t2[-3])\n",
    "print(t2)"
   ]
  },
  {
   "cell_type": "code",
   "execution_count": 22,
   "id": "a733eae2",
   "metadata": {},
   "outputs": [
    {
     "data": {
      "text/plain": [
       "'apple'"
      ]
     },
     "execution_count": 22,
     "metadata": {},
     "output_type": "execute_result"
    }
   ],
   "source": [
    "t2[-7]"
   ]
  },
  {
   "cell_type": "code",
   "execution_count": 23,
   "id": "9e3b2343",
   "metadata": {},
   "outputs": [
    {
     "data": {
      "text/plain": [
       "'banana'"
      ]
     },
     "execution_count": 23,
     "metadata": {},
     "output_type": "execute_result"
    }
   ],
   "source": [
    "t2[-5]"
   ]
  },
  {
   "cell_type": "markdown",
   "id": "48ba9e1d",
   "metadata": {},
   "source": [
    "Slicing in tuple"
   ]
  },
  {
   "cell_type": "code",
   "execution_count": 26,
   "id": "5e7a7aee",
   "metadata": {},
   "outputs": [
    {
     "name": "stdout",
     "output_type": "stream",
     "text": [
      "('apple', 'cherry', 'banana', 'mango', 'chilli', 'pineapple', 'watermelon')\n",
      "('apple', 'mango', 'watermelon')\n"
     ]
    }
   ],
   "source": [
    "t2=(\"apple\",\"cherry\",\"banana\",\"mango\",\"chilli\",\"pineapple\",\"watermelon\")   ## [start:stop:step]\n",
    "print(t2)\n",
    "print(t2[0:7:3])"
   ]
  },
  {
   "cell_type": "code",
   "execution_count": 28,
   "id": "7485f5ce",
   "metadata": {},
   "outputs": [
    {
     "name": "stdout",
     "output_type": "stream",
     "text": [
      "('banana', 'mango')\n"
     ]
    }
   ],
   "source": [
    "print(t2[2:4])"
   ]
  },
  {
   "cell_type": "code",
   "execution_count": 31,
   "id": "dd44498a",
   "metadata": {},
   "outputs": [
    {
     "name": "stdout",
     "output_type": "stream",
     "text": [
      "('apple', 'cherry', 'banana', 'mango', 'chilli', 'pineapple', 'watermelon')\n",
      "('mango', 'chilli')\n"
     ]
    }
   ],
   "source": [
    "t2=(\"apple\",\"cherry\",\"banana\",\"mango\",\"chilli\",\"pineapple\",\"watermelon\")   ## [start:stop:step]\n",
    "print(t2)\n",
    "print(t2[-4:-2])"
   ]
  },
  {
   "cell_type": "code",
   "execution_count": 32,
   "id": "7971c2a4",
   "metadata": {},
   "outputs": [
    {
     "data": {
      "text/plain": [
       "('apple', 'cherry', 'banana')"
      ]
     },
     "execution_count": 32,
     "metadata": {},
     "output_type": "execute_result"
    }
   ],
   "source": [
    "t2[:3]  #by leaving start value"
   ]
  },
  {
   "cell_type": "code",
   "execution_count": 33,
   "id": "ee546638",
   "metadata": {},
   "outputs": [
    {
     "data": {
      "text/plain": [
       "('banana', 'mango', 'chilli', 'pineapple', 'watermelon')"
      ]
     },
     "execution_count": 33,
     "metadata": {},
     "output_type": "execute_result"
    }
   ],
   "source": [
    "t2[2:]   #  by leaving end value"
   ]
  },
  {
   "cell_type": "markdown",
   "id": "1d54a1b8",
   "metadata": {},
   "source": [
    "## Updating tuples"
   ]
  },
  {
   "cell_type": "code",
   "execution_count": 1,
   "id": "5193fa32",
   "metadata": {},
   "outputs": [
    {
     "name": "stdout",
     "output_type": "stream",
     "text": [
      "['mango', 'cherry', 'apple', 'papaya']\n",
      "['mango', 'pineapple', 'apple', 'papaya']\n",
      "('mango', 'pineapple', 'apple', 'papaya')\n"
     ]
    }
   ],
   "source": [
    "t1=(\"mango\",\"cherry\",\"apple\",\"papaya\")\n",
    "y=list(t1)  # tuple to list\n",
    "print(y)\n",
    "y[1]=\"pineapple\"   # update list\n",
    "print(y)\n",
    "t1=tuple(y)    # list to tuple\n",
    "print(t1)"
   ]
  },
  {
   "cell_type": "markdown",
   "id": "6cad9d67",
   "metadata": {},
   "source": [
    "- Add items in tuple"
   ]
  },
  {
   "cell_type": "code",
   "execution_count": 5,
   "id": "3c7815dc",
   "metadata": {},
   "outputs": [
    {
     "name": "stdout",
     "output_type": "stream",
     "text": [
      "('mango', 'cherry', 'apple', 'papaya')\n",
      "['mango', 'cherry', 'apple', 'papaya']\n",
      "('mango', 'cherry', 'apple', 'papaya', 'pineapple')\n"
     ]
    }
   ],
   "source": [
    "t1=(\"mango\",\"cherry\",\"apple\",\"papaya\")\n",
    "y=list(t1)\n",
    "print(y)   # tuple to list\n",
    "y.append(\"pineapple\")   # add element to list\n",
    "t1=tuple(y)\n",
    "print(t1)    # list to  tuple"
   ]
  },
  {
   "cell_type": "markdown",
   "id": "77a52670",
   "metadata": {},
   "source": [
    "- Add tuple to tuple"
   ]
  },
  {
   "cell_type": "code",
   "execution_count": 6,
   "id": "7df4d5cd",
   "metadata": {},
   "outputs": [
    {
     "name": "stdout",
     "output_type": "stream",
     "text": [
      "('mango', 'cherry', 'apple', 'papaya')\n",
      "('mango', 'cherry', 'apple', 'papaya', 'pineapple', 'banana')\n"
     ]
    }
   ],
   "source": [
    "t1=(\"mango\",\"cherry\",\"apple\",\"papaya\")\n",
    "print(t1)\n",
    "t2=(\"pineapple\",\"banana\")\n",
    "t1+=t2   # Assignment on tuple\n",
    "print(t1)"
   ]
  },
  {
   "cell_type": "markdown",
   "id": "36274f6e",
   "metadata": {},
   "source": [
    "- Remove items from tuple"
   ]
  },
  {
   "cell_type": "code",
   "execution_count": 7,
   "id": "a2c6523d",
   "metadata": {},
   "outputs": [
    {
     "name": "stdout",
     "output_type": "stream",
     "text": [
      "['mango', 'cherry', 'apple', 'papaya']\n",
      "('mango', 'cherry', 'papaya')\n"
     ]
    }
   ],
   "source": [
    "t1=(\"mango\",\"cherry\",\"apple\",\"papaya\")\n",
    "y=list(t1)  # list to tuple\n",
    "print(y)\n",
    "y.remove(\"apple\") # remove item\n",
    "t1=tuple(y)\n",
    "print(t1)   # convert to tuple"
   ]
  },
  {
   "cell_type": "markdown",
   "id": "28a51ccf",
   "metadata": {},
   "source": [
    "## Unpacking in tuple"
   ]
  },
  {
   "cell_type": "code",
   "execution_count": 9,
   "id": "bc0ec5e9",
   "metadata": {},
   "outputs": [
    {
     "name": "stdout",
     "output_type": "stream",
     "text": [
      "mango\n",
      "cherry\n",
      "apple\n",
      "papaya\n"
     ]
    }
   ],
   "source": [
    "t1=(\"mango\",\"cherry\",\"apple\",\"papaya\")  # values\n",
    "(green,yellow,orange,red)=t1   # variables\n",
    "print(green)\n",
    "\n",
    "print(yellow)\n",
    "print(orange)\n",
    "print(red)"
   ]
  },
  {
   "cell_type": "code",
   "execution_count": 12,
   "id": "bfd8476e",
   "metadata": {},
   "outputs": [
    {
     "name": "stdout",
     "output_type": "stream",
     "text": [
      "mango\n",
      "cherry\n",
      "['apple', 'papaya', 'pineapple', 'lemon']\n"
     ]
    }
   ],
   "source": [
    "t1=(\"mango\",\"cherry\",\"apple\",\"papaya\",\"pineapple\",\"lemon\")  # values\n",
    "(green,yellow,*orange)=t1  \n",
    "\n",
    "print(green)\n",
    "\n",
    "print(yellow)\n",
    "print(orange)"
   ]
  },
  {
   "cell_type": "code",
   "execution_count": 13,
   "id": "e278defc",
   "metadata": {},
   "outputs": [
    {
     "name": "stdout",
     "output_type": "stream",
     "text": [
      "mango\n",
      "['cherry', 'apple', 'papaya', 'pineapple']\n",
      "lemon\n"
     ]
    }
   ],
   "source": [
    "t1=(\"mango\",\"cherry\",\"apple\",\"papaya\",\"pineapple\",\"lemon\")  # values\n",
    "(green,*yellow,orange)=t1  \n",
    "\n",
    "print(green)\n",
    "\n",
    "print(yellow)\n",
    "print(orange)"
   ]
  },
  {
   "cell_type": "code",
   "execution_count": 14,
   "id": "e4642b2a",
   "metadata": {},
   "outputs": [
    {
     "name": "stdout",
     "output_type": "stream",
     "text": [
      "['mango', 'cherry', 'apple', 'papaya']\n",
      "pineapple\n",
      "lemon\n"
     ]
    }
   ],
   "source": [
    "t1=(\"mango\",\"cherry\",\"apple\",\"papaya\",\"pineapple\",\"lemon\")  # values\n",
    "(*green,yellow,orange)=t1  \n",
    "\n",
    "print(green)\n",
    "\n",
    "print(yellow)\n",
    "print(orange)"
   ]
  },
  {
   "cell_type": "markdown",
   "id": "f0e94a20",
   "metadata": {},
   "source": [
    "## Join two tuples"
   ]
  },
  {
   "cell_type": "code",
   "execution_count": 18,
   "id": "bce394eb",
   "metadata": {},
   "outputs": [
    {
     "name": "stdout",
     "output_type": "stream",
     "text": [
      "('a', 'b', 'c', 1, 2, 3, 4, 5)\n"
     ]
    }
   ],
   "source": [
    "t1=(\"a\",\"b\",\"c\")\n",
    "t2=(1,2,3,4,5)\n",
    "t3=t1+t2\n",
    "print(t3)"
   ]
  },
  {
   "cell_type": "markdown",
   "id": "7c2b332f",
   "metadata": {},
   "source": [
    "## Multiply tuples"
   ]
  },
  {
   "cell_type": "code",
   "execution_count": 19,
   "id": "52b15157",
   "metadata": {},
   "outputs": [
    {
     "name": "stdout",
     "output_type": "stream",
     "text": [
      "('a', 'b', 'c', 'a', 'b', 'c', 'a', 'b', 'c')\n"
     ]
    }
   ],
   "source": [
    "t1=(\"a\",\"b\",\"c\")\n",
    "t2=t1*3\n",
    "print(t2)"
   ]
  },
  {
   "cell_type": "markdown",
   "id": "b327c499",
   "metadata": {},
   "source": [
    "## Tuple methods"
   ]
  },
  {
   "cell_type": "code",
   "execution_count": 20,
   "id": "2cacc2d0",
   "metadata": {},
   "outputs": [
    {
     "name": "stdout",
     "output_type": "stream",
     "text": [
      "['__add__', '__class__', '__class_getitem__', '__contains__', '__delattr__', '__dir__', '__doc__', '__eq__', '__format__', '__ge__', '__getattribute__', '__getitem__', '__getnewargs__', '__gt__', '__hash__', '__init__', '__init_subclass__', '__iter__', '__le__', '__len__', '__lt__', '__mul__', '__ne__', '__new__', '__reduce__', '__reduce_ex__', '__repr__', '__rmul__', '__setattr__', '__sizeof__', '__str__', '__subclasshook__', 'count', 'index']\n"
     ]
    }
   ],
   "source": [
    "print(dir(tuple))"
   ]
  },
  {
   "cell_type": "code",
   "execution_count": 21,
   "id": "492cf22e",
   "metadata": {},
   "outputs": [
    {
     "name": "stdout",
     "output_type": "stream",
     "text": [
      "('a', 'b', 'c', 'a', 'b', 'c', 'a', 'b', 'c')\n"
     ]
    }
   ],
   "source": [
    "print(t2)"
   ]
  },
  {
   "cell_type": "code",
   "execution_count": 22,
   "id": "c8aaa909",
   "metadata": {},
   "outputs": [
    {
     "data": {
      "text/plain": [
       "3"
      ]
     },
     "execution_count": 22,
     "metadata": {},
     "output_type": "execute_result"
    }
   ],
   "source": [
    "t2.count(\"a\")"
   ]
  },
  {
   "cell_type": "code",
   "execution_count": 23,
   "id": "d79d8f5f",
   "metadata": {},
   "outputs": [
    {
     "data": {
      "text/plain": [
       "3"
      ]
     },
     "execution_count": 23,
     "metadata": {},
     "output_type": "execute_result"
    }
   ],
   "source": [
    "t2.count(\"c\")"
   ]
  },
  {
   "cell_type": "code",
   "execution_count": 24,
   "id": "64bf2134",
   "metadata": {},
   "outputs": [
    {
     "data": {
      "text/plain": [
       "0"
      ]
     },
     "execution_count": 24,
     "metadata": {},
     "output_type": "execute_result"
    }
   ],
   "source": [
    "t2.index(\"a\")"
   ]
  },
  {
   "cell_type": "code",
   "execution_count": 25,
   "id": "227313d4",
   "metadata": {},
   "outputs": [
    {
     "data": {
      "text/plain": [
       "0"
      ]
     },
     "execution_count": 25,
     "metadata": {},
     "output_type": "execute_result"
    }
   ],
   "source": [
    "t2.index(\"a\")"
   ]
  },
  {
   "cell_type": "code",
   "execution_count": 26,
   "id": "051c8ee8",
   "metadata": {},
   "outputs": [
    {
     "data": {
      "text/plain": [
       "1"
      ]
     },
     "execution_count": 26,
     "metadata": {},
     "output_type": "execute_result"
    }
   ],
   "source": [
    "t2.index(\"b\")"
   ]
  }
 ],
 "metadata": {
  "kernelspec": {
   "display_name": "Python 3 (ipykernel)",
   "language": "python",
   "name": "python3"
  },
  "language_info": {
   "codemirror_mode": {
    "name": "ipython",
    "version": 3
   },
   "file_extension": ".py",
   "mimetype": "text/x-python",
   "name": "python",
   "nbconvert_exporter": "python",
   "pygments_lexer": "ipython3",
   "version": "3.9.7"
  }
 },
 "nbformat": 4,
 "nbformat_minor": 5
}
