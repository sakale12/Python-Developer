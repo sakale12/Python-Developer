{
 "cells": [
  {
   "cell_type": "markdown",
   "id": "162d2789",
   "metadata": {},
   "source": [
    "- Create module"
   ]
  },
  {
   "cell_type": "code",
   "execution_count": 1,
   "id": "b9f3d218",
   "metadata": {},
   "outputs": [],
   "source": [
    "import statistics as st\n",
    "import math\n",
    "def add(x,y):\n",
    "    return x+y\n",
    "def sub(x,y):\n",
    "    return x-y\n",
    "def mul(x,y):\n",
    "    return x*y\n",
    "def div(x,y):\n",
    "    return x/y\n",
    "def power(x,y):\n",
    "    return(x**y)\n",
    "def find_mean(*x):\n",
    "    return sum(list(x))/len(list(x))\n",
    "def find_mode(*x):\n",
    "    return st.mode(x)\n",
    "month=[\"jan\",\"Feb\",\"march\",\"april\"]\n",
    "colors=(\"Black\",\"Green\",\"Blue\")\n",
    "person={\"name\":\"Rajan\",\"age\":30}\n",
    "def sqrt(a):\n",
    "    return math.sqrt(a)"
   ]
  },
  {
   "cell_type": "markdown",
   "id": "d4bb12af",
   "metadata": {},
   "source": [
    "- use the module"
   ]
  },
  {
   "cell_type": "code",
   "execution_count": 3,
   "id": "d3f2e17b",
   "metadata": {},
   "outputs": [],
   "source": [
    "import samadhan"
   ]
  },
  {
   "cell_type": "code",
   "execution_count": 5,
   "id": "02cfe644",
   "metadata": {},
   "outputs": [
    {
     "data": {
      "text/plain": [
       "177"
      ]
     },
     "execution_count": 5,
     "metadata": {},
     "output_type": "execute_result"
    }
   ],
   "source": [
    "samadhan.add(88,89)"
   ]
  },
  {
   "cell_type": "code",
   "execution_count": 7,
   "id": "0bae0704",
   "metadata": {},
   "outputs": [
    {
     "data": {
      "text/plain": [
       "('Black', 'Green', 'Blue')"
      ]
     },
     "execution_count": 7,
     "metadata": {},
     "output_type": "execute_result"
    }
   ],
   "source": [
    "samadhan.colors"
   ]
  },
  {
   "cell_type": "code",
   "execution_count": 12,
   "id": "b6114591",
   "metadata": {},
   "outputs": [
    {
     "data": {
      "text/plain": [
       "{'name': 'Rajan', 'age': 30}"
      ]
     },
     "execution_count": 12,
     "metadata": {},
     "output_type": "execute_result"
    }
   ],
   "source": [
    "samadhan.person"
   ]
  },
  {
   "cell_type": "markdown",
   "id": "266d51a3",
   "metadata": {},
   "source": [
    "- variables in modules"
   ]
  },
  {
   "cell_type": "code",
   "execution_count": 13,
   "id": "11651a13",
   "metadata": {},
   "outputs": [
    {
     "data": {
      "text/plain": [
       "'Rajan'"
      ]
     },
     "execution_count": 13,
     "metadata": {},
     "output_type": "execute_result"
    }
   ],
   "source": [
    "samadhan.person[\"name\"]"
   ]
  },
  {
   "cell_type": "code",
   "execution_count": 14,
   "id": "7723d6e5",
   "metadata": {},
   "outputs": [
    {
     "data": {
      "text/plain": [
       "30"
      ]
     },
     "execution_count": 14,
     "metadata": {},
     "output_type": "execute_result"
    }
   ],
   "source": [
    "samadhan.person[\"age\"]"
   ]
  },
  {
   "cell_type": "markdown",
   "id": "1e5afe25",
   "metadata": {},
   "source": [
    "- rename the module"
   ]
  },
  {
   "cell_type": "code",
   "execution_count": 15,
   "id": "c5d3c05b",
   "metadata": {},
   "outputs": [],
   "source": [
    "import samadhan as sk"
   ]
  },
  {
   "cell_type": "code",
   "execution_count": 16,
   "id": "28b96afd",
   "metadata": {},
   "outputs": [
    {
     "data": {
      "text/plain": [
       "30"
      ]
     },
     "execution_count": 16,
     "metadata": {},
     "output_type": "execute_result"
    }
   ],
   "source": [
    "a=sk.person[\"age\"]\n",
    "a"
   ]
  },
  {
   "cell_type": "code",
   "execution_count": 18,
   "id": "7dd4e159",
   "metadata": {},
   "outputs": [
    {
     "data": {
      "text/plain": [
       "23"
      ]
     },
     "execution_count": 18,
     "metadata": {},
     "output_type": "execute_result"
    }
   ],
   "source": [
    "sk.sub(90,67)"
   ]
  },
  {
   "cell_type": "code",
   "execution_count": 20,
   "id": "45edf1d9",
   "metadata": {},
   "outputs": [
    {
     "data": {
      "text/plain": [
       "500246412961"
      ]
     },
     "execution_count": 20,
     "metadata": {},
     "output_type": "execute_result"
    }
   ],
   "source": [
    "sk.power(29,8)"
   ]
  },
  {
   "cell_type": "code",
   "execution_count": 22,
   "id": "1fd12564",
   "metadata": {},
   "outputs": [
    {
     "data": {
      "text/plain": [
       "2.6"
      ]
     },
     "execution_count": 22,
     "metadata": {},
     "output_type": "execute_result"
    }
   ],
   "source": [
    "sk.find_mean(1,1,2,4,5)"
   ]
  },
  {
   "cell_type": "code",
   "execution_count": 25,
   "id": "a165543f",
   "metadata": {},
   "outputs": [
    {
     "data": {
      "text/plain": [
       "100"
      ]
     },
     "execution_count": 25,
     "metadata": {},
     "output_type": "execute_result"
    }
   ],
   "source": [
    "sk.find_mode(100,201,3,5,90,78,99,34,67)"
   ]
  },
  {
   "cell_type": "markdown",
   "id": "cd2e5f85",
   "metadata": {},
   "source": [
    "- Built-in modules"
   ]
  },
  {
   "cell_type": "code",
   "execution_count": 26,
   "id": "b10fbab4",
   "metadata": {},
   "outputs": [],
   "source": [
    "import platform"
   ]
  },
  {
   "cell_type": "code",
   "execution_count": 27,
   "id": "6a6337e3",
   "metadata": {},
   "outputs": [
    {
     "name": "stdout",
     "output_type": "stream",
     "text": [
      "Windows\n"
     ]
    }
   ],
   "source": [
    "x=platform.system()\n",
    "print(x)"
   ]
  },
  {
   "cell_type": "markdown",
   "id": "bc02964f",
   "metadata": {},
   "source": [
    "- using dir() function"
   ]
  },
  {
   "cell_type": "code",
   "execution_count": 28,
   "id": "b525c326",
   "metadata": {},
   "outputs": [
    {
     "name": "stdout",
     "output_type": "stream",
     "text": [
      "['_Processor', '_WIN32_CLIENT_RELEASES', '_WIN32_SERVER_RELEASES', '__builtins__', '__cached__', '__copyright__', '__doc__', '__file__', '__loader__', '__name__', '__package__', '__spec__', '__version__', '_comparable_version', '_component_re', '_default_architecture', '_follow_symlinks', '_get_machine_win32', '_ironpython26_sys_version_parser', '_ironpython_sys_version_parser', '_java_getprop', '_libc_search', '_mac_ver_xml', '_node', '_norm_version', '_platform', '_platform_cache', '_pypy_sys_version_parser', '_sys_version', '_sys_version_cache', '_sys_version_parser', '_syscmd_file', '_syscmd_ver', '_uname_cache', '_unknown_as_blank', '_ver_output', '_ver_stages', 'architecture', 'collections', 'functools', 'itertools', 'java_ver', 'libc_ver', 'mac_ver', 'machine', 'node', 'os', 'platform', 'processor', 'python_branch', 'python_build', 'python_compiler', 'python_implementation', 'python_revision', 'python_version', 'python_version_tuple', 're', 'release', 'subprocess', 'sys', 'system', 'system_alias', 'uname', 'uname_result', 'version', 'win32_edition', 'win32_is_iot', 'win32_ver']\n"
     ]
    }
   ],
   "source": [
    "print(dir(platform))"
   ]
  },
  {
   "cell_type": "code",
   "execution_count": 29,
   "id": "48ded4cf",
   "metadata": {},
   "outputs": [
    {
     "data": {
      "text/plain": [
       "'AMD64'"
      ]
     },
     "execution_count": 29,
     "metadata": {},
     "output_type": "execute_result"
    }
   ],
   "source": [
    "platform.machine()"
   ]
  },
  {
   "cell_type": "code",
   "execution_count": 32,
   "id": "85276227",
   "metadata": {},
   "outputs": [
    {
     "data": {
      "text/plain": [
       "'Intel64 Family 6 Model 92 Stepping 9, GenuineIntel'"
      ]
     },
     "execution_count": 32,
     "metadata": {},
     "output_type": "execute_result"
    }
   ],
   "source": [
    "platform.processor()"
   ]
  },
  {
   "cell_type": "code",
   "execution_count": 30,
   "id": "a5fb417a",
   "metadata": {},
   "outputs": [
    {
     "data": {
      "text/plain": [
       "'10.0.17134'"
      ]
     },
     "execution_count": 30,
     "metadata": {},
     "output_type": "execute_result"
    }
   ],
   "source": [
    "platform.version()"
   ]
  },
  {
   "cell_type": "code",
   "execution_count": 31,
   "id": "9658f2d2",
   "metadata": {},
   "outputs": [
    {
     "data": {
      "text/plain": [
       "'Core'"
      ]
     },
     "execution_count": 31,
     "metadata": {},
     "output_type": "execute_result"
    }
   ],
   "source": [
    "platform.win32_edition()"
   ]
  },
  {
   "cell_type": "code",
   "execution_count": 33,
   "id": "1fd51e69",
   "metadata": {},
   "outputs": [
    {
     "name": "stdout",
     "output_type": "stream",
     "text": [
      "['__builtins__', '__cached__', '__doc__', '__file__', '__loader__', '__name__', '__package__', '__spec__', 'add', 'colors', 'div', 'find_mean', 'find_mode', 'math', 'month', 'mul', 'person', 'power', 'sqrt', 'st', 'sub']\n"
     ]
    }
   ],
   "source": [
    "print(dir(sk))"
   ]
  },
  {
   "cell_type": "code",
   "execution_count": 34,
   "id": "ea5a0e0b",
   "metadata": {},
   "outputs": [
    {
     "data": {
      "text/plain": [
       "2.808736370683443"
      ]
     },
     "execution_count": 34,
     "metadata": {},
     "output_type": "execute_result"
    }
   ],
   "source": [
    "sk.sqrt(7.889)"
   ]
  },
  {
   "cell_type": "code",
   "execution_count": 39,
   "id": "86219743",
   "metadata": {},
   "outputs": [
    {
     "data": {
      "text/plain": [
       "'march'"
      ]
     },
     "execution_count": 39,
     "metadata": {},
     "output_type": "execute_result"
    }
   ],
   "source": [
    "sk.month[2]"
   ]
  },
  {
   "cell_type": "markdown",
   "id": "51161528",
   "metadata": {},
   "source": [
    "- import from module"
   ]
  },
  {
   "cell_type": "code",
   "execution_count": 40,
   "id": "04443dc2",
   "metadata": {},
   "outputs": [],
   "source": [
    "from samadhan import add,sub,mul"
   ]
  },
  {
   "cell_type": "code",
   "execution_count": 41,
   "id": "22ea968c",
   "metadata": {},
   "outputs": [
    {
     "data": {
      "text/plain": [
       "135"
      ]
     },
     "execution_count": 41,
     "metadata": {},
     "output_type": "execute_result"
    }
   ],
   "source": [
    "add(90,45)"
   ]
  },
  {
   "cell_type": "code",
   "execution_count": 42,
   "id": "b25333c2",
   "metadata": {},
   "outputs": [
    {
     "data": {
      "text/plain": [
       "410400"
      ]
     },
     "execution_count": 42,
     "metadata": {},
     "output_type": "execute_result"
    }
   ],
   "source": [
    "mul(900,456)"
   ]
  },
  {
   "cell_type": "code",
   "execution_count": 43,
   "id": "3ae64bf3",
   "metadata": {},
   "outputs": [
    {
     "data": {
      "text/plain": [
       "-2780"
      ]
     },
     "execution_count": 43,
     "metadata": {},
     "output_type": "execute_result"
    }
   ],
   "source": [
    "sub(3679,6459)"
   ]
  },
  {
   "cell_type": "code",
   "execution_count": 44,
   "id": "4f117b51",
   "metadata": {},
   "outputs": [],
   "source": [
    "from samadhan import*"
   ]
  },
  {
   "cell_type": "code",
   "execution_count": 45,
   "id": "cd2bcfd1",
   "metadata": {},
   "outputs": [
    {
     "data": {
      "text/plain": [
       "98"
      ]
     },
     "execution_count": 45,
     "metadata": {},
     "output_type": "execute_result"
    }
   ],
   "source": [
    "add(90,8)"
   ]
  },
  {
   "cell_type": "code",
   "execution_count": 46,
   "id": "e674d5cc",
   "metadata": {},
   "outputs": [
    {
     "data": {
      "text/plain": [
       "('Black', 'Green', 'Blue')"
      ]
     },
     "execution_count": 46,
     "metadata": {},
     "output_type": "execute_result"
    }
   ],
   "source": [
    "colors"
   ]
  },
  {
   "cell_type": "code",
   "execution_count": null,
   "id": "529ea1c5",
   "metadata": {},
   "outputs": [],
   "source": []
  }
 ],
 "metadata": {
  "kernelspec": {
   "display_name": "Python 3 (ipykernel)",
   "language": "python",
   "name": "python3"
  },
  "language_info": {
   "codemirror_mode": {
    "name": "ipython",
    "version": 3
   },
   "file_extension": ".py",
   "mimetype": "text/x-python",
   "name": "python",
   "nbconvert_exporter": "python",
   "pygments_lexer": "ipython3",
   "version": "3.9.7"
  }
 },
 "nbformat": 4,
 "nbformat_minor": 5
}
