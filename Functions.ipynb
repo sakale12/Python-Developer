{
 "cells": [
  {
   "cell_type": "markdown",
   "id": "9d90bd03",
   "metadata": {},
   "source": [
    "## Python function"
   ]
  },
  {
   "cell_type": "code",
   "execution_count": 1,
   "id": "777edb6f",
   "metadata": {},
   "outputs": [],
   "source": [
    "def my_fun():\n",
    "    print(\"this is my function\")      def <function name>():\n",
    "                                          <conditions/statements>"
   ]
  },
  {
   "cell_type": "code",
   "execution_count": 2,
   "id": "88b3aafb",
   "metadata": {},
   "outputs": [
    {
     "name": "stdout",
     "output_type": "stream",
     "text": [
      "this is my function\n"
     ]
    }
   ],
   "source": [
    "my_fun()"
   ]
  },
  {
   "cell_type": "markdown",
   "id": "f0809db0",
   "metadata": {},
   "source": [
    "## argument"
   ]
  },
  {
   "cell_type": "code",
   "execution_count": 3,
   "id": "2f48610e",
   "metadata": {},
   "outputs": [],
   "source": [
    "def my_fun(a):\n",
    "    print(a+5)\n",
    "    print(a+9)"
   ]
  },
  {
   "cell_type": "code",
   "execution_count": 6,
   "id": "252b5a56",
   "metadata": {},
   "outputs": [
    {
     "name": "stdout",
     "output_type": "stream",
     "text": [
      "10\n",
      "14\n"
     ]
    }
   ],
   "source": [
    "my_fun(5)"
   ]
  },
  {
   "cell_type": "code",
   "execution_count": 10,
   "id": "a54b3372",
   "metadata": {},
   "outputs": [],
   "source": [
    "def my_fun(fname,lname):\n",
    "    print(\"my name is\"+\" \"+fname+\" \"+lname)"
   ]
  },
  {
   "cell_type": "code",
   "execution_count": 11,
   "id": "825b0cff",
   "metadata": {},
   "outputs": [
    {
     "name": "stdout",
     "output_type": "stream",
     "text": [
      "my name is samadhan kale\n"
     ]
    }
   ],
   "source": [
    "my_fun(\"samadhan\",\"kale\")"
   ]
  },
  {
   "cell_type": "markdown",
   "id": "4388d849",
   "metadata": {},
   "source": [
    "## Arbitrary arguments , *args"
   ]
  },
  {
   "cell_type": "code",
   "execution_count": 16,
   "id": "4914a7f5",
   "metadata": {},
   "outputs": [],
   "source": [
    "def my_fun(*kids):\n",
    "    print(\"the oldest child is\"+\" \"+kids[2])"
   ]
  },
  {
   "cell_type": "code",
   "execution_count": 17,
   "id": "ef139e82",
   "metadata": {},
   "outputs": [
    {
     "name": "stdout",
     "output_type": "stream",
     "text": [
      "the oldest child is shyam\n"
     ]
    }
   ],
   "source": [
    "my_fun(\"ram\",\"jack\",\"shyam\",\"radha\")"
   ]
  },
  {
   "cell_type": "markdown",
   "id": "6badb136",
   "metadata": {},
   "source": [
    "## keyword arguments"
   ]
  },
  {
   "cell_type": "code",
   "execution_count": 20,
   "id": "43d8b996",
   "metadata": {},
   "outputs": [],
   "source": [
    "## key=vale\n",
    "def my_fun(x=4,y=7,z=9):\n",
    "    print(x+y+z)\n",
    "    print(x-y)\n",
    "    print(y+z)"
   ]
  },
  {
   "cell_type": "code",
   "execution_count": 22,
   "id": "f4eb348e",
   "metadata": {},
   "outputs": [
    {
     "name": "stdout",
     "output_type": "stream",
     "text": [
      "21\n",
      "-4\n",
      "16\n"
     ]
    }
   ],
   "source": [
    "my_fun(x=5,y=9,z=7)"
   ]
  },
  {
   "cell_type": "markdown",
   "id": "c5a65b07",
   "metadata": {},
   "source": [
    "## Arbitrary keyword arguments"
   ]
  },
  {
   "cell_type": "code",
   "execution_count": 23,
   "id": "3d8bc1e6",
   "metadata": {},
   "outputs": [],
   "source": [
    "def my_fun(**kid):\n",
    "    print(\"his last name is\"+\" \"+kid[\"lname\"])"
   ]
  },
  {
   "cell_type": "code",
   "execution_count": 24,
   "id": "295edeaf",
   "metadata": {},
   "outputs": [
    {
     "name": "stdout",
     "output_type": "stream",
     "text": [
      "his last name is sharma\n"
     ]
    }
   ],
   "source": [
    "my_fun(fname=\"ram\",lname=\"sharma\")"
   ]
  },
  {
   "cell_type": "markdown",
   "id": "da9e6f6f",
   "metadata": {},
   "source": [
    "## default parameter value"
   ]
  },
  {
   "cell_type": "code",
   "execution_count": 27,
   "id": "5b4c28e6",
   "metadata": {},
   "outputs": [],
   "source": [
    "def resident(country=\"India\"):\n",
    "    print(\"I am from \",country)"
   ]
  },
  {
   "cell_type": "code",
   "execution_count": 30,
   "id": "09647596",
   "metadata": {},
   "outputs": [
    {
     "name": "stdout",
     "output_type": "stream",
     "text": [
      "I am from  russia\n"
     ]
    }
   ],
   "source": [
    "resident(\"russia\")"
   ]
  },
  {
   "cell_type": "markdown",
   "id": "81b86a2c",
   "metadata": {},
   "source": [
    "## passing list as an argument"
   ]
  },
  {
   "cell_type": "code",
   "execution_count": 31,
   "id": "9fd69132",
   "metadata": {},
   "outputs": [],
   "source": [
    "def my_fun(food):\n",
    "    for x in food:\n",
    "        print(x)"
   ]
  },
  {
   "cell_type": "code",
   "execution_count": 32,
   "id": "1d0d790c",
   "metadata": {},
   "outputs": [
    {
     "name": "stdout",
     "output_type": "stream",
     "text": [
      "apple\n",
      "banana\n",
      "cherry\n"
     ]
    }
   ],
   "source": [
    "fruit=[\"apple\",\"banana\",\"cherry\"]\n",
    "my_fun(fruit)"
   ]
  },
  {
   "cell_type": "code",
   "execution_count": 33,
   "id": "fb5af398",
   "metadata": {},
   "outputs": [],
   "source": [
    "def my_fun(food):\n",
    "    for x in food:\n",
    "        return x"
   ]
  },
  {
   "cell_type": "code",
   "execution_count": 34,
   "id": "16c7811f",
   "metadata": {},
   "outputs": [
    {
     "data": {
      "text/plain": [
       "'apple'"
      ]
     },
     "execution_count": 34,
     "metadata": {},
     "output_type": "execute_result"
    }
   ],
   "source": [
    "fruit=[\"apple\",\"banana\",\"cherry\"]\n",
    "my_fun(fruit)"
   ]
  },
  {
   "cell_type": "code",
   "execution_count": 35,
   "id": "cd7d99aa",
   "metadata": {},
   "outputs": [],
   "source": [
    "def resident():\n",
    "    pass"
   ]
  },
  {
   "cell_type": "code",
   "execution_count": 36,
   "id": "189d14e9",
   "metadata": {},
   "outputs": [],
   "source": [
    "resident()"
   ]
  },
  {
   "cell_type": "markdown",
   "id": "4aea3a0c",
   "metadata": {},
   "source": [
    "## map()"
   ]
  },
  {
   "cell_type": "code",
   "execution_count": null,
   "id": "18459933",
   "metadata": {},
   "outputs": [],
   "source": [
    "## Syntax:\n",
    " map(func,iterable)"
   ]
  },
  {
   "cell_type": "code",
   "execution_count": 9,
   "id": "e8ceb838",
   "metadata": {},
   "outputs": [],
   "source": [
    "def myfunc(a):\n",
    "    return a*2"
   ]
  },
  {
   "cell_type": "code",
   "execution_count": 10,
   "id": "73505084",
   "metadata": {},
   "outputs": [
    {
     "data": {
      "text/plain": [
       "<map at 0x17342f2e760>"
      ]
     },
     "execution_count": 10,
     "metadata": {},
     "output_type": "execute_result"
    }
   ],
   "source": [
    "x=map(myfunc,(\"a\",\"b\",\"c\"))\n",
    "x"
   ]
  },
  {
   "cell_type": "code",
   "execution_count": 11,
   "id": "59673722",
   "metadata": {},
   "outputs": [
    {
     "name": "stdout",
     "output_type": "stream",
     "text": [
      "['aa', 'bb', 'cc']\n"
     ]
    }
   ],
   "source": [
    "print(list(x))"
   ]
  },
  {
   "cell_type": "markdown",
   "id": "7dab4074",
   "metadata": {},
   "source": [
    "## filter()"
   ]
  },
  {
   "cell_type": "code",
   "execution_count": null,
   "id": "3abe6ef0",
   "metadata": {},
   "outputs": [],
   "source": [
    "# syntax:\n",
    "filter(func,iterable)"
   ]
  },
  {
   "cell_type": "code",
   "execution_count": 12,
   "id": "df539e56",
   "metadata": {},
   "outputs": [],
   "source": [
    "ages=[5,12,17,18,24,32]\n",
    "def adults(x):\n",
    "    if x<18:\n",
    "        return False\n",
    "    else:\n",
    "        return True"
   ]
  },
  {
   "cell_type": "code",
   "execution_count": 13,
   "id": "0faddf32",
   "metadata": {},
   "outputs": [
    {
     "name": "stdout",
     "output_type": "stream",
     "text": [
      "<filter object at 0x0000017342F2EB20>\n",
      "18\n",
      "24\n",
      "32\n"
     ]
    }
   ],
   "source": [
    "x=filter(adults,ages)\n",
    "print(x)\n",
    "for i in x:\n",
    "    print(i)"
   ]
  },
  {
   "cell_type": "markdown",
   "id": "1fbcfb8d",
   "metadata": {},
   "source": [
    "## reduce()"
   ]
  },
  {
   "cell_type": "code",
   "execution_count": null,
   "id": "7649c4c9",
   "metadata": {},
   "outputs": [],
   "source": [
    "#syntax:\n",
    "reduce(func,iterable)"
   ]
  },
  {
   "cell_type": "code",
   "execution_count": 27,
   "id": "ba0cb63b",
   "metadata": {},
   "outputs": [],
   "source": [
    "t=(2,1,0,2,2,0,0,2)\n",
    "def add(x,y):\n",
    "    return x+y\n"
   ]
  },
  {
   "cell_type": "code",
   "execution_count": 28,
   "id": "5f4d971c",
   "metadata": {},
   "outputs": [
    {
     "data": {
      "text/plain": [
       "9"
      ]
     },
     "execution_count": 28,
     "metadata": {},
     "output_type": "execute_result"
    }
   ],
   "source": [
    "import functools as f\n",
    "f.reduce(add,t)\n",
    "\n"
   ]
  },
  {
   "cell_type": "markdown",
   "id": "c88cf397",
   "metadata": {},
   "source": [
    "## Lambda functions"
   ]
  },
  {
   "cell_type": "code",
   "execution_count": null,
   "id": "d3a6b0a4",
   "metadata": {},
   "outputs": [],
   "source": [
    "## syntax:\n",
    "lambda arguments:expression"
   ]
  },
  {
   "cell_type": "code",
   "execution_count": 29,
   "id": "7efbfad9",
   "metadata": {},
   "outputs": [
    {
     "data": {
      "text/plain": [
       "<function __main__.<lambda>(a)>"
      ]
     },
     "execution_count": 29,
     "metadata": {},
     "output_type": "execute_result"
    }
   ],
   "source": [
    "x=lambda a:a+10\n",
    "x"
   ]
  },
  {
   "cell_type": "code",
   "execution_count": 30,
   "id": "dfff3474",
   "metadata": {},
   "outputs": [
    {
     "data": {
      "text/plain": [
       "15"
      ]
     },
     "execution_count": 30,
     "metadata": {},
     "output_type": "execute_result"
    }
   ],
   "source": [
    "x(5)"
   ]
  },
  {
   "cell_type": "code",
   "execution_count": 31,
   "id": "a77a1128",
   "metadata": {},
   "outputs": [
    {
     "data": {
      "text/plain": [
       "<function __main__.<lambda>(a, b)>"
      ]
     },
     "execution_count": 31,
     "metadata": {},
     "output_type": "execute_result"
    }
   ],
   "source": [
    "x=lambda a,b:a*b\n",
    "x"
   ]
  },
  {
   "cell_type": "code",
   "execution_count": 32,
   "id": "9881c9c7",
   "metadata": {},
   "outputs": [
    {
     "data": {
      "text/plain": [
       "56"
      ]
     },
     "execution_count": 32,
     "metadata": {},
     "output_type": "execute_result"
    }
   ],
   "source": [
    "x(7,8)"
   ]
  },
  {
   "cell_type": "code",
   "execution_count": 33,
   "id": "20c00479",
   "metadata": {},
   "outputs": [
    {
     "data": {
      "text/plain": [
       "<function __main__.<lambda>(a, b, c)>"
      ]
     },
     "execution_count": 33,
     "metadata": {},
     "output_type": "execute_result"
    }
   ],
   "source": [
    "x=lambda a,b,c:(a+b+c)/3\n",
    "x"
   ]
  },
  {
   "cell_type": "code",
   "execution_count": 34,
   "id": "8d364ad5",
   "metadata": {},
   "outputs": [
    {
     "data": {
      "text/plain": [
       "2.0"
      ]
     },
     "execution_count": 34,
     "metadata": {},
     "output_type": "execute_result"
    }
   ],
   "source": [
    "x(1,2,3)"
   ]
  },
  {
   "cell_type": "code",
   "execution_count": null,
   "id": "6fe0ea11",
   "metadata": {},
   "outputs": [],
   "source": []
  }
 ],
 "metadata": {
  "kernelspec": {
   "display_name": "Python 3 (ipykernel)",
   "language": "python",
   "name": "python3"
  },
  "language_info": {
   "codemirror_mode": {
    "name": "ipython",
    "version": 3
   },
   "file_extension": ".py",
   "mimetype": "text/x-python",
   "name": "python",
   "nbconvert_exporter": "python",
   "pygments_lexer": "ipython3",
   "version": "3.9.7"
  }
 },
 "nbformat": 4,
 "nbformat_minor": 5
}
