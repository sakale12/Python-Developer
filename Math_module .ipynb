{
 "cells": [
  {
   "cell_type": "code",
   "execution_count": 1,
   "id": "bee4a31c",
   "metadata": {},
   "outputs": [],
   "source": [
    "import math"
   ]
  },
  {
   "cell_type": "code",
   "execution_count": 42,
   "id": "308b168f",
   "metadata": {},
   "outputs": [
    {
     "name": "stdout",
     "output_type": "stream",
     "text": [
      "['__doc__', '__loader__', '__name__', '__package__', '__spec__', 'acos', 'acosh', 'asin', 'asinh', 'atan', 'atan2', 'atanh', 'ceil', 'comb', 'copysign', 'cos', 'cosh', 'degrees', 'dist', 'e', 'erf', 'erfc', 'exp', 'expm1', 'fabs', 'factorial', 'floor', 'fmod', 'frexp', 'fsum', 'gamma', 'gcd', 'hypot', 'inf', 'isclose', 'isfinite', 'isinf', 'isnan', 'isqrt', 'lcm', 'ldexp', 'lgamma', 'log', 'log10', 'log1p', 'log2', 'modf', 'nan', 'nextafter', 'perm', 'pi', 'pow', 'prod', 'radians', 'remainder', 'sin', 'sinh', 'sqrt', 'tan', 'tanh', 'tau', 'trunc', 'ulp']\n"
     ]
    }
   ],
   "source": [
    "print(dir(math))"
   ]
  },
  {
   "cell_type": "markdown",
   "id": "cbe50af9",
   "metadata": {},
   "source": [
    "## Special functions"
   ]
  },
  {
   "cell_type": "code",
   "execution_count": 33,
   "id": "55684fd1",
   "metadata": {},
   "outputs": [
    {
     "data": {
      "text/plain": [
       "0.0"
      ]
     },
     "execution_count": 33,
     "metadata": {},
     "output_type": "execute_result"
    }
   ],
   "source": [
    "math.acos(1)  # Return the arc cosine (measured in radians) of x. x is in -1 to 1"
   ]
  },
  {
   "cell_type": "code",
   "execution_count": 45,
   "id": "9aef1e5e",
   "metadata": {},
   "outputs": [
    {
     "data": {
      "text/plain": [
       "2.0"
      ]
     },
     "execution_count": 45,
     "metadata": {},
     "output_type": "execute_result"
    }
   ],
   "source": [
    "math.copysign(-2,3)  # Return a float with the magnitude (absolute value) of x but the sign of y."
   ]
  },
  {
   "cell_type": "code",
   "execution_count": 42,
   "id": "f28e0f69",
   "metadata": {},
   "outputs": [
    {
     "data": {
      "text/plain": [
       "(0.2999999999999998, 2.0)"
      ]
     },
     "execution_count": 42,
     "metadata": {},
     "output_type": "execute_result"
    }
   ],
   "source": [
    "math.modf(2.3)  # Return the fractional and integer parts of x."
   ]
  },
  {
   "cell_type": "code",
   "execution_count": 41,
   "id": "c0496c57",
   "metadata": {},
   "outputs": [
    {
     "data": {
      "text/plain": [
       "78.0922235533153"
      ]
     },
     "execution_count": 41,
     "metadata": {},
     "output_type": "execute_result"
    }
   ],
   "source": [
    "math.lgamma(32)  # Natural logarithm of absolute value of Gamma function at x."
   ]
  },
  {
   "cell_type": "code",
   "execution_count": 40,
   "id": "d27c352b",
   "metadata": {},
   "outputs": [
    {
     "data": {
      "text/plain": [
       "2.658271574788449e+54"
      ]
     },
     "execution_count": 40,
     "metadata": {},
     "output_type": "execute_result"
    }
   ],
   "source": [
    "math.gamma(45)"
   ]
  },
  {
   "cell_type": "code",
   "execution_count": 39,
   "id": "2e538f41",
   "metadata": {},
   "outputs": [
    {
     "data": {
      "text/plain": [
       "15.0"
      ]
     },
     "execution_count": 39,
     "metadata": {},
     "output_type": "execute_result"
    }
   ],
   "source": [
    "l=[1,2,3,4,5]\n",
    "math.fsum(l)"
   ]
  },
  {
   "cell_type": "code",
   "execution_count": 38,
   "id": "47a4f356",
   "metadata": {},
   "outputs": [
    {
     "data": {
      "text/plain": [
       "120"
      ]
     },
     "execution_count": 38,
     "metadata": {},
     "output_type": "execute_result"
    }
   ],
   "source": [
    "l=[1,2,3,4,5]\n",
    "math.prod(l)"
   ]
  },
  {
   "cell_type": "code",
   "execution_count": 37,
   "id": "193d64d0",
   "metadata": {},
   "outputs": [
    {
     "data": {
      "text/plain": [
       "19.085536923187668"
      ]
     },
     "execution_count": 37,
     "metadata": {},
     "output_type": "execute_result"
    }
   ],
   "source": [
    "math.expm1(3)   # Return exp(x)-1."
   ]
  },
  {
   "cell_type": "code",
   "execution_count": 36,
   "id": "ba31c691",
   "metadata": {},
   "outputs": [
    {
     "data": {
      "text/plain": [
       "0.6435011087932844"
      ]
     },
     "execution_count": 36,
     "metadata": {},
     "output_type": "execute_result"
    }
   ],
   "source": [
    "math.atan2(3,4)  #Return the arc tangent (measured in radians) of y/x."
   ]
  },
  {
   "cell_type": "code",
   "execution_count": 28,
   "id": "5e9967b6",
   "metadata": {},
   "outputs": [
    {
     "data": {
      "text/plain": [
       "1.3169578969248166"
      ]
     },
     "execution_count": 28,
     "metadata": {},
     "output_type": "execute_result"
    }
   ],
   "source": [
    "math.acosh(2)   # Return the inverse hyperbolic cosine of x."
   ]
  },
  {
   "cell_type": "code",
   "execution_count": 34,
   "id": "a94c260f",
   "metadata": {},
   "outputs": [
    {
     "data": {
      "text/plain": [
       "1.5707963267948966"
      ]
     },
     "execution_count": 34,
     "metadata": {},
     "output_type": "execute_result"
    }
   ],
   "source": [
    "math.asin(1)   # Return the arc sine (measured in radians) of x. x is in -1 to  1"
   ]
  },
  {
   "cell_type": "code",
   "execution_count": 35,
   "id": "c7e9b1e8",
   "metadata": {},
   "outputs": [
    {
     "data": {
      "text/plain": [
       "4.219723898031069"
      ]
     },
     "execution_count": 35,
     "metadata": {},
     "output_type": "execute_result"
    }
   ],
   "source": [
    "math.asinh(34)  # Return the inverse hyperbolic sine of x."
   ]
  },
  {
   "cell_type": "markdown",
   "id": "318ae33e",
   "metadata": {},
   "source": [
    "## Trigonometric and angular functions"
   ]
  },
  {
   "cell_type": "code",
   "execution_count": 20,
   "id": "e7aeff14",
   "metadata": {},
   "outputs": [
    {
     "data": {
      "text/plain": [
       "180.0"
      ]
     },
     "execution_count": 20,
     "metadata": {},
     "output_type": "execute_result"
    }
   ],
   "source": [
    "math.degrees(math.pi)"
   ]
  },
  {
   "cell_type": "code",
   "execution_count": 22,
   "id": "e5b20ee8",
   "metadata": {},
   "outputs": [
    {
     "data": {
      "text/plain": [
       "0.7853981633974483"
      ]
     },
     "execution_count": 22,
     "metadata": {},
     "output_type": "execute_result"
    }
   ],
   "source": [
    "math.radians(45)"
   ]
  },
  {
   "cell_type": "code",
   "execution_count": 21,
   "id": "f9386bf4",
   "metadata": {},
   "outputs": [
    {
     "data": {
      "text/plain": [
       "270.0"
      ]
     },
     "execution_count": 21,
     "metadata": {},
     "output_type": "execute_result"
    }
   ],
   "source": [
    "math.degrees(3*math.pi/2)"
   ]
  },
  {
   "cell_type": "code",
   "execution_count": 16,
   "id": "8a2f9523",
   "metadata": {},
   "outputs": [
    {
     "name": "stdout",
     "output_type": "stream",
     "text": [
      "0.49999999999999994\n",
      "0.8660254037844387\n",
      "0.5773502691896257\n",
      "0.5478534738880397\n",
      "1.1402383210764286\n",
      "0.48047277815645156\n"
     ]
    }
   ],
   "source": [
    "a=math.pi/6\n",
    "print(math.sin(a))\n",
    "print(math.cos(a))\n",
    "print(math.tan(a))\n",
    "print(math.sinh(a))\n",
    "print(math.cosh(a))\n",
    "print(math.tanh(a))"
   ]
  },
  {
   "cell_type": "code",
   "execution_count": null,
   "id": "73756761",
   "metadata": {},
   "outputs": [],
   "source": []
  },
  {
   "cell_type": "markdown",
   "id": "58bc6ce1",
   "metadata": {},
   "source": [
    "## Logarithmic and power functions"
   ]
  },
  {
   "cell_type": "code",
   "execution_count": 6,
   "id": "03a4dc72",
   "metadata": {},
   "outputs": [
    {
     "data": {
      "text/plain": [
       "9.0"
      ]
     },
     "execution_count": 6,
     "metadata": {},
     "output_type": "execute_result"
    }
   ],
   "source": [
    "math.pow(3,2) # Returns x to the power of y"
   ]
  },
  {
   "cell_type": "code",
   "execution_count": 12,
   "id": "eba44f8a",
   "metadata": {},
   "outputs": [
    {
     "data": {
      "text/plain": [
       "5.129283016944966"
      ]
     },
     "execution_count": 12,
     "metadata": {},
     "output_type": "execute_result"
    }
   ],
   "source": [
    "math.log2(35)  # Return the base 2 logarithm of x."
   ]
  },
  {
   "cell_type": "code",
   "execution_count": 11,
   "id": "3541d65f",
   "metadata": {},
   "outputs": [
    {
     "data": {
      "text/plain": [
       "1.6094379124341003"
      ]
     },
     "execution_count": 11,
     "metadata": {},
     "output_type": "execute_result"
    }
   ],
   "source": [
    "math.log1p(4)  # Return the natural logarithm of 1+x (base e)."
   ]
  },
  {
   "cell_type": "code",
   "execution_count": 10,
   "id": "23c4403a",
   "metadata": {},
   "outputs": [
    {
     "data": {
      "text/plain": [
       "0.3010299956639812"
      ]
     },
     "execution_count": 10,
     "metadata": {},
     "output_type": "execute_result"
    }
   ],
   "source": [
    "math.log10(2)"
   ]
  },
  {
   "cell_type": "code",
   "execution_count": 9,
   "id": "6ee3bc99",
   "metadata": {},
   "outputs": [
    {
     "data": {
      "text/plain": [
       "0.0"
      ]
     },
     "execution_count": 9,
     "metadata": {},
     "output_type": "execute_result"
    }
   ],
   "source": [
    "math.log(1)"
   ]
  },
  {
   "cell_type": "code",
   "execution_count": 8,
   "id": "6cf8035c",
   "metadata": {},
   "outputs": [
    {
     "data": {
      "text/plain": [
       "1.0"
      ]
     },
     "execution_count": 8,
     "metadata": {},
     "output_type": "execute_result"
    }
   ],
   "source": [
    "math.exp(0)  # exponentail of x"
   ]
  },
  {
   "cell_type": "markdown",
   "id": "66e51a0a",
   "metadata": {},
   "source": [
    "## Numeric functions"
   ]
  },
  {
   "cell_type": "code",
   "execution_count": 53,
   "id": "20924d43",
   "metadata": {},
   "outputs": [
    {
     "name": "stdout",
     "output_type": "stream",
     "text": [
      "6\n",
      "3\n"
     ]
    }
   ],
   "source": [
    "a=5.8\n",
    "print(math.ceil(a))  # nearest integer <= the given number\n",
    "print(math.ceil(3))"
   ]
  },
  {
   "cell_type": "code",
   "execution_count": 77,
   "id": "bd531e59",
   "metadata": {},
   "outputs": [
    {
     "data": {
      "text/plain": [
       "2"
      ]
     },
     "execution_count": 77,
     "metadata": {},
     "output_type": "execute_result"
    }
   ],
   "source": [
    "math.floor(2.87) # Returns integer part"
   ]
  },
  {
   "cell_type": "code",
   "execution_count": 76,
   "id": "bb2b5472",
   "metadata": {},
   "outputs": [
    {
     "name": "stdout",
     "output_type": "stream",
     "text": [
      "False\n",
      "True\n"
     ]
    }
   ],
   "source": [
    "print(math.isnan(23))\n",
    "print(math.isnan(math.nan))   # Checks the no.is nan or not"
   ]
  },
  {
   "cell_type": "code",
   "execution_count": 74,
   "id": "7395542b",
   "metadata": {},
   "outputs": [
    {
     "name": "stdout",
     "output_type": "stream",
     "text": [
      "False\n",
      "True\n"
     ]
    }
   ],
   "source": [
    "print(math.isinf(23))\n",
    "print(math.isinf(math.inf))  # Checks the no.is infinite or not"
   ]
  },
  {
   "cell_type": "code",
   "execution_count": 72,
   "id": "bf059212",
   "metadata": {},
   "outputs": [
    {
     "data": {
      "text/plain": [
       "False"
      ]
     },
     "execution_count": 72,
     "metadata": {},
     "output_type": "execute_result"
    }
   ],
   "source": [
    "math.isfinite(math.inf)   # Checks the no.is finite or not"
   ]
  },
  {
   "cell_type": "code",
   "execution_count": 70,
   "id": "8c1b4b59",
   "metadata": {},
   "outputs": [
    {
     "data": {
      "text/plain": [
       "2.0"
      ]
     },
     "execution_count": 70,
     "metadata": {},
     "output_type": "execute_result"
    }
   ],
   "source": [
    "math.sqrt(4)"
   ]
  },
  {
   "cell_type": "code",
   "execution_count": 64,
   "id": "563ce80e",
   "metadata": {},
   "outputs": [
    {
     "data": {
      "text/plain": [
       "40320"
      ]
     },
     "execution_count": 64,
     "metadata": {},
     "output_type": "execute_result"
    }
   ],
   "source": [
    "math.perm(8)  #Number of ways to choose k items from n items without repetition and with order."
   ]
  },
  {
   "cell_type": "code",
   "execution_count": 62,
   "id": "eaffc1ed",
   "metadata": {},
   "outputs": [
    {
     "data": {
      "text/plain": [
       "10"
      ]
     },
     "execution_count": 62,
     "metadata": {},
     "output_type": "execute_result"
    }
   ],
   "source": [
    "math.comb(5,3) #Number of ways to choose k items from n items without repetition and without order"
   ]
  },
  {
   "cell_type": "code",
   "execution_count": 61,
   "id": "9cc8ed89",
   "metadata": {},
   "outputs": [
    {
     "data": {
      "text/plain": [
       "4.47213595499958"
      ]
     },
     "execution_count": 61,
     "metadata": {},
     "output_type": "execute_result"
    }
   ],
   "source": [
    "a=(2,3)\n",
    "b=(0,-1)\n",
    "math.dist(a,b)  # Returns dist. bet two points"
   ]
  },
  {
   "cell_type": "code",
   "execution_count": 60,
   "id": "31ce9b0e",
   "metadata": {},
   "outputs": [
    {
     "data": {
      "text/plain": [
       "34.0"
      ]
     },
     "execution_count": 60,
     "metadata": {},
     "output_type": "execute_result"
    }
   ],
   "source": [
    "math.fabs(34)"
   ]
  },
  {
   "cell_type": "code",
   "execution_count": 59,
   "id": "f3dbc9e1",
   "metadata": {},
   "outputs": [
    {
     "data": {
      "text/plain": [
       "34.0"
      ]
     },
     "execution_count": 59,
     "metadata": {},
     "output_type": "execute_result"
    }
   ],
   "source": [
    "math.fabs(-34)  # return absolute value of no."
   ]
  },
  {
   "cell_type": "code",
   "execution_count": 58,
   "id": "0f73f859",
   "metadata": {},
   "outputs": [
    {
     "data": {
      "text/plain": [
       "1"
      ]
     },
     "execution_count": 58,
     "metadata": {},
     "output_type": "execute_result"
    }
   ],
   "source": [
    "math.gcd(2,3)"
   ]
  },
  {
   "cell_type": "code",
   "execution_count": 57,
   "id": "8a601a55",
   "metadata": {},
   "outputs": [
    {
     "data": {
      "text/plain": [
       "58893"
      ]
     },
     "execution_count": 57,
     "metadata": {},
     "output_type": "execute_result"
    }
   ],
   "source": [
    "math.lcm(67,879)"
   ]
  },
  {
   "cell_type": "code",
   "execution_count": 54,
   "id": "de331d02",
   "metadata": {},
   "outputs": [
    {
     "data": {
      "text/plain": [
       "120"
      ]
     },
     "execution_count": 54,
     "metadata": {},
     "output_type": "execute_result"
    }
   ],
   "source": [
    "math.factorial(5)"
   ]
  },
  {
   "cell_type": "code",
   "execution_count": null,
   "id": "5ff7d073",
   "metadata": {},
   "outputs": [],
   "source": []
  },
  {
   "cell_type": "code",
   "execution_count": null,
   "id": "9b1534cf",
   "metadata": {},
   "outputs": [],
   "source": []
  },
  {
   "cell_type": "markdown",
   "id": "0bac27d3",
   "metadata": {},
   "source": [
    "## Math module"
   ]
  },
  {
   "cell_type": "code",
   "execution_count": 78,
   "id": "a6e95717",
   "metadata": {},
   "outputs": [
    {
     "data": {
      "text/plain": [
       "2.718281828459045"
      ]
     },
     "execution_count": 78,
     "metadata": {},
     "output_type": "execute_result"
    }
   ],
   "source": [
    "math.e"
   ]
  },
  {
   "cell_type": "code",
   "execution_count": 49,
   "id": "b59856db",
   "metadata": {},
   "outputs": [
    {
     "data": {
      "text/plain": [
       "-inf"
      ]
     },
     "execution_count": 49,
     "metadata": {},
     "output_type": "execute_result"
    }
   ],
   "source": [
    "-math.inf"
   ]
  },
  {
   "cell_type": "code",
   "execution_count": 46,
   "id": "0ccb4be4",
   "metadata": {},
   "outputs": [
    {
     "data": {
      "text/plain": [
       "inf"
      ]
     },
     "execution_count": 46,
     "metadata": {},
     "output_type": "execute_result"
    }
   ],
   "source": [
    "math.inf"
   ]
  },
  {
   "cell_type": "code",
   "execution_count": 44,
   "id": "4dbc737d",
   "metadata": {},
   "outputs": [
    {
     "name": "stdout",
     "output_type": "stream",
     "text": [
      "3.141592653589793\n"
     ]
    }
   ],
   "source": [
    "print(math.pi)"
   ]
  },
  {
   "cell_type": "code",
   "execution_count": 45,
   "id": "05303dd9",
   "metadata": {},
   "outputs": [
    {
     "name": "stdout",
     "output_type": "stream",
     "text": [
      "6.283185307179586\n"
     ]
    }
   ],
   "source": [
    "print(math.tau)"
   ]
  },
  {
   "cell_type": "code",
   "execution_count": null,
   "id": "e794cb95",
   "metadata": {},
   "outputs": [],
   "source": []
  }
 ],
 "metadata": {
  "kernelspec": {
   "display_name": "Python 3 (ipykernel)",
   "language": "python",
   "name": "python3"
  },
  "language_info": {
   "codemirror_mode": {
    "name": "ipython",
    "version": 3
   },
   "file_extension": ".py",
   "mimetype": "text/x-python",
   "name": "python",
   "nbconvert_exporter": "python",
   "pygments_lexer": "ipython3",
   "version": "3.9.7"
  }
 },
 "nbformat": 4,
 "nbformat_minor": 5
}
